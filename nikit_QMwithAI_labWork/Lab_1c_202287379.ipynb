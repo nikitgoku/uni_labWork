{
 "cells": [
  {
   "cell_type": "markdown",
   "metadata": {},
   "source": [
    "## Lab 1c (CS824)"
   ]
  },
  {
   "cell_type": "markdown",
   "metadata": {},
   "source": [
    "### Estimate the value of $\\pi$  \n",
    "\n",
    "Let's pretend that we didn't know that value of **_pi_** (spoiler alert - it is 3.1416 to four decimal places), but that we **did** know Pythagoras theorem and also knew that the area of a circle was defined to be the radius of that circle squared times this magical (but unknown) value, $\\pi$.\n",
    "\n",
    "Create a little bit of Python code that implements the 'thought experiment' below and thus provides a way of getting an estimate of $\\pi$.\n",
    "\n",
    "19/09/2021\n"
   ]
  },
  {
   "cell_type": "markdown",
   "metadata": {},
   "source": [
    "### Thought experiment for estimating $\\pi$  \n",
    "\n",
    "Imagine you had a square that had side length of 2a units; as you know, the area of that square would be (length * height) = (2a X 2a) = $(2a)^2$. \n",
    "\n",
    "Now imagine that you had a circle of radius *a*, hopefully it is obvious that this circle would fit perfectly within that square. You don't know the actual value of $\\pi$ but you do know that the area of such a circle can be estimated using the forumla area_of_circle = $\\pi r^2$.\n",
    "\n",
    "Hopefully it is clear, with a little bit of manipulation, that the ratio of the areas of the circle and the square that it is inscribed within is given by $\\pi a^2/(2a)^2$.\n",
    "\n",
    "So, if you threw a bunch of 'random darts' at a board that was bounded by the square (i.e. each dart has an equal chance of falling anywhere within the square) then by counting the number of darts that fell within the circle and comparing that to the total number of darts thrown, you would have the same proportion as you just described above. If you did this with enough darts, then using these two proportions you could get an estimate of $\\pi$.\n"
   ]
  },
  {
   "cell_type": "markdown",
   "metadata": {},
   "source": [
    "### Some hints at Python code\n",
    "I realise that some of you are very new to Python. However, to implement this thought experiment you only need to know about a few elements:\n",
    "\n",
    " - how to allocate values to a variable;\n",
    " - how to structure a simple 'for' loop;\n",
    " - the use of an 'if' statement;\n",
    " - how to generate a random number.\n",
    "\n",
    "So, work within your group (or on your own) to come up with a simple solution. (You can then make it more sophisticated if you like and/or have time, but everyone should manage to create a simple outcome.)\n",
    "\n",
    "You may be able to find full worked solutions on-line, but I would **STRONGLY** suggest that you take a shot at this yourself and only look on the Web for suggestions if you get totally stuck. (There are a couple of hints below...)\n"
   ]
  },
  {
   "cell_type": "code",
   "execution_count": 7,
   "metadata": {},
   "outputs": [],
   "source": [
    "# Useful library (we will use a function from this library to generate our random numbers)\n",
    "import numpy as np\n",
    "from numpy.random import seed\n"
   ]
  },
  {
   "cell_type": "code",
   "execution_count": 9,
   "metadata": {
    "code_folding": []
   },
   "outputs": [
    {
     "name": "stdout",
     "output_type": "stream",
     "text": [
      "Estimated value of pi with 1000 darts: 3.12\n",
      "Estimated value of pi with 10000 darts: 3.1004\n",
      "Estimated value of pi with 100000 darts: 3.1398\n",
      "Estimated value of pi with 1000000 darts: 3.142428\n"
     ]
    }
   ],
   "source": [
    "# Function which estimates the pi value based on the input: dart_count\n",
    "seed(10)\n",
    "def your_fct (dart_count, circle_count):\n",
    "    # for each throw you need to generate a random location on your 2 X 2 dart board\n",
    "    for i in range(dart_count):\n",
    "        x = np.random.uniform(-1,1)\n",
    "        y = np.random.uniform(-1,1)\n",
    "\n",
    "        # Check for the darts that are inside the circle\n",
    "        # The cordinate should fall under the 1 because of the radius co-ordinates\n",
    "        # not being more than 1\n",
    "        if x**2 + y**2 <= 1:\n",
    "            circle_count += 1\n",
    "    # The apporximate rato of the are of the circle part to the area of\n",
    "    # the square part is 1/4*pi\n",
    "    pi_value = 4 * circle_count/dart_count\n",
    "\n",
    "    return pi_value\n",
    "\n",
    "# n = 1000          # You will need a variable to decide how many 'darts' you are planning to throw.\n",
    "count_in = 0      # Initialises a variable that you can use to count the number of 'darts' that land in the circle. \n",
    "\n",
    "# The random.uniform function in numpy generate a random number between (min, max).\n",
    "# By generating these two random numbers, you are simulating the random position of a 'dart' that is throw \n",
    "# at a 2 X 2 square board, with its centre at the location (0,0).\n",
    "\n",
    "# Once you have set the code up you will be able to present your estimate of pi, which you will have \n",
    "# figured out by thinking about the proportions mentioned above.\n",
    "\n",
    "# Function calls\n",
    "my_pi = your_fct (1000, count_in)    # call to the function that you create\n",
    "print(\"Estimated value of pi with 1000 darts:\", my_pi)\n",
    "my_pi = your_fct (10000, count_in)    # call to the function that you create\n",
    "print(\"Estimated value of pi with 10000 darts:\", my_pi)\n",
    "my_pi = your_fct (100000, count_in)    # call to the function that you create\n",
    "print(\"Estimated value of pi with 100000 darts:\", my_pi)\n",
    "my_pi = your_fct (1000000, count_in)    # call to the function that you create\n",
    "print(\"Estimated value of pi with 1000000 darts:\", my_pi)\n"
   ]
  },
  {
   "cell_type": "markdown",
   "metadata": {},
   "source": [
    "### Your submission\n",
    "\n",
    "Please submit your own version of this *Notebook* (i.e. re-name it to include your student ID, or both) that has the code you have developed in the cell(s) above.\n",
    "\n",
    "Also please report the values of $\\pi$ that you found for the following numbers of 'darts':\n",
    "\n",
    "N = 1,000\n",
    "N = 10,000\n",
    "N = 100,000\n",
    "N = 1,000,000\n",
    "\n",
    "\n",
    "#### Supplimentary element\n",
    "\n",
    "Some of you will have noticed that these four estimates of $\\pi$ change every time you re-run the experiment. That is to be expected, it is the nature of the random function.  However, you can also make a very minor change to ensure that you get the **same** value for each run of the experiment. (The estimates will still change - as you would hopefully expect - when you move from 1,000 to 100,000 dart throws, but each time you run a '1,000 darts experiment' you will get the same estimate.)\n",
    "\n",
    "If you happen to add this element then please again provide the four estimates (from 1,000 to 1M) below:\n"
   ]
  },
  {
   "cell_type": "code",
   "execution_count": null,
   "metadata": {},
   "outputs": [],
   "source": []
  }
 ],
 "metadata": {
  "kernelspec": {
   "display_name": "Python 3 (ipykernel)",
   "language": "python",
   "name": "python3"
  },
  "language_info": {
   "codemirror_mode": {
    "name": "ipython",
    "version": 3
   },
   "file_extension": ".py",
   "mimetype": "text/x-python",
   "name": "python",
   "nbconvert_exporter": "python",
   "pygments_lexer": "ipython3",
   "version": "3.9.12"
  },
  "toc": {
   "base_numbering": 1,
   "nav_menu": {},
   "number_sections": true,
   "sideBar": true,
   "skip_h1_title": false,
   "title_cell": "Table of Contents",
   "title_sidebar": "Contents",
   "toc_cell": false,
   "toc_position": {},
   "toc_section_display": "block",
   "toc_window_display": false
  },
  "varInspector": {
   "cols": {
    "lenName": 16,
    "lenType": 16,
    "lenVar": 40
   },
   "kernels_config": {
    "python": {
     "delete_cmd_postfix": "",
     "delete_cmd_prefix": "del ",
     "library": "var_list.py",
     "varRefreshCmd": "print(var_dic_list())"
    },
    "r": {
     "delete_cmd_postfix": ") ",
     "delete_cmd_prefix": "rm(",
     "library": "var_list.r",
     "varRefreshCmd": "cat(var_dic_list()) "
    }
   },
   "types_to_exclude": [
    "module",
    "function",
    "builtin_function_or_method",
    "instance",
    "_Feature"
   ],
   "window_display": false
  },
  "widgets": {
   "state": {
    "06342787fc83420090517274b05d5fba": {
     "views": [
      {
       "cell_index": 17
      }
     ]
    },
    "10b7cb93e49f43d08c451a6a73d34842": {
     "views": [
      {
       "cell_index": 9
      }
     ]
    },
    "19687c7227974da39b419fd16e784c40": {
     "views": [
      {
       "cell_index": 4
      }
     ]
    },
    "477809c81aed4541adcd72d5114e8618": {
     "views": [
      {
       "cell_index": 15
      }
     ]
    },
    "5724c25ac8f741e8b9ac510596c7eeab": {
     "views": [
      {
       "cell_index": 1
      }
     ]
    },
    "6ca6f5f6d25440b8a6af5b6a5aa3147f": {
     "views": [
      {
       "cell_index": 11
      }
     ]
    },
    "8ad0554813334456a86b755833044bc2": {
     "views": [
      {
       "cell_index": 19
      }
     ]
    },
    "ad67784fca70431ca34d4f814ad20c43": {
     "views": [
      {
       "cell_index": 13
      }
     ]
    },
    "d875e7204fe84a69a391b922d0e0b42c": {
     "views": [
      {
       "cell_index": 11
      }
     ]
    },
    "de83bddf07ae4ec795ad20d93d088a90": {
     "views": [
      {
       "cell_index": 11
      }
     ]
    },
    "f997078b84384a68a0bb56b5e6dfa5f9": {
     "views": [
      {
       "cell_index": 6
      }
     ]
    }
   },
   "version": "1.2.0"
  }
 },
 "nbformat": 4,
 "nbformat_minor": 2
}
