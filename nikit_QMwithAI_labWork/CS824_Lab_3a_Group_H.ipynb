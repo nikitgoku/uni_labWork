{
  "cells": [
    {
      "cell_type": "markdown",
      "metadata": {
        "id": "U49COl8XYJf3"
      },
      "source": [
        "<div style=\"text-align: right\"> CS824 - Lab 3a (2022) </div>\n",
        "\n",
        "# Practical Introduction to Probability\n",
        "\n",
        "Before we get into the coding, a quick reminder of some terminology:\n",
        "\n",
        "**Experiment**: an occurance haivng an uncertain outcome that we can observe.\n",
        "<br>e.g. *Rolling a 6-sided die*\n",
        "\n",
        "**Sample space**: the set of all possible outcomes.\n",
        "<br>e.g. `{1,2,3,4,5,6}`\n",
        "\n",
        "**Outcome**: the result of an experiment (sometimes called an *atomic event*).\n",
        "<br>e.g. `{5}`\n",
        "\n",
        "**Event**: a subset of possible outcomes (one or more atomic events) that together are what we are interested in.\n",
        "<br>e.g. `{2, 4, 6}`\n",
        "\n",
        "**Probability value (or distribution)**: a mapping of every possible event to a number (or density function) in the range [0 - 1] that represents how likely this particular event is.\n",
        "<br>e.g. `E` = {1, 3, 5}\n",
        "<br>**P**(`E`) = 0.50\n",
        "\n",
        "\n",
        "<br>\n",
        "This lab draws heavily on a great tutorial created by **Peter Norvig** from 2016, in it he states that the key motivation was based on the simple statement of Pierre-Simon Laplace made in 1814 (so researchers have been thinking hard about probability for over two centuries!):\n",
        "> Probability ... is thus simply a fraction whose numerator is the number of favorable cases and whose denominator is the number of all the cases possible ... when nothing leads us to expect that any one of these cases should occur more than any other.\n",
        "\n",
        "However, any errors that may have been introduced by short-cuts and/or alterations, are entirely my fault...\n"
      ]
    },
    {
      "cell_type": "markdown",
      "metadata": {
        "button": false,
        "id": "4oEDzJnUYJf5",
        "new_sheet": false,
        "run_control": {
          "read_only": false
        }
      },
      "source": [
        "## Code for `unif_P` \n",
        "\n",
        "We normally use `P` to refer to the probability function. We can construct a function (`unif_P`) that is a bit more limited and is based on the *discrete uniform probabilty law* - i.e. using Laplace's idea of two sets of countable elements (what he referred to as \"cases\").\n"
      ]
    },
    {
      "cell_type": "code",
      "execution_count": 1,
      "metadata": {
        "button": false,
        "id": "wyK9KYH1YJf8",
        "new_sheet": false,
        "run_control": {
          "read_only": false
        }
      },
      "outputs": [],
      "source": [
        "def unif_P(event, sample_space): \n",
        "    \"\"\"Returns the probability of an event, given a [sample_space] of outcomes that are all equally likely. \n",
        "    The function assumes that it is being passed two {set} objects, for which there are a range of Python \n",
        "    operators to allow for simple manipulation of the elements in each set.\"\"\"\n",
        "    \n",
        "    prob_real = len(event) / len(sample_space)\n",
        "    return prob_real"
      ]
    },
    {
      "cell_type": "markdown",
      "metadata": {
        "button": false,
        "id": "hVnPMHAPYJf8",
        "new_sheet": false,
        "run_control": {
          "read_only": false
        }
      },
      "source": [
        "\n",
        "## Let's see how this might work for the case of rolling a die\n",
        "\n",
        "Let's assume we have a fair six-sided die...  what is the probability of rolling an even number?  \n",
        "\n",
        "We can define the sample space `six_sided_die` and an event `even`. We can then use our function to compute the probability..."
      ]
    },
    {
      "cell_type": "code",
      "execution_count": 2,
      "metadata": {
        "button": false,
        "id": "UchuynRFYJf9",
        "new_sheet": false,
        "outputId": "8116e8e9-caca-4810-8677-fc7bcffdf4ac",
        "run_control": {
          "read_only": false
        }
      },
      "outputs": [
        {
          "data": {
            "text/plain": [
              "0.5"
            ]
          },
          "execution_count": 2,
          "metadata": {},
          "output_type": "execute_result"
        }
      ],
      "source": [
        "six_sided_die = {1, 2, 3, 4, 5, 6}\n",
        "even = {2, 4, 6}\n",
        "\n",
        "unif_P(even, six_sided_die)"
      ]
    },
    {
      "cell_type": "markdown",
      "metadata": {
        "button": false,
        "id": "9peu6hGgYJf-",
        "new_sheet": false,
        "run_control": {
          "read_only": false
        }
      },
      "source": [
        "OK - that seemed to work, but we could have done that calculation in our heads! Did we really need Python?!  Well let's be patient as we will soon get to some sets/calculations that are not so trivial. \n",
        "\n",
        "Also, will this function always give us the correct answer? It should if our inputs are 'well behaved', but what will happen if we do something like what is shown in the next cell?"
      ]
    },
    {
      "cell_type": "code",
      "execution_count": 3,
      "metadata": {
        "button": false,
        "id": "agIGX8SLYJf-",
        "new_sheet": false,
        "outputId": "e208b912-6438-4a31-b0c4-8bf4a8f33080",
        "run_control": {
          "read_only": false
        }
      },
      "outputs": [
        {
          "data": {
            "text/plain": [
              "1.0"
            ]
          },
          "execution_count": 3,
          "metadata": {},
          "output_type": "execute_result"
        }
      ],
      "source": [
        "even2 = {2, 4, 6, 8, 10, 12}\n",
        "\n",
        "unif_P(even2, six_sided_die)"
      ]
    },
    {
      "cell_type": "markdown",
      "metadata": {
        "button": false,
        "id": "CLLWqq5hYJf_",
        "new_sheet": false,
        "run_control": {
          "read_only": false
        }
      },
      "source": [
        "The members of the set `even2` are indeed all even numbers but half of them do not belong in our current sample space, perhaps this variable was intended to be used in a situation where two dice were being thrown...  We can modify our function by applying the `&` operator to elements on the numerator, thus ensuring that **_only_** those members of `event` which actually belong in the `sample_space` are included.\n",
        "\n",
        "The modified function can be seen below..."
      ]
    },
    {
      "cell_type": "code",
      "execution_count": 4,
      "metadata": {
        "button": false,
        "id": "glSl5Ny0YJf_",
        "new_sheet": false,
        "run_control": {
          "read_only": false
        }
      },
      "outputs": [],
      "source": [
        "def unif_P(event, sample_space): \n",
        "    \"\"\"Returns the probability of an event, given a sample space of outcomes that are all equally likely. Uses set objects\n",
        "    in Python where it is simple to manipulate the elements in each set.\"\"\"\n",
        "    \n",
        "    prob_real = len(event & sample_space) / len(sample_space)\n",
        "    return prob_real"
      ]
    },
    {
      "cell_type": "code",
      "execution_count": 5,
      "metadata": {
        "button": false,
        "id": "gfcI-32ZYJgA",
        "new_sheet": false,
        "outputId": "9a275589-7363-4600-c477-92aa0d893859",
        "run_control": {
          "read_only": false
        }
      },
      "outputs": [
        {
          "data": {
            "text/plain": [
              "0.5"
            ]
          },
          "execution_count": 5,
          "metadata": {},
          "output_type": "execute_result"
        }
      ],
      "source": [
        "even2 = {2, 4, 6, 8, 10, 12}\n",
        "\n",
        "unif_P(even2, six_sided_die)"
      ]
    },
    {
      "cell_type": "markdown",
      "metadata": {
        "button": false,
        "id": "xU_P9BZ3YJgC",
        "new_sheet": false,
        "run_control": {
          "read_only": false
        }
      },
      "source": [
        "That seemed to work.  It could be seen as a little bit of a 'fudge' as we probably should not allow elements that are not in the sample space to be passed to the function at all, but this works and is a bit simpler than putting in lots of exception clauses and returning error values, etc.\n",
        "\n",
        "One other thing that may be a problem is that we are returning real values, which can look a bit 'ugly', but more importantly can also introduce rounding errors (as you can see below)...\n"
      ]
    },
    {
      "cell_type": "code",
      "execution_count": 6,
      "metadata": {
        "button": false,
        "id": "2nQMUd_hYJgD",
        "new_sheet": false,
        "outputId": "f2a014c9-6929-4be9-e186-86d17a7b3b3e",
        "run_control": {
          "read_only": false
        }
      },
      "outputs": [
        {
          "data": {
            "text/plain": [
              "0.3333333333333333"
            ]
          },
          "execution_count": 6,
          "metadata": {},
          "output_type": "execute_result"
        }
      ],
      "source": [
        "four_or_five = {4, 5}\n",
        "\n",
        "unif_P(four_or_five, six_sided_die)"
      ]
    },
    {
      "cell_type": "markdown",
      "metadata": {
        "button": false,
        "id": "zbokuvdiYJgE",
        "new_sheet": false,
        "run_control": {
          "read_only": false
        }
      },
      "source": [
        "So in the final version (for now) of our `unif_P` function, we will use the `Fraction` function to return exact values...  but we will also provide a five decimal place version of the equivalent real number after this as that can be a useful quick estimate for those of us not so good at doing fractions in our head.\n"
      ]
    },
    {
      "cell_type": "code",
      "execution_count": 7,
      "metadata": {
        "button": false,
        "id": "yDB4agtlYJgF",
        "new_sheet": false,
        "run_control": {
          "read_only": false
        }
      },
      "outputs": [],
      "source": [
        "from fractions import Fraction\n",
        "\n",
        "def unif_P(event, sample_space): \n",
        "    \"\"\"Returns the probability of an event, given a sample space of outcomes that are all equally likely. Uses set objects\n",
        "    in Python where it is simple to manipulate the elements in each set.\"\"\"\n",
        "    \n",
        "    prob_fraction = Fraction(len(event & sample_space), len(sample_space))\n",
        "    # I realise that these next 3 lines could be done as a single line, but many are just starting out in Python...\n",
        "    # Indeed we don't really 'need' any of the variables here and could have directly specified the return\n",
        "    # line with all of the calculations - but I'm not sure that would be as informative from a 'learning' perspective.\n",
        "    prob_real = len(event & sample_space) / len(sample_space)\n",
        "    prob_real_txt1 = str(prob_real)\n",
        "    prob_real_txt = \"=\" + '{:.7}'.format(prob_real_txt1)\n",
        "    return prob_fraction, prob_real_txt"
      ]
    },
    {
      "cell_type": "code",
      "execution_count": 8,
      "metadata": {
        "button": false,
        "id": "w_0kl8taYJgF",
        "new_sheet": false,
        "outputId": "09f04f07-e5eb-4040-eee9-dd95ed0afd6b",
        "run_control": {
          "read_only": false
        }
      },
      "outputs": [
        {
          "data": {
            "text/plain": [
              "(Fraction(1, 3), '=0.33333')"
            ]
          },
          "execution_count": 8,
          "metadata": {},
          "output_type": "execute_result"
        }
      ],
      "source": [
        "four_or_five = {4, 5}\n",
        "\n",
        "unif_P(four_or_five, six_sided_die)"
      ]
    },
    {
      "cell_type": "markdown",
      "metadata": {
        "button": false,
        "id": "jKI05ympYJgF",
        "new_sheet": false,
        "run_control": {
          "read_only": false
        }
      },
      "source": [
        "\n",
        "\n",
        "# Now let's look inside an 'urn'\n",
        "\n",
        "Working a century before Laplace (early 1700s), Jacob Bernoulli was also writing about probability and one of his favourite ways to illustrate things was to discuss the idea of taking coloured balls from an urn. These feature in his famous thesis *[Ars Conjectandi](https://en.wikipedia.org/wiki/Ars_Conjectandi)*, and ever since that time it has been common to find explanations of probability that refer to the **urn problem**. (Those who watched the MrNystrom video will have seen his 'poker chips in bag' variant of this!)\n",
        "\n",
        "\n",
        "Here is an example of the type of problem that we might typically be asked to explore:\n",
        "\n",
        "> An urn contains 23 balls: 8 white, 6 blue, and 9 red. We will now select **six** balls at random where each ball is equally likely to be selected. What is the probability of various possible outcomes? e.g.:\n",
        "> - all balls are white\n",
        "> - exactly 4 balls are red\n",
        "> - 3 are blue, 2 are red, and 1 is white\n",
        "> - etc.\n",
        "\n",
        "So, each **outcome** involves a set of 6 balls, and the **sample space** is the set of all possible 6 ball combinations. Let's see whether we can solve problems of this type using our `unif_P` function, and some basic arithmetic - using the *counting* ideas we noted in the lecture (permutation, combinations, etc.). However, when thinking about *counting* here we need to remember that:\n",
        "1. we have multiple balls of the same color. \n",
        "2. each outcome is a *set* of balls, but the order in which they were selected doesn't matter. (i.e. This is not the same as a *sequence*, where order matters...  Remember the difference between a combination and a permutation. In actual fact a \"combination lock\" should be called a \"permutation lock\" - as order matters!! Similarly, \"give me the combination to your safe\", might not open it!)\n",
        "\n",
        "To account for the first issue, we should label each ball uniquely - e.g. the 8 different white balls will be labelled `'W1'` through `'W8'`, in contrast to just having eight balls all labelled `'W'`.\n",
        "\n",
        "Due to the way in which sets operate in Python (and therefore within our `unif_P` function), the second issue is handled automatically. However, if we were to carry out calculations by hand, we would sometimes have to first count the number of *permutations* of balls, then get the number of *combinations* by dividing the number of permutations by *c*!, where *c* is the number of balls in a combination. \n",
        "\n",
        "For example, if we wanted to choose 2 white balls from the 8 available, there are 8 ways to choose a first white ball and 7 ways to choose a second, and therefore 8 * 7 = 56 permutations of two white balls. But there are only 56 / 2 = 28 combinations, because in the case where sequence is not important `(W1, W2)` is the same combination as `(W2, W1)`. However, due to the way that {sets} operate in our function (countability within Python) this issue is already handled.\n"
      ]
    },
    {
      "cell_type": "markdown",
      "metadata": {
        "id": "m8A5l39fYJgG"
      },
      "source": [
        "We can use some of the nice string concatenation and set features of Python to allow us to generate a set made up of elements whose labels come from one of two lists from each of which we will take a single character.\n"
      ]
    },
    {
      "cell_type": "code",
      "execution_count": 9,
      "metadata": {
        "button": false,
        "id": "1xcxF8KLYJgG",
        "new_sheet": false,
        "run_control": {
          "read_only": false
        }
      },
      "outputs": [],
      "source": [
        "def char_cross(A, B):\n",
        "    \"\"\"Generate a set that contains all ways of concatenating a single character from the collection A with one \n",
        "    from a second collection B.\"\"\"\n",
        "    return {a + b \n",
        "        for a in A for b in B}"
      ]
    },
    {
      "cell_type": "code",
      "execution_count": 10,
      "metadata": {
        "button": false,
        "id": "Zeg190yQYJgG",
        "new_sheet": false,
        "outputId": "c6f8c998-527a-4b1d-8141-fbb6d92247c7",
        "run_control": {
          "read_only": false
        }
      },
      "outputs": [
        {
          "data": {
            "text/plain": [
              "{'W1', 'W2', 'W3', 'W4', 'W5', 'W6', 'W7', 'W8'}"
            ]
          },
          "execution_count": 10,
          "metadata": {},
          "output_type": "execute_result"
        }
      ],
      "source": [
        "urn_white = char_cross('W', '12345678')\n",
        "\n",
        "urn_white"
      ]
    },
    {
      "cell_type": "markdown",
      "metadata": {
        "id": "hrm4VFPbYJgH"
      },
      "source": [
        "So, now we have a set with the white balls but before completing the contents of our urn make sure that you understand the way in which this function works.\n"
      ]
    },
    {
      "cell_type": "markdown",
      "metadata": {
        "id": "izwzP0o4YJgH"
      },
      "source": [
        "## Exerise 1  (SUBMIT)\n",
        "Use the function we have just created (`char_cross`) to generate a set that describes the cards in a normal deck of [playing cards](https://en.wikipedia.org/wiki/Playing_card_suit). (i.e. 4 four suits with cards running from Ace to King in each suit.)\n"
      ]
    },
    {
      "cell_type": "markdown",
      "metadata": {
        "id": "OGM6_lCzYJgH"
      },
      "source": [
        "\n",
        "Assuming that you used a variable named `deck` to capture the output of your function, then entering the Python statements below should result in \"52\" (for the number of cards in your deck) and then a list of all of these 52 cards...\n"
      ]
    },
    {
      "cell_type": "code",
      "execution_count": 11,
      "metadata": {
        "button": false,
        "id": "UGtDGoRpYJgH",
        "new_sheet": false,
        "run_control": {
          "read_only": false
        }
      },
      "outputs": [],
      "source": [
        "'''\n",
        "Representations:\n",
        "D : Diamond\n",
        "H : Hearts\n",
        "C : Club\n",
        "S : Spades\n",
        "A : Ace\n",
        "T : 10\n",
        "J : Joker\n",
        "Q : Queen\n",
        "K : King\n",
        "'''\n",
        "deck = char_cross('DHSC', 'A23456789TJQK')"
      ]
    },
    {
      "cell_type": "code",
      "execution_count": 12,
      "metadata": {
        "button": false,
        "id": "n_hAbBbtYJgH",
        "new_sheet": false,
        "outputId": "f9a67404-b5d8-49f4-c1fe-3e6f811527ac",
        "run_control": {
          "read_only": false
        }
      },
      "outputs": [
        {
          "data": {
            "text/plain": [
              "52"
            ]
          },
          "execution_count": 12,
          "metadata": {},
          "output_type": "execute_result"
        }
      ],
      "source": [
        "len(deck)"
      ]
    },
    {
      "cell_type": "code",
      "execution_count": 13,
      "metadata": {
        "button": false,
        "id": "N-FHMA3TYJgI",
        "new_sheet": false,
        "outputId": "fa2d2e1a-cb18-49e6-8b79-272263a0c78d",
        "run_control": {
          "read_only": false
        }
      },
      "outputs": [
        {
          "name": "stdout",
          "output_type": "stream",
          "text": [
            "{'CA', 'DA', 'DQ', 'H9', 'D8', 'HA', 'H2', 'H4', 'HQ', 'SA', 'D5', 'S3', 'C3', 'D3', 'H7', 'D9', 'D2', 'S2', 'HJ', 'S6', 'H3', 'SQ', 'S5', 'D6', 'H8', 'S8', 'C9', 'HT', 'C6', 'S9', 'C8', 'CQ', 'C4', 'SK', 'S7', 'C2', 'D4', 'DJ', 'H6', 'S4', 'SJ', 'C7', 'CK', 'D7', 'DK', 'CT', 'C5', 'DT', 'HK', 'CJ', 'H5', 'ST'}\n"
          ]
        }
      ],
      "source": [
        "print(deck)"
      ]
    },
    {
      "cell_type": "markdown",
      "metadata": {
        "id": "H6mCxY7iYJgI"
      },
      "source": [
        "You should be aware that {sets} are inherently un-ordered in Python, so the order in which the output appears can sometimes be confusing!\n",
        "\n",
        "For the case of our urn, we can't quite get away with the same approach because the number of balls of each colour is different, so instead we can do the following... (i.e. Generate three sets and `combine` them to describe our urn that contains 8 white, 6 blue, and 9 red balls). \n"
      ]
    },
    {
      "cell_type": "code",
      "execution_count": 14,
      "metadata": {
        "button": false,
        "id": "5QjwgbwIYJgI",
        "new_sheet": false,
        "outputId": "9fd09b67-10a6-4ec9-9419-d55a243b771c",
        "run_control": {
          "read_only": false
        }
      },
      "outputs": [
        {
          "data": {
            "text/plain": [
              "23"
            ]
          },
          "execution_count": 14,
          "metadata": {},
          "output_type": "execute_result"
        }
      ],
      "source": [
        "urn = char_cross('W', '12345678') | char_cross('B', '654321') | char_cross('R', '123456789') \n",
        "\n",
        "len(urn)"
      ]
    },
    {
      "cell_type": "markdown",
      "metadata": {
        "id": "IEX00Da6YJgI"
      },
      "source": [
        "This appears to have generated the 23 elements of our urn, we can also check the actual contents..."
      ]
    },
    {
      "cell_type": "code",
      "execution_count": 15,
      "metadata": {
        "button": false,
        "id": "Dxb5wMz0YJgJ",
        "new_sheet": false,
        "outputId": "eda9f522-953a-45fe-c854-cc34eb9d9f6d",
        "run_control": {
          "read_only": false
        }
      },
      "outputs": [
        {
          "data": {
            "text/plain": [
              "{'B1',\n",
              " 'B2',\n",
              " 'B3',\n",
              " 'B4',\n",
              " 'B5',\n",
              " 'B6',\n",
              " 'R1',\n",
              " 'R2',\n",
              " 'R3',\n",
              " 'R4',\n",
              " 'R5',\n",
              " 'R6',\n",
              " 'R7',\n",
              " 'R8',\n",
              " 'R9',\n",
              " 'W1',\n",
              " 'W2',\n",
              " 'W3',\n",
              " 'W4',\n",
              " 'W5',\n",
              " 'W6',\n",
              " 'W7',\n",
              " 'W8'}"
            ]
          },
          "execution_count": 15,
          "metadata": {},
          "output_type": "execute_result"
        }
      ],
      "source": [
        "urn"
      ]
    },
    {
      "cell_type": "markdown",
      "metadata": {
        "id": "gt_clo-HYJgJ"
      },
      "source": [
        "Notice that in this case the set has been re-ordered by Python into alpha-numneric order... I specified the order of the blue balls in 'reverse' order simply to illustrate this. I am not entirely sure when sets are re-ordered for display in this way - the were not for the 52 card deck example above...  but in general you should assume that sets are **unordered** for the purposes of making reference to them.\n"
      ]
    },
    {
      "cell_type": "markdown",
      "metadata": {
        "button": false,
        "id": "kuiZUy8kYJgJ",
        "new_sheet": false,
        "run_control": {
          "read_only": false
        }
      },
      "source": [
        "OK, so now that we have described the contents of our urn, we are in a position to define the sample space of interest in this problem. Note that we were asked to randomly select six balls from the urn, so lets define `U6` to be the set of all possible 6-ball combinations.\n",
        "\n",
        "As you might imagine there are some handy tools for carrying out 'counting' operations on sets on Python and we are going to use the `itertools` library to help us here. You can read more about the 'combinations' iterator and others at the Python documentation site under [Cominatoric generators](https://docs.python.org/3.7/library/itertools.html). \n"
      ]
    },
    {
      "cell_type": "code",
      "execution_count": 16,
      "metadata": {
        "button": false,
        "id": "FooZ5ypBYJgJ",
        "new_sheet": false,
        "run_control": {
          "read_only": false
        }
      },
      "outputs": [],
      "source": [
        "import itertools\n",
        "\n",
        "def combos(items, n):\n",
        "    \"All combinations of n items; with each set member/combination being returned as a concatenated string.\"\n",
        "    return {' '.join(combo) \n",
        "            for combo in itertools.combinations(items, n)}\n"
      ]
    },
    {
      "cell_type": "markdown",
      "metadata": {
        "button": false,
        "id": "Q5uiTuzwYJgK",
        "new_sheet": false,
        "run_control": {
          "read_only": false
        }
      },
      "source": [
        "We have used `itertools.combinations` to generate all specified combinations and then join each string combination into an output set.\n",
        "\n",
        "If we call this function with n=6 (i.e. the various 6-ball members from the sample space of our urn), how large is this space?"
      ]
    },
    {
      "cell_type": "code",
      "execution_count": 17,
      "metadata": {
        "button": false,
        "id": "CSGZt6WKYJgK",
        "new_sheet": false,
        "run_control": {
          "read_only": false
        }
      },
      "outputs": [],
      "source": [
        "U6 = combos(urn, 6)"
      ]
    },
    {
      "cell_type": "code",
      "execution_count": 18,
      "metadata": {
        "button": false,
        "id": "AxEtjqiOYJgK",
        "new_sheet": false,
        "outputId": "dc78a433-b7dc-477c-bde0-fc05b9ce834d",
        "run_control": {
          "read_only": false
        }
      },
      "outputs": [
        {
          "data": {
            "text/plain": [
              "100947"
            ]
          },
          "execution_count": 18,
          "metadata": {},
          "output_type": "execute_result"
        }
      ],
      "source": [
        "len(U6)"
      ]
    },
    {
      "cell_type": "markdown",
      "metadata": {
        "button": false,
        "id": "zLX0dAriYJgL",
        "new_sheet": false,
        "run_control": {
          "read_only": false
        }
      },
      "source": [
        "So while 'counting' has always been an option (theoretically) you can see why actually enumerating events was not a very pragmatic approach before the advent of computers!!  Even now (with computers) we can't really 'look' at the output - at least not all 100,947 elements in the set...\n",
        "\n",
        "We could look at the first dozen..."
      ]
    },
    {
      "cell_type": "code",
      "execution_count": 19,
      "metadata": {
        "button": false,
        "id": "1tBQ_P5TYJgM",
        "new_sheet": false,
        "outputId": "670eae09-18a9-41a3-8eee-7c8002477eca",
        "run_control": {
          "read_only": false
        }
      },
      "outputs": [
        {
          "name": "stdout",
          "output_type": "stream",
          "text": [
            "(0, 'B3 W5 W7 B6 R7 B1')\n",
            "(1, 'R9 W7 R1 W8 W2 B2')\n",
            "(2, 'R6 W5 R5 B4 B5 R8')\n",
            "(3, 'B3 R6 W7 R5 W2 R8')\n",
            "(4, 'R9 W7 R3 B4 B1 B5')\n",
            "(5, 'R4 W5 R3 B6 R1 B4')\n",
            "(6, 'W3 W7 R1 W1 W8 W2')\n",
            "(7, 'R4 R6 W3 R2 W6 R8')\n",
            "(8, 'W3 W5 R2 R7 W8 B2')\n",
            "(9, 'B3 W3 R3 B6 R2 R8')\n",
            "(10, 'W3 R9 R5 B1 W2 B2')\n",
            "(11, 'W3 R3 R1 W8 B1 R8')\n"
          ]
        }
      ],
      "source": [
        "for value in enumerate(itertools.islice(U6, 12)):\n",
        "    print(value)"
      ]
    },
    {
      "cell_type": "markdown",
      "metadata": {
        "button": false,
        "id": "ZucKLtX0YJgM",
        "new_sheet": false,
        "run_control": {
          "read_only": false
        }
      },
      "source": [
        "I have to confess that I'm not clear about the ordering rules for this set - but I guess that I shouldn't really care - perhaps a better approach would have been to just select a **random sample** of them to see what they look like...  (**NB** - you will almost certainly get a *different* set to those shown below, hopefully for obvious reasons!)"
      ]
    },
    {
      "cell_type": "code",
      "execution_count": 20,
      "metadata": {
        "button": false,
        "id": "QOkb1xsBYJgM",
        "new_sheet": false,
        "outputId": "7fe242c4-9d81-433c-bfa2-cd29e9d48a55",
        "run_control": {
          "read_only": false
        }
      },
      "outputs": [
        {
          "name": "stderr",
          "output_type": "stream",
          "text": [
            "C:\\Users\\Nikit\\AppData\\Local\\Temp\\ipykernel_30328\\3500791823.py:3: DeprecationWarning: Sampling from a set deprecated\n",
            "since Python 3.9 and will be removed in a subsequent version.\n",
            "  random.sample(U6, 12)\n"
          ]
        },
        {
          "data": {
            "text/plain": [
              "['W5 R5 R2 B1 B5 B2',\n",
              " 'W5 W7 W8 B1 W2 B2',\n",
              " 'W5 W7 R7 B1 W2 B5',\n",
              " 'B3 R6 B6 R1 R2 B1',\n",
              " 'B3 R5 R2 B4 B1 B2',\n",
              " 'R4 B3 R6 W5 B6 B4',\n",
              " 'W7 R1 W1 W2 B5 R8',\n",
              " 'W5 R3 B4 W6 W2 B2',\n",
              " 'R9 W7 W4 W1 W8 R8',\n",
              " 'R6 B6 R1 R7 W2 B5',\n",
              " 'B3 R3 R7 W2 B2 R8',\n",
              " 'R4 R6 R1 W4 W6 R8']"
            ]
          },
          "execution_count": 20,
          "metadata": {},
          "output_type": "execute_result"
        }
      ],
      "source": [
        "import random\n",
        "\n",
        "random.sample(U6, 12)"
      ]
    },
    {
      "cell_type": "markdown",
      "metadata": {
        "button": false,
        "id": "ixwrkrXBYJgM",
        "new_sheet": false,
        "run_control": {
          "read_only": false
        }
      },
      "source": [
        "If we wanted to check that our combinations were correct (i.e. that there are in fact 100,947 elements) then we would use the formula that [mathematicians](https://en.wikipedia.org/wiki/Combination) call \"23 choose 6\". Once we have chosen the first item (from 23), we can then choose any of the 22 remaining items on our second choice, and so on down until we have just 18 options at our sixth choice. As we don't care about the order of the six items, we divide the product of these six choices by 6! (the number of permutations of 6 separate things) giving us:\n",
        "\n",
        "$$23 ~\\mbox{choose}~ 6 = \\frac{23 \\cdot 22 \\cdot 21 \\cdot 20 \\cdot 19 \\cdot 18}{6!} = 100,947$$\n",
        "\n",
        "If you can accept (or take a little time to work out) that $23 \\cdot 22 \\cdot 21 \\cdot 20 \\cdot 19 \\cdot 18 = 23! \\;/\\; 17!$, then we can generalise the specific formula noted above to take the form:\n",
        "\n",
        "$$n ~\\mbox{choose}~ c = \\frac{n!}{(n - c)! \\cdot c!}$$\n"
      ]
    },
    {
      "cell_type": "markdown",
      "metadata": {
        "button": false,
        "id": "avITK1yAYJgN",
        "new_sheet": false,
        "run_control": {
          "read_only": false
        }
      },
      "source": [
        "We could then code up with formula in Python to see whether we did in fact have the correct number of elements in our `U6` sample space (of '23 choose 6')..."
      ]
    },
    {
      "cell_type": "code",
      "execution_count": 21,
      "metadata": {
        "button": false,
        "id": "Inw2lBjgYJgN",
        "new_sheet": false,
        "run_control": {
          "read_only": false
        }
      },
      "outputs": [],
      "source": [
        "from math import factorial\n",
        "\n",
        "def choose(n, c):\n",
        "    \"Number of ways to choose c items from a list of n items.\"\n",
        "    return factorial(n) // (factorial(n - c) * factorial(c))"
      ]
    },
    {
      "cell_type": "code",
      "execution_count": 22,
      "metadata": {
        "button": false,
        "id": "aZETb3btYJgN",
        "new_sheet": false,
        "outputId": "dd15d4c5-5cd8-4b8d-b6a2-af09029a0217",
        "run_control": {
          "read_only": false
        }
      },
      "outputs": [
        {
          "data": {
            "text/plain": [
              "100947"
            ]
          },
          "execution_count": 22,
          "metadata": {},
          "output_type": "execute_result"
        }
      ],
      "source": [
        "choose(23, 6)"
      ]
    },
    {
      "cell_type": "markdown",
      "metadata": {
        "id": "WKCgQ2EhYJgN"
      },
      "source": [
        "## Exerise 2  (SUBMIT)\n",
        "Before moving on to the actual problems that we had set out, have a look at what the sample space would look like if we were only going to select, say, 3 balls.\n",
        "\n",
        "- Generate the `U3` sample space\n",
        "- Take a look at some of the members of the resulting set\n",
        "- Check that the size of this space (len(U3)) agrees with the mathematicians' `choose` definition\n"
      ]
    },
    {
      "cell_type": "code",
      "execution_count": 23,
      "metadata": {
        "id": "84c0HoxgYJgN"
      },
      "outputs": [],
      "source": [
        "U3 = combos(urn, 3)"
      ]
    },
    {
      "cell_type": "code",
      "execution_count": 24,
      "metadata": {
        "id": "QkwTPfuUYJgN",
        "outputId": "c2e3d638-4abe-4ff7-fa9a-8522b4ec6d56"
      },
      "outputs": [
        {
          "data": {
            "text/plain": [
              "1771"
            ]
          },
          "execution_count": 24,
          "metadata": {},
          "output_type": "execute_result"
        }
      ],
      "source": [
        "len(U3)"
      ]
    },
    {
      "cell_type": "code",
      "execution_count": 25,
      "metadata": {
        "id": "I51t-_OpYJgN",
        "outputId": "7f317e89-9999-4624-f53a-199ba054a4f8"
      },
      "outputs": [
        {
          "name": "stdout",
          "output_type": "stream",
          "text": [
            "(0, 'R6 W7 W4')\n",
            "(1, 'R6 R2 B4')\n",
            "(2, 'B4 R7 W8')\n",
            "(3, 'B3 R5 W4')\n",
            "(4, 'R6 W3 R3')\n",
            "(5, 'W3 W7 B1')\n",
            "(6, 'R4 B4 W6')\n",
            "(7, 'R4 R9 R3')\n",
            "(8, 'R1 W1 B2')\n",
            "(9, 'W7 R1 R7')\n"
          ]
        }
      ],
      "source": [
        "for value in enumerate(itertools.islice(U3, 10)):\n",
        "    print(value)"
      ]
    },
    {
      "cell_type": "code",
      "execution_count": 26,
      "metadata": {
        "id": "q5WMhDDAYJgO",
        "outputId": "59afa89f-7b82-447a-f74b-04f873f9c40c"
      },
      "outputs": [
        {
          "name": "stderr",
          "output_type": "stream",
          "text": [
            "C:\\Users\\Nikit\\AppData\\Local\\Temp\\ipykernel_30328\\281159138.py:3: DeprecationWarning: Sampling from a set deprecated\n",
            "since Python 3.9 and will be removed in a subsequent version.\n",
            "  random.sample(U3, 10)\n"
          ]
        },
        {
          "data": {
            "text/plain": [
              "['B6 R2 W6',\n",
              " 'R2 W8 B2',\n",
              " 'W4 W6 B5',\n",
              " 'W4 W1 R2',\n",
              " 'W5 W1 R8',\n",
              " 'W5 R7 B1',\n",
              " 'R4 W1 B1',\n",
              " 'B3 B6 R7',\n",
              " 'R3 B4 W6',\n",
              " 'B3 W3 R5']"
            ]
          },
          "execution_count": 26,
          "metadata": {},
          "output_type": "execute_result"
        }
      ],
      "source": [
        "import random\n",
        "\n",
        "random.sample(U3, 10)"
      ]
    },
    {
      "cell_type": "code",
      "execution_count": 27,
      "metadata": {
        "id": "NdR3wSyMYJgO",
        "outputId": "c240b5bd-9e7f-4d91-8891-a8e64dbdfd13"
      },
      "outputs": [
        {
          "data": {
            "text/plain": [
              "1771"
            ]
          },
          "execution_count": 27,
          "metadata": {},
          "output_type": "execute_result"
        }
      ],
      "source": [
        "choose(23, 3)"
      ]
    },
    {
      "cell_type": "markdown",
      "metadata": {
        "button": false,
        "id": "lc1aUoVaYJgO",
        "new_sheet": false,
        "run_control": {
          "read_only": false
        }
      },
      "source": [
        "OK, so - at last! - we are ready to take a stab at the problems that were outlined as examples of Bernoulli's questions... \n",
        "\n",
        "### Urn Problem 1: what is the probability of selecting 6 white balls? "
      ]
    },
    {
      "cell_type": "code",
      "execution_count": 28,
      "metadata": {
        "button": false,
        "id": "D3hZShplYJgP",
        "new_sheet": false,
        "outputId": "757a5af2-015c-4cee-e614-acfb76b2fa3b",
        "run_control": {
          "read_only": false
        }
      },
      "outputs": [
        {
          "data": {
            "text/plain": [
              "(Fraction(4, 14421), '=0.00027')"
            ]
          },
          "execution_count": 28,
          "metadata": {},
          "output_type": "execute_result"
        }
      ],
      "source": [
        "white6 = {s for s in U6 if s.count('W') == 6}\n",
        "\n",
        "unif_P(white6, U6)"
      ]
    },
    {
      "cell_type": "markdown",
      "metadata": {
        "button": false,
        "id": "8ykRSrLVYJgP",
        "new_sheet": false,
        "run_control": {
          "read_only": false
        }
      },
      "source": [
        "Can we check this 'manually' to see whether it seems right? How many ways of getting 6 white balls are there?"
      ]
    },
    {
      "cell_type": "code",
      "execution_count": 29,
      "metadata": {
        "button": false,
        "id": "ITo2P3BCYJgQ",
        "new_sheet": false,
        "outputId": "154a62fb-fe94-41c4-f6e2-0d08ad1ddaa7",
        "run_control": {
          "read_only": false
        }
      },
      "outputs": [
        {
          "data": {
            "text/plain": [
              "28"
            ]
          },
          "execution_count": 29,
          "metadata": {},
          "output_type": "execute_result"
        }
      ],
      "source": [
        "len(white6)"
      ]
    },
    {
      "cell_type": "markdown",
      "metadata": {
        "button": false,
        "id": "nuDx0TPXYJgQ",
        "new_sheet": false,
        "run_control": {
          "read_only": false
        }
      },
      "source": [
        "Would the mathematician's 'choose' support this 'counting' approach that tells us their are 28 elements?  Well there are 8 white balls in the urn, and we want to know how many ways we can choose 6 of these:"
      ]
    },
    {
      "cell_type": "code",
      "execution_count": 30,
      "metadata": {
        "button": false,
        "id": "DQ_RbEP_YJgQ",
        "new_sheet": false,
        "outputId": "2f81c1ab-a7ad-490c-85eb-a6e196f27fd3",
        "run_control": {
          "read_only": false
        }
      },
      "outputs": [
        {
          "data": {
            "text/plain": [
              "28"
            ]
          },
          "execution_count": 30,
          "metadata": {},
          "output_type": "execute_result"
        }
      ],
      "source": [
        "choose(8, 6)"
      ]
    },
    {
      "cell_type": "markdown",
      "metadata": {
        "button": false,
        "id": "ypwzrcyKYJgQ",
        "new_sheet": false,
        "run_control": {
          "read_only": false
        }
      },
      "source": [
        "As such the probabilty of getting 6 white balls is just '8 choose 6' divided by the total size of the sample space."
      ]
    },
    {
      "cell_type": "code",
      "execution_count": 31,
      "metadata": {
        "button": false,
        "id": "Qv9oZrzHYJgQ",
        "new_sheet": false,
        "outputId": "db6a82db-82b3-4803-a30d-84bd38ba7b48",
        "run_control": {
          "read_only": false
        }
      },
      "outputs": [
        {
          "data": {
            "text/plain": [
              "Fraction(4, 14421)"
            ]
          },
          "execution_count": 31,
          "metadata": {},
          "output_type": "execute_result"
        }
      ],
      "source": [
        "alt_white6 = Fraction(choose(8, 6), len(U6))\n",
        "alt_white6"
      ]
    },
    {
      "cell_type": "markdown",
      "metadata": {
        "button": false,
        "id": "puahoeGlYJgR",
        "new_sheet": false,
        "run_control": {
          "read_only": false
        }
      },
      "source": [
        "This is indeed the same probabilty as we got above. If we had not chosen to include the extra 'decimal' output in our function then we could have used an equality comparison directly to check that these values were the same."
      ]
    },
    {
      "cell_type": "markdown",
      "metadata": {
        "id": "4r-zON6qYJgS"
      },
      "source": [
        "## Exerise 3  (SUBMIT)\n",
        "Make some minor changes to `unif_P` so that you can cary out a direct logical comparison - such as that shown below.\n",
        "\n",
        "### Those less familiar with Python may find this a bit confusing, and also you will use the new `unif2_P` quite a bit below, so don't want to get stuck on what is a fairly 'trivial' Python function modification. \n"
      ]
    },
    {
      "cell_type": "code",
      "execution_count": 32,
      "metadata": {},
      "outputs": [
        {
          "data": {
            "text/plain": [
              "Fraction(4, 14421)"
            ]
          },
          "execution_count": 32,
          "metadata": {},
          "output_type": "execute_result"
        }
      ],
      "source": [
        "Fraction(choose(8, 6), len(U6))"
      ]
    },
    {
      "cell_type": "code",
      "execution_count": 33,
      "metadata": {
        "id": "OyCR4s9QYJgS"
      },
      "outputs": [],
      "source": [
        "def unif2_P(event, sample_space): \n",
        "    \"\"\"Returns the probability of an event, given a sample space of outcomes that are all equally likely. Uses set objects\n",
        "    in Python where it is simple to manipulate the elements in each set.\"\"\"\n",
        "    \n",
        "    prob_fraction = Fraction(len(event & sample_space), len(sample_space))\n",
        "    # I realise that these next 3 lines could be done as a single line, but many are just starting out in Python...\n",
        "    # Indeed we don't really 'need' any of the variables here and could have directly specified the return\n",
        "    # line with all of the calculations - but I'm not sure that would be as informative from a 'learning' perspective.\n",
        "    #\n",
        "    return prob_fraction#, prob_real_txt"
      ]
    },
    {
      "cell_type": "code",
      "execution_count": 34,
      "metadata": {
        "id": "zZXXpsdEYJgS",
        "outputId": "d3d6df71-f506-4fab-ba9a-24860022e543"
      },
      "outputs": [
        {
          "data": {
            "text/plain": [
              "Fraction(4, 14421)"
            ]
          },
          "execution_count": 34,
          "metadata": {},
          "output_type": "execute_result"
        }
      ],
      "source": [
        "unif2_P(white6, U6)"
      ]
    },
    {
      "cell_type": "code",
      "execution_count": 35,
      "metadata": {
        "button": false,
        "id": "ZnIN-RozYJgT",
        "new_sheet": false,
        "outputId": "cce0d00c-3c5b-4875-90e2-8933e9ff1833",
        "run_control": {
          "read_only": false
        }
      },
      "outputs": [
        {
          "data": {
            "text/plain": [
              "True"
            ]
          },
          "execution_count": 35,
          "metadata": {},
          "output_type": "execute_result"
        }
      ],
      "source": [
        "unif2_P(white6, U6) == Fraction(choose(8, 6), len(U6))"
      ]
    },
    {
      "cell_type": "markdown",
      "metadata": {
        "button": false,
        "id": "93u7ojOuYJgT",
        "new_sheet": false,
        "run_control": {
          "read_only": false
        }
      },
      "source": [
        "### Urn Problem 2: What is the probability of exactly 4 red balls?\n",
        "\n",
        "This is equivalent to choosing 4 out of the 9 red balls, and then any 2 out of the remaing 14 non-red balls. We can solve this using our 'counting' approach or using the maths - two `choose` events, which are independent and so their probabilities can be multiplied..."
      ]
    },
    {
      "cell_type": "code",
      "execution_count": 36,
      "metadata": {
        "button": false,
        "id": "1LonTc4DYJgT",
        "new_sheet": false,
        "outputId": "69eabe10-3e16-4d7b-fc35-97bae494229e",
        "run_control": {
          "read_only": false
        }
      },
      "outputs": [
        {
          "data": {
            "text/plain": [
              "Fraction(546, 4807)"
            ]
          },
          "execution_count": 36,
          "metadata": {},
          "output_type": "execute_result"
        }
      ],
      "source": [
        "r4 = {s for s in U6 if\n",
        "      s.count('R') == 4}\n",
        "\n",
        "unif2_P(r4, U6)"
      ]
    },
    {
      "cell_type": "code",
      "execution_count": 37,
      "metadata": {
        "button": false,
        "id": "hlDQxm4oYJgT",
        "new_sheet": false,
        "outputId": "a9c53415-9719-4470-b8b9-532f9fe763d9",
        "run_control": {
          "read_only": false
        }
      },
      "outputs": [
        {
          "data": {
            "text/plain": [
              "0.11358435614728521"
            ]
          },
          "execution_count": 37,
          "metadata": {},
          "output_type": "execute_result"
        }
      ],
      "source": [
        "546/4807"
      ]
    },
    {
      "cell_type": "code",
      "execution_count": 38,
      "metadata": {
        "button": false,
        "id": "hJLXmyWqYJgT",
        "new_sheet": false,
        "outputId": "2f9a7c8c-b94f-4e2d-8cc9-63804fca9add",
        "run_control": {
          "read_only": false
        }
      },
      "outputs": [
        {
          "data": {
            "text/plain": [
              "0.0499271895152902"
            ]
          },
          "execution_count": 38,
          "metadata": {},
          "output_type": "execute_result"
        }
      ],
      "source": [
        "240/4807"
      ]
    },
    {
      "cell_type": "code",
      "execution_count": 39,
      "metadata": {
        "button": false,
        "id": "wwXRY4eaYJgU",
        "new_sheet": false,
        "outputId": "33911156-ce9a-4c37-9612-18189868f63a",
        "run_control": {
          "read_only": false
        }
      },
      "outputs": [
        {
          "data": {
            "text/plain": [
              "True"
            ]
          },
          "execution_count": 39,
          "metadata": {},
          "output_type": "execute_result"
        }
      ],
      "source": [
        "unif2_P(r4, U6) == Fraction(choose(9, 4) * choose(14, 2), len(U6))"
      ]
    },
    {
      "cell_type": "markdown",
      "metadata": {
        "id": "5iWmAdUeYJgU"
      },
      "source": [
        "## Exerise 4  (SUBMIT)\n",
        "Try a third urn problem (below) yourself. You can use **either** the 'counting' or the 'maths' approach... (or both!)\n"
      ]
    },
    {
      "cell_type": "markdown",
      "metadata": {
        "button": false,
        "id": "5vA7HbNRYJgU",
        "new_sheet": false,
        "run_control": {
          "read_only": false
        }
      },
      "source": [
        "### Urn Problem 3: What is the probability of 3 blue, 2 white, and 1 red?\n",
        "You should get the result shown below:\n"
      ]
    },
    {
      "cell_type": "code",
      "execution_count": 40,
      "metadata": {},
      "outputs": [
        {
          "data": {
            "text/plain": [
              "Fraction(240, 4807)"
            ]
          },
          "execution_count": 40,
          "metadata": {},
          "output_type": "execute_result"
        }
      ],
      "source": [
        "Fraction(choose(6, 3) * choose(8, 2) * choose(9, 1), len(U6))"
      ]
    },
    {
      "cell_type": "code",
      "execution_count": 41,
      "metadata": {
        "id": "1ym9o6HlYJgU"
      },
      "outputs": [],
      "source": [
        "b3 = {s for s in U6 if\n",
        "      s.count('B') == 3}\n",
        "\n",
        "w2 = {s for s in U6 if\n",
        "      s.count('W') == 2}\n",
        "\n",
        "r1 = {s for s in U6 if\n",
        "      s.count('R') == 1}"
      ]
    },
    {
      "cell_type": "code",
      "execution_count": 42,
      "metadata": {
        "id": "FhHRHTM2YJgU",
        "outputId": "f4d2cd12-4aac-4959-d7d7-125c73ae7596"
      },
      "outputs": [
        {
          "data": {
            "text/plain": [
              "Fraction(240, 4807)"
            ]
          },
          "execution_count": 42,
          "metadata": {},
          "output_type": "execute_result"
        }
      ],
      "source": [
        "unif2_P((b3&w2&r1),U6)"
      ]
    },
    {
      "cell_type": "code",
      "execution_count": 43,
      "metadata": {},
      "outputs": [
        {
          "data": {
            "text/plain": [
              "0.058722779544898455"
            ]
          },
          "execution_count": 43,
          "metadata": {},
          "output_type": "execute_result"
        }
      ],
      "source": [
        "240/4087"
      ]
    },
    {
      "cell_type": "markdown",
      "metadata": {
        "button": false,
        "id": "ihxMy8nBYJgU",
        "new_sheet": false,
        "run_control": {
          "read_only": false
        }
      },
      "source": [
        "Output should be\n",
        "`Fraction(240, 4807)`, \n",
        "which is almost exactly 5%"
      ]
    },
    {
      "cell_type": "markdown",
      "metadata": {
        "button": false,
        "id": "bZTL_NtgYJgV",
        "new_sheet": false,
        "run_control": {
          "read_only": false
        }
      },
      "source": [
        "# A 'sophisticated' version of `unif_P`, for more general events\n",
        "\n",
        "As noted above, much of the inspiration for these lab exercises cames from an excellect tutorial created by Peter Norwig.  (I will make a link to his web site after the lab - but didn't want you to 'cheat' and go find all of the answers in his examples!) \n",
        "\n",
        "However, I am going to more or less copy/paste this next section from his material as it is quite 'technical', in terms of the Python used - as opposed to any of the probability work. As such it doesn't really matter that you 'get' all the details of the implementation on first reading... just try to appreciate the approach, and realise that introducing this level of increased generality brings a LOT more power to the approach than our initial simple functions - particularly in the card-playing examples, etc.\n"
      ]
    },
    {
      "cell_type": "markdown",
      "metadata": {
        "button": false,
        "id": "n0PA5WseYJgV",
        "new_sheet": false,
        "run_control": {
          "read_only": false
        }
      },
      "source": [
        "To quote Norwig...\n",
        "\n",
        "When calculating the probability of an even die roll, we originally said\n",
        "\n",
        "    even = {2, 4, 6}\n",
        "    \n",
        "But this is rather inelegant...  we had to explicitly enumerate all the even numbers from one to six. What if we wanted to work with a twelve or twenty-sided die, we would have to go back and change the event `even` for each scenario.  It would be much better to define what `even` means once and then use that 'predicate'..."
      ]
    },
    {
      "cell_type": "code",
      "execution_count": 44,
      "metadata": {
        "button": false,
        "id": "qbHY0Kf7YJgV",
        "new_sheet": false,
        "run_control": {
          "read_only": false
        }
      },
      "outputs": [],
      "source": [
        "def even(n): return n % 2 == 0"
      ]
    },
    {
      "cell_type": "markdown",
      "metadata": {
        "button": false,
        "id": "m-XLLG1pYJgV",
        "new_sheet": false,
        "run_control": {
          "read_only": false
        }
      },
      "source": [
        "We can also create a function `such_that` that takes a defined predicate and a collection of items, and returns those members of the collection that are covered by the terms of the predicate:"
      ]
    },
    {
      "cell_type": "code",
      "execution_count": 45,
      "metadata": {
        "button": false,
        "id": "aVSsqwXIYJgW",
        "new_sheet": false,
        "run_control": {
          "read_only": false
        }
      },
      "outputs": [],
      "source": [
        "def such_that(predicate, collection): \n",
        "    \"The subset of elements in the collection for which the predicate is true.\"\n",
        "    return {e for e in collection if predicate(e)}"
      ]
    },
    {
      "cell_type": "code",
      "execution_count": 46,
      "metadata": {
        "button": false,
        "id": "JK-DDLiBYJgW",
        "new_sheet": false,
        "outputId": "3a920eb6-55ee-41f5-eb3c-da8338e68e87",
        "run_control": {
          "read_only": false
        }
      },
      "outputs": [
        {
          "data": {
            "text/plain": [
              "{2, 4, 6}"
            ]
          },
          "execution_count": 46,
          "metadata": {},
          "output_type": "execute_result"
        }
      ],
      "source": [
        "such_that(even, six_sided_die)"
      ]
    },
    {
      "cell_type": "markdown",
      "metadata": {
        "button": false,
        "id": "Elrq-HklYJgW",
        "new_sheet": false,
        "run_control": {
          "read_only": false
        }
      },
      "source": [
        "This allows us to deal with our 12-sided die (without explicit enumeration):"
      ]
    },
    {
      "cell_type": "code",
      "execution_count": 47,
      "metadata": {
        "button": false,
        "id": "ZkqxFMLeYJgW",
        "new_sheet": false,
        "outputId": "b6fcab46-8098-4584-a3a9-075d9aa7d582",
        "run_control": {
          "read_only": false
        }
      },
      "outputs": [
        {
          "data": {
            "text/plain": [
              "{2, 4, 6, 8, 10, 12}"
            ]
          },
          "execution_count": 47,
          "metadata": {},
          "output_type": "execute_result"
        }
      ],
      "source": [
        "twelve_sided_die = {1, 2, 3, 4, 5, 6, 7, 8, 9, 10, 11, 12}\n",
        "\n",
        "such_that(even, twelve_sided_die)"
      ]
    },
    {
      "cell_type": "markdown",
      "metadata": {
        "button": false,
        "id": "d9z9np6iYJgW",
        "new_sheet": false,
        "run_control": {
          "read_only": false
        }
      },
      "source": [
        "Norwig called his new function for probability simply `P` so we will go with that and now need to edit that function so that we can, for example, make sure that `P(even, D)` will work. That is, we need to modify `P` to accept an event as either as a a *set* of outcomes (as we had before), or as a *predicate* over outcomes:"
      ]
    },
    {
      "cell_type": "code",
      "execution_count": 48,
      "metadata": {
        "button": false,
        "id": "HwBQ2UOKYJgW",
        "new_sheet": false,
        "run_control": {
          "read_only": false
        }
      },
      "outputs": [],
      "source": [
        "#is_predicate = callable\n",
        "\n",
        "def P(event, sample_space): \n",
        "    \"\"\"The probability of an event, given a sample space of equiprobable outcomes.\n",
        "    The event can be either a set of outcomes, or a predicate (true for outcomes in the event).\"\"\"\n",
        "    if callable(event):\n",
        "        event = such_that(event, sample_space)\n",
        "    return Fraction(len(event & sample_space), len(sample_space))\n"
      ]
    },
    {
      "cell_type": "markdown",
      "metadata": {
        "button": false,
        "id": "5ikKdyNZYJgW",
        "new_sheet": false,
        "run_control": {
          "read_only": false
        }
      },
      "source": [
        "Now lets see how we can use `such_that` and the `even` predicate in this new version of `P`:"
      ]
    },
    {
      "cell_type": "code",
      "execution_count": 49,
      "metadata": {
        "button": false,
        "id": "M9dG9_7CYJgX",
        "new_sheet": false,
        "outputId": "560d09db-0162-43d6-9759-71b107c1dedc",
        "run_control": {
          "read_only": false
        }
      },
      "outputs": [
        {
          "data": {
            "text/plain": [
              "Fraction(1, 2)"
            ]
          },
          "execution_count": 49,
          "metadata": {},
          "output_type": "execute_result"
        }
      ],
      "source": [
        "P(even, six_sided_die)"
      ]
    },
    {
      "cell_type": "code",
      "execution_count": 50,
      "metadata": {
        "button": false,
        "id": "PRJwENw1YJgX",
        "new_sheet": false,
        "outputId": "577bc8c6-61a5-4781-9e87-90fe625d7fd7",
        "run_control": {
          "read_only": false
        }
      },
      "outputs": [
        {
          "data": {
            "text/plain": [
              "Fraction(1, 2)"
            ]
          },
          "execution_count": 50,
          "metadata": {},
          "output_type": "execute_result"
        }
      ],
      "source": [
        "P(even, twelve_sided_die)"
      ]
    },
    {
      "cell_type": "markdown",
      "metadata": {
        "button": false,
        "id": "9kbE3S9UYJgX",
        "new_sheet": false,
        "run_control": {
          "read_only": false
        }
      },
      "source": [
        "This feels like a **lot** of work to have gone to just to save us enumerating the 6 even possibilities on a 12-sided die, or even the 10 possibilities on a 20-sided die, but hopefully you will begin to see the power/rationale in a few eamples below.\n",
        "\n",
        "*Note*: `such_that` is operating in a very similar manner to Python's built-in function `filter` which you may well have come across elsewhere, except that `such_that` is returning a set.\n"
      ]
    },
    {
      "cell_type": "markdown",
      "metadata": {
        "button": false,
        "id": "TI9eb5FDYJgX",
        "new_sheet": false,
        "run_control": {
          "read_only": false
        }
      },
      "source": [
        "Below is an example of how we could expand on this approach by defining a new predicate for a more 'interesting' event. This event will be that the outcome of throwing 3 six-sided die will result in a total number that is prime.\n",
        "\n",
        "(This includes a simple definition of `is_prime` that is efficient enough when we are only working with small numbers, it is NOT generally the way that we would test whether some number was a prime.)"
      ]
    },
    {
      "cell_type": "code",
      "execution_count": 51,
      "metadata": {
        "button": false,
        "id": "ETcTiVx2YJgX",
        "new_sheet": false,
        "outputId": "59964c79-191f-4301-ded4-702d68e894cd",
        "run_control": {
          "read_only": false
        }
      },
      "outputs": [
        {
          "data": {
            "text/plain": [
              "Fraction(73, 216)"
            ]
          },
          "execution_count": 51,
          "metadata": {},
          "output_type": "execute_result"
        }
      ],
      "source": [
        "roll_3_dice = {(d1, d2, d3) for d1 in six_sided_die for d2 in six_sided_die for d3 in six_sided_die}\n",
        "\n",
        "def prime_sum(outcome): return is_prime(sum(outcome))\n",
        "\n",
        "def is_prime(n): return n > 1 and not any(n % i == 0 for i in range(2, n))\n",
        "\n",
        "P(prime_sum, roll_3_dice)"
      ]
    },
    {
      "cell_type": "code",
      "execution_count": 52,
      "metadata": {
        "button": false,
        "id": "q4j94cspYJgY",
        "new_sheet": false,
        "outputId": "677a3d0d-2454-4166-b73c-ab556edf18b9",
        "run_control": {
          "read_only": false
        }
      },
      "outputs": [
        {
          "data": {
            "text/plain": [
              "'0.34'"
            ]
          },
          "execution_count": 52,
          "metadata": {},
          "output_type": "execute_result"
        }
      ],
      "source": [
        "'{0:.2}'.format(73/216)"
      ]
    },
    {
      "cell_type": "markdown",
      "metadata": {
        "button": false,
        "id": "YowWM-EoYJgY",
        "new_sheet": false,
        "run_control": {
          "read_only": false
        }
      },
      "source": [
        "## Exerise 5 (SUBMIT)\n",
        " \n",
        "OK, so we got a number - how might we get at least a general sense as to whether this was right?\n",
        "\n",
        "Well rolling 3 dice will indeed lead to 216 different possible outcomes (6 X 6 X 6) so the demoninator seems correct. \n",
        "\n",
        "But what about the numerator (the number on top) - does this seem correct?\n",
        "\n",
        "There are different ways you could attack this - from a 'back of the envelope' to a more formal maths solution. Try whatever works for you to get a sense as to whether 73/216 (**~0.34**) seems *about right*?\n"
      ]
    },
    {
      "cell_type": "markdown",
      "metadata": {
        "button": false,
        "id": "a5JVjX1zYJgY",
        "new_sheet": false,
        "run_control": {
          "read_only": false
        }
      },
      "source": [
        "You could of course also use the `such_that` function to check which of the 216 outcomes satisfy the `prime_sum` predicate - and if you were really keen you could check that all 73 of these events summed to a prime!!\n"
      ]
    },
    {
      "cell_type": "code",
      "execution_count": 53,
      "metadata": {
        "button": false,
        "id": "P4dpfl5ZYJgY",
        "new_sheet": false,
        "outputId": "efac1843-6620-417c-abbc-e6ccec5e0222",
        "run_control": {
          "read_only": false
        },
        "scrolled": true
      },
      "outputs": [
        {
          "data": {
            "text/plain": [
              "{(1, 1, 1),\n",
              " (1, 1, 3),\n",
              " (1, 1, 5),\n",
              " (1, 2, 2),\n",
              " (1, 2, 4),\n",
              " (1, 3, 1),\n",
              " (1, 3, 3),\n",
              " (1, 4, 2),\n",
              " (1, 4, 6),\n",
              " (1, 5, 1),\n",
              " (1, 5, 5),\n",
              " (1, 6, 4),\n",
              " (1, 6, 6),\n",
              " (2, 1, 2),\n",
              " (2, 1, 4),\n",
              " (2, 2, 1),\n",
              " (2, 2, 3),\n",
              " (2, 3, 2),\n",
              " (2, 3, 6),\n",
              " (2, 4, 1),\n",
              " (2, 4, 5),\n",
              " (2, 5, 4),\n",
              " (2, 5, 6),\n",
              " (2, 6, 3),\n",
              " (2, 6, 5),\n",
              " (3, 1, 1),\n",
              " (3, 1, 3),\n",
              " (3, 2, 2),\n",
              " (3, 2, 6),\n",
              " (3, 3, 1),\n",
              " (3, 3, 5),\n",
              " (3, 4, 4),\n",
              " (3, 4, 6),\n",
              " (3, 5, 3),\n",
              " (3, 5, 5),\n",
              " (3, 6, 2),\n",
              " (3, 6, 4),\n",
              " (4, 1, 2),\n",
              " (4, 1, 6),\n",
              " (4, 2, 1),\n",
              " (4, 2, 5),\n",
              " (4, 3, 4),\n",
              " (4, 3, 6),\n",
              " (4, 4, 3),\n",
              " (4, 4, 5),\n",
              " (4, 5, 2),\n",
              " (4, 5, 4),\n",
              " (4, 6, 1),\n",
              " (4, 6, 3),\n",
              " (5, 1, 1),\n",
              " (5, 1, 5),\n",
              " (5, 2, 4),\n",
              " (5, 2, 6),\n",
              " (5, 3, 3),\n",
              " (5, 3, 5),\n",
              " (5, 4, 2),\n",
              " (5, 4, 4),\n",
              " (5, 5, 1),\n",
              " (5, 5, 3),\n",
              " (5, 6, 2),\n",
              " (5, 6, 6),\n",
              " (6, 1, 4),\n",
              " (6, 1, 6),\n",
              " (6, 2, 3),\n",
              " (6, 2, 5),\n",
              " (6, 3, 2),\n",
              " (6, 3, 4),\n",
              " (6, 4, 1),\n",
              " (6, 4, 3),\n",
              " (6, 5, 2),\n",
              " (6, 5, 6),\n",
              " (6, 6, 1),\n",
              " (6, 6, 5)}"
            ]
          },
          "execution_count": 53,
          "metadata": {},
          "output_type": "execute_result"
        }
      ],
      "source": [
        "such_that(prime_sum, roll_3_dice)"
      ]
    },
    {
      "cell_type": "code",
      "execution_count": 54,
      "metadata": {
        "id": "iBDfPz-FYJgY",
        "outputId": "313080df-0d3a-44d3-e9cb-13c0763563c0"
      },
      "outputs": [
        {
          "data": {
            "text/plain": [
              "73"
            ]
          },
          "execution_count": 54,
          "metadata": {},
          "output_type": "execute_result"
        }
      ],
      "source": [
        "len(such_that(prime_sum, roll_3_dice))"
      ]
    },
    {
      "cell_type": "markdown",
      "metadata": {
        "button": false,
        "id": "-0hwE2gVYJgZ",
        "new_sheet": false,
        "run_control": {
          "read_only": false
        }
      },
      "source": [
        "# Card Problems\n",
        "\n",
        "Here is just a couple of examples of how we can use the 'countability' approach and the nice general `P` function that Norwig has suggested above to explore various probabilities associated with card games.\n",
        "\n",
        "Just in case you are not familar - this link in [Wikipedia](https://en.wikipedia.org/wiki/Playing_card#Modern_deck_formats) gives some background - and also points out that the 4 suits have had many other names/symbols over the years and across different cultures (so apologies for the very 'UK/N America' styling of the examples here). \n",
        "\n",
        "We have 4 `suits` {Diamond, Hearts, Spades, Clubs} and 13 `ranks` within each suit from {2} up to {Ace}...  as shown above we can therefore generate a `deck` as a set of 52 cards using our `char_cross` function."
      ]
    },
    {
      "cell_type": "code",
      "execution_count": 55,
      "metadata": {
        "button": false,
        "id": "r1p9VjdTYJgZ",
        "new_sheet": false,
        "outputId": "dcf998d5-4d8d-4b56-82eb-81c34219db2e",
        "run_control": {
          "read_only": false
        }
      },
      "outputs": [
        {
          "data": {
            "text/plain": [
              "52"
            ]
          },
          "execution_count": 55,
          "metadata": {},
          "output_type": "execute_result"
        }
      ],
      "source": [
        "suits = 'SHDC'\n",
        "ranks = 'A23456789TJQK'\n",
        "deck  = char_cross(ranks, suits)\n",
        "len(deck)"
      ]
    },
    {
      "cell_type": "code",
      "execution_count": 56,
      "metadata": {
        "button": false,
        "id": "x7ZcKJa0YJgZ",
        "new_sheet": false,
        "outputId": "fa29b92b-0edc-40f1-c084-9ee3c7e55e8d",
        "run_control": {
          "read_only": false
        }
      },
      "outputs": [
        {
          "data": {
            "text/plain": [
              "{'2C',\n",
              " '2D',\n",
              " '2H',\n",
              " '2S',\n",
              " '3C',\n",
              " '3D',\n",
              " '3H',\n",
              " '3S',\n",
              " '4C',\n",
              " '4D',\n",
              " '4H',\n",
              " '4S',\n",
              " '5C',\n",
              " '5D',\n",
              " '5H',\n",
              " '5S',\n",
              " '6C',\n",
              " '6D',\n",
              " '6H',\n",
              " '6S',\n",
              " '7C',\n",
              " '7D',\n",
              " '7H',\n",
              " '7S',\n",
              " '8C',\n",
              " '8D',\n",
              " '8H',\n",
              " '8S',\n",
              " '9C',\n",
              " '9D',\n",
              " '9H',\n",
              " '9S',\n",
              " 'AC',\n",
              " 'AD',\n",
              " 'AH',\n",
              " 'AS',\n",
              " 'JC',\n",
              " 'JD',\n",
              " 'JH',\n",
              " 'JS',\n",
              " 'KC',\n",
              " 'KD',\n",
              " 'KH',\n",
              " 'KS',\n",
              " 'QC',\n",
              " 'QD',\n",
              " 'QH',\n",
              " 'QS',\n",
              " 'TC',\n",
              " 'TD',\n",
              " 'TH',\n",
              " 'TS'}"
            ]
          },
          "execution_count": 56,
          "metadata": {},
          "output_type": "execute_result"
        }
      ],
      "source": [
        "deck"
      ]
    },
    {
      "cell_type": "markdown",
      "metadata": {
        "button": false,
        "id": "d4SqMrFcYJgZ",
        "new_sheet": false,
        "run_control": {
          "read_only": false
        }
      },
      "source": [
        "## 5-card hands\n",
        "\n",
        "A hand in a game such as *poker* will (at the end of each round) consist of 5 cards. A question of interest might be, how many possible `hands` exist when you are just starting a game?\n",
        "\n",
        "Well, using the 'maths' way of specifying this the number would be \"52 choose 5\" which indicated just under 2.6M possible hands...  so you really have to admire those *card counters*!!\n",
        "\n",
        "We could also use our 'countability' approach and see what combination of (5 card) `hands` might be randomly sampled from our (52 card) `deck`.\n"
      ]
    },
    {
      "cell_type": "code",
      "execution_count": 57,
      "metadata": {
        "button": false,
        "id": "cBovyBdcYJga",
        "new_sheet": false,
        "run_control": {
          "read_only": false
        }
      },
      "outputs": [],
      "source": [
        "hands = combos(deck, 5)\n",
        "# assert len(Hands) == choose(52, 5)"
      ]
    },
    {
      "cell_type": "code",
      "execution_count": 58,
      "metadata": {
        "button": false,
        "id": "7gZrMqoVYJgb",
        "new_sheet": false,
        "outputId": "99b124e5-a59d-425b-f0bf-78f37936b78d",
        "run_control": {
          "read_only": false
        }
      },
      "outputs": [
        {
          "data": {
            "text/plain": [
              "2598960"
            ]
          },
          "execution_count": 58,
          "metadata": {},
          "output_type": "execute_result"
        }
      ],
      "source": [
        "len(hands)"
      ]
    },
    {
      "cell_type": "code",
      "execution_count": 59,
      "metadata": {
        "button": false,
        "id": "MPWFLVCDYJgb",
        "new_sheet": false,
        "outputId": "53a40068-96d4-4533-e451-bbcc56efcb34",
        "run_control": {
          "read_only": false
        }
      },
      "outputs": [
        {
          "data": {
            "text/plain": [
              "2598960"
            ]
          },
          "execution_count": 59,
          "metadata": {},
          "output_type": "execute_result"
        }
      ],
      "source": [
        "choose(52, 5)"
      ]
    },
    {
      "cell_type": "markdown",
      "metadata": {
        "button": false,
        "id": "_lGmitngYJgc",
        "new_sheet": false,
        "run_control": {
          "read_only": false
        }
      },
      "source": [
        "## Poker hands\n",
        "\n",
        "We can't meaningfully take a look at all 2.6M possible hands!!!  But we could make a random selection of, say, 6 hands to see whether the contents of each hand makes sense... \n",
        "\n",
        "The cards that you see will be different every time (hopefully obvious), and the same card may appear more than once (though NOT in the same hand) - i.e. the scenario we are simulating is just all possible hands, **not** the set of hands that you might get in a game with 6 people playing...\n",
        "\n",
        "In fact, given that you are looking at 30 of the 52 cards available, it is more likely than not that at least one of the cards will appear more than once.\n"
      ]
    },
    {
      "cell_type": "code",
      "execution_count": 60,
      "metadata": {
        "button": false,
        "id": "kszKwQp3YJgc",
        "new_sheet": false,
        "outputId": "25da9078-4aea-4126-e744-38b5fed087ee",
        "run_control": {
          "read_only": false
        }
      },
      "outputs": [
        {
          "name": "stderr",
          "output_type": "stream",
          "text": [
            "C:\\Users\\Nikit\\AppData\\Local\\Temp\\ipykernel_30328\\3513056380.py:1: DeprecationWarning: Sampling from a set deprecated\n",
            "since Python 3.9 and will be removed in a subsequent version.\n",
            "  random.sample(hands, 6)\n"
          ]
        },
        {
          "data": {
            "text/plain": [
              "['KD KC 6C 8S 9H',\n",
              " 'QH 7C 5C AD 8H',\n",
              " '3C 2D 3S 9H 3H',\n",
              " '2S 4C 7H 2D 5D',\n",
              " 'KD 6D 8S 5S 9C',\n",
              " '6D QD 9H 9D 8H']"
            ]
          },
          "execution_count": 60,
          "metadata": {},
          "output_type": "execute_result"
        }
      ],
      "source": [
        "random.sample(hands, 6)"
      ]
    },
    {
      "cell_type": "markdown",
      "metadata": {
        "button": false,
        "id": "zTP_WepHYJgc",
        "new_sheet": false,
        "run_control": {
          "read_only": false
        }
      },
      "source": [
        "We can now use the idea of *predicates* to answer questions such as the probability of being dealt a flush (5 cards of the same suit).  If you are interested see [hand-ranking categories](https://en.wikipedia.org/wiki/List_of_poker_hands) for a full list of types of hands... though the variations in rules thru time and across countries can make this quite confusing!\n"
      ]
    },
    {
      "cell_type": "code",
      "execution_count": 61,
      "metadata": {
        "button": false,
        "id": "IWa-hwZuYJgc",
        "new_sheet": false,
        "outputId": "aab546df-c00e-4c34-da78-fe1cf8bfbd01",
        "run_control": {
          "read_only": false
        }
      },
      "outputs": [
        {
          "data": {
            "text/plain": [
              "Fraction(33, 16660)"
            ]
          },
          "execution_count": 61,
          "metadata": {},
          "output_type": "execute_result"
        }
      ],
      "source": [
        "def flush(hand):\n",
        "    return any(hand.count(suit) == 5 for suit in suits)\n",
        "\n",
        "P(flush, hands)"
      ]
    },
    {
      "cell_type": "code",
      "execution_count": 62,
      "metadata": {
        "button": false,
        "id": "UU7b3axqYJgc",
        "new_sheet": false,
        "outputId": "e65678ff-a1f5-4c79-a218-29126e8a4cab",
        "run_control": {
          "read_only": false
        }
      },
      "outputs": [
        {
          "data": {
            "text/plain": [
              "'0.00198'"
            ]
          },
          "execution_count": 62,
          "metadata": {},
          "output_type": "execute_result"
        }
      ],
      "source": [
        "'{0:.3}'.format(33/16660)"
      ]
    },
    {
      "cell_type": "markdown",
      "metadata": {
        "button": false,
        "id": "drCVtHqLYJgc",
        "new_sheet": false,
        "run_control": {
          "read_only": false
        }
      },
      "source": [
        "## Exerise 6 (SUBMIT)\n",
        " \n",
        "Calculate the probability of getting four of a kind:\n",
        "(Remember that the computer has to check 2.6M hands, so this may take some time!!) My function was called `four_of_a_kind`\n"
      ]
    },
    {
      "cell_type": "code",
      "execution_count": 63,
      "metadata": {
        "id": "qy_vVrnuYJgd"
      },
      "outputs": [],
      "source": [
        "def four_of_a_kind(hand):\n",
        "    return any(hand.count(rank) == 4 for rank in ranks)"
      ]
    },
    {
      "cell_type": "code",
      "execution_count": 64,
      "metadata": {
        "button": false,
        "id": "1etbKKIPYJgd",
        "new_sheet": false,
        "outputId": "6e82bebe-6311-4100-96fd-80860133a0bf",
        "run_control": {
          "read_only": false
        }
      },
      "outputs": [
        {
          "data": {
            "text/plain": [
              "Fraction(1, 4165)"
            ]
          },
          "execution_count": 64,
          "metadata": {},
          "output_type": "execute_result"
        }
      ],
      "source": [
        "P(four_of_a_kind, hands)"
      ]
    },
    {
      "cell_type": "code",
      "execution_count": 65,
      "metadata": {},
      "outputs": [
        {
          "data": {
            "text/plain": [
              "'0.0002401'"
            ]
          },
          "execution_count": 65,
          "metadata": {},
          "output_type": "execute_result"
        }
      ],
      "source": [
        "'{0:.4}'.format(1/4165)"
      ]
    },
    {
      "cell_type": "markdown",
      "metadata": {
        "button": false,
        "id": "tWbU-KPPYJgd",
        "new_sheet": false,
        "run_control": {
          "read_only": false
        }
      },
      "source": [
        "Output should be `Fraction(1, 4165)`"
      ]
    },
    {
      "cell_type": "markdown",
      "metadata": {
        "button": false,
        "id": "_TNt10NxYJgd",
        "new_sheet": false,
        "run_control": {
          "read_only": false
        }
      },
      "source": [
        "So you have almost 10 times as much chance of being dealt a `flush` as you do being dealt `four of a kind`.  You can use the results obtained above, or if you want to do it 'from scratch' then feel free to run the full calcuation - but it may take 20-30 seconds to run..."
      ]
    },
    {
      "cell_type": "code",
      "execution_count": 66,
      "metadata": {
        "button": false,
        "id": "BfUhGcnEYJge",
        "new_sheet": false,
        "outputId": "ca0f3432-f05e-4cd8-d22e-622880218034",
        "run_control": {
          "read_only": false
        }
      },
      "outputs": [
        {
          "data": {
            "text/plain": [
              "'8.25'"
            ]
          },
          "execution_count": 66,
          "metadata": {},
          "output_type": "execute_result"
        }
      ],
      "source": [
        "# Short/quick version\n",
        "'{0:.3}'.format((33/16660) / (1/4165))"
      ]
    },
    {
      "cell_type": "code",
      "execution_count": 67,
      "metadata": {
        "button": false,
        "id": "GC3ApkQ2YJge",
        "new_sheet": false,
        "outputId": "b40e3cfa-55a7-4d99-d840-effbd6837ebe",
        "run_control": {
          "read_only": false
        }
      },
      "outputs": [
        {
          "data": {
            "text/plain": [
              "Fraction(33, 4)"
            ]
          },
          "execution_count": 67,
          "metadata": {},
          "output_type": "execute_result"
        }
      ],
      "source": [
        "# Re-run the underlying funtions to get proportions\n",
        "P(flush, hands) / P(four_of_a_kind, hands)"
      ]
    },
    {
      "cell_type": "code",
      "execution_count": 68,
      "metadata": {
        "button": false,
        "id": "YOtPbIerYJge",
        "new_sheet": false,
        "outputId": "67cabc58-d0b0-450f-8701-bbe99066533d",
        "run_control": {
          "read_only": false
        },
        "scrolled": true
      },
      "outputs": [
        {
          "data": {
            "text/plain": [
              "'8.25'"
            ]
          },
          "execution_count": 68,
          "metadata": {},
          "output_type": "execute_result"
        }
      ],
      "source": [
        "'{0:.3}'.format(33/4)"
      ]
    },
    {
      "cell_type": "markdown",
      "metadata": {
        "button": false,
        "id": "AClJN-bKYJgf",
        "new_sheet": false,
        "run_control": {
          "read_only": false
        }
      },
      "source": [
        "### Exerise  (SUBMIT for 2 bonus marks - but don't attempt until after you have looked at Lab3b)\n",
        " \n",
        "Why not challenge yourself to find the probabilities of some other important [poker hand](https://en.wikipedia.org/wiki/List_of_poker_hands)...\n",
        "\n",
        "What about:\n",
        "- three of a kind\n",
        "- straight\n",
        "- a full house\n",
        "- straight flush\n",
        "- two pairs\n",
        "\n",
        "The probabilities you discover for each of these should be in the order in which their 'rank' counts in the game of poker - e.g. the lower rank of the 5 hands listed is `two pairs` so this should have the lowest probability. This might help you in terms of being a quick way of checking that you are in the right track.\n",
        "\n",
        "Many sites on the Web give the probabilities for each outcome based on the 'maths' approach - but you might enjoy the challenge of trying to do this using our 'countability' approach..."
      ]
    },
    {
      "cell_type": "code",
      "execution_count": 69,
      "metadata": {
        "id": "VdgX8LAyYJgf"
      },
      "outputs": [],
      "source": [
        "# Three of a kind\n",
        "# This function finds the hands which has three cards of one rank\n",
        "# and two cards of other ranks\n",
        "def three_of_a_kind(hand):\n",
        "    return any(hand.count(rank) == 3 for rank in ranks)"
      ]
    },
    {
      "cell_type": "code",
      "execution_count": 70,
      "metadata": {
        "id": "vy6QAhi1YJgg",
        "outputId": "2049f4dc-a437-4d8f-b098-95e5809db77a"
      },
      "outputs": [
        {
          "data": {
            "text/plain": [
              "Fraction(94, 4165)"
            ]
          },
          "execution_count": 70,
          "metadata": {},
          "output_type": "execute_result"
        }
      ],
      "source": [
        "P(three_of_a_kind, hands)"
      ]
    },
    {
      "cell_type": "code",
      "execution_count": 71,
      "metadata": {},
      "outputs": [
        {
          "data": {
            "text/plain": [
              "'0.02257'"
            ]
          },
          "execution_count": 71,
          "metadata": {},
          "output_type": "execute_result"
        }
      ],
      "source": [
        "'{0:.4}'.format(94/4165)"
      ]
    },
    {
      "cell_type": "code",
      "execution_count": 72,
      "metadata": {},
      "outputs": [],
      "source": [
        "# Straight Flush\n",
        "def integer_ranks(rankH):\n",
        "    '''\n",
        "    Coverts the string passed from the hand into integer\n",
        "    \n",
        "    Arguments\n",
        "    ---------\n",
        "    rankH  : string, of characters, which represents the rank of the card\n",
        "    \n",
        "    Returns\n",
        "    -------\n",
        "    Integer value of the rank passed into the function\n",
        "    '''\n",
        "    if rankH in ['9', '8', '7', '6', '5', '4', '3', '2']:\n",
        "        return int(rankH)\n",
        "    '''\n",
        "    As these are the representation for the 10s, Ace,\n",
        "    Jack, Queen and King, we evaluate them seperately\n",
        "    '''\n",
        "    if rankH == 'T':\n",
        "        return 10\n",
        "    if rankH == 'A':\n",
        "        return 1\n",
        "    if rankH == 'J':\n",
        "        return 11\n",
        "    if rankH == 'Q':\n",
        "        return 12\n",
        "    if rankH == 'K':\n",
        "        return 13\n",
        "\n",
        "def face_rank(hand):\n",
        "    '''\n",
        "    Returns the integer value of the rank for the current hand\n",
        "    As the rank of cards for the current card as seen below\n",
        "                'QH 4D KC JH 6H'\n",
        "    is placed in the position 0, 3, 6, 9, 12, we need only those ranks\n",
        "    Arguments\n",
        "    ---------\n",
        "    hand  : string, current hand from the hands\n",
        "    \n",
        "    Returns\n",
        "    -------\n",
        "    Integer value of the rank passed into the function\n",
        "    '''\n",
        "    return [integer_ranks(hand[i]) for i in [0, 3, 6, 9, 12]]\n",
        "\n",
        "def straight_flush(hand):\n",
        "    '''\n",
        "    This function first checks if the current hand is a 'flush' hand\n",
        "    If it is then checks for the sequentiality of the cards in the hand\n",
        "    '''\n",
        "    rank_f = face_rank(hand)\n",
        "    sequential_five = (max(rank_f) - min(rank_f) == 4)\n",
        "    return (any(hand.count(suit) == 5 for suit in suits)) and sequential_five\n"
      ]
    },
    {
      "cell_type": "code",
      "execution_count": 73,
      "metadata": {},
      "outputs": [
        {
          "data": {
            "text/plain": [
              "Fraction(3, 216580)"
            ]
          },
          "execution_count": 73,
          "metadata": {},
          "output_type": "execute_result"
        }
      ],
      "source": [
        "P(straight_flush, hands)"
      ]
    },
    {
      "cell_type": "code",
      "execution_count": 74,
      "metadata": {},
      "outputs": [
        {
          "data": {
            "text/plain": [
              "1.3851694523963431e-05"
            ]
          },
          "execution_count": 74,
          "metadata": {},
          "output_type": "execute_result"
        }
      ],
      "source": [
        "# The probability for a \"Straight Flush\"\n",
        "3/216580"
      ]
    },
    {
      "cell_type": "code",
      "execution_count": 95,
      "metadata": {},
      "outputs": [],
      "source": [
        "# Straight\n",
        "# This function returns the count of hand which are of\n",
        "# sequential rank\n",
        "def straight(hand):\n",
        "    rank_f = face_rank(hand)\n",
        "    sequential_five = (max(rank_f) - min(rank_f) == 4)\n",
        "    return (not any(hand.count(suit) == 5 for suit in suits)) and sequential_five and (len(rank_f) == len(set(rank_f)))"
      ]
    },
    {
      "cell_type": "code",
      "execution_count": 96,
      "metadata": {},
      "outputs": [
        {
          "data": {
            "text/plain": [
              "Fraction(9, 2548)"
            ]
          },
          "execution_count": 96,
          "metadata": {},
          "output_type": "execute_result"
        }
      ],
      "source": [
        "P(straight, hands)"
      ]
    },
    {
      "cell_type": "code",
      "execution_count": 97,
      "metadata": {},
      "outputs": [
        {
          "data": {
            "text/plain": [
              "0.003532182103610675"
            ]
          },
          "execution_count": 97,
          "metadata": {},
          "output_type": "execute_result"
        }
      ],
      "source": [
        "9/2548"
      ]
    },
    {
      "cell_type": "code",
      "execution_count": 78,
      "metadata": {},
      "outputs": [],
      "source": [
        "# Full House\n",
        "# This function returns the count of hand which contains three cards of one rank\n",
        "# and 2 cards of another rank\n",
        "def full_house(hand):\n",
        "    return any(hand.count(rank) == 3 for rank in ranks) and any(hand.count(rank) == 2 for rank in ranks)"
      ]
    },
    {
      "cell_type": "code",
      "execution_count": 79,
      "metadata": {},
      "outputs": [
        {
          "data": {
            "text/plain": [
              "Fraction(6, 4165)"
            ]
          },
          "execution_count": 79,
          "metadata": {},
          "output_type": "execute_result"
        }
      ],
      "source": [
        "P(full_house, hands)"
      ]
    },
    {
      "cell_type": "code",
      "execution_count": 80,
      "metadata": {},
      "outputs": [
        {
          "data": {
            "text/plain": [
              "0.0014405762304921968"
            ]
          },
          "execution_count": 80,
          "metadata": {},
          "output_type": "execute_result"
        }
      ],
      "source": [
        "6/4165"
      ]
    },
    {
      "cell_type": "code",
      "execution_count": 81,
      "metadata": {},
      "outputs": [],
      "source": [
        "# Two Pairs\n",
        "# This function returns the count of hand which contains\n",
        "# two cards of one rank, two cards of another rank\n",
        "# and one card of third rank\n",
        "def two_pairs(hand):\n",
        "    return sum([hand.count(rank) == 2 for rank in ranks]) == 2"
      ]
    },
    {
      "cell_type": "code",
      "execution_count": 82,
      "metadata": {},
      "outputs": [
        {
          "data": {
            "text/plain": [
              "Fraction(198, 4165)"
            ]
          },
          "execution_count": 82,
          "metadata": {},
          "output_type": "execute_result"
        }
      ],
      "source": [
        "P(two_pairs, hands)"
      ]
    },
    {
      "cell_type": "code",
      "execution_count": 83,
      "metadata": {},
      "outputs": [
        {
          "data": {
            "text/plain": [
              "0.0475390156062425"
            ]
          },
          "execution_count": 83,
          "metadata": {},
          "output_type": "execute_result"
        }
      ],
      "source": [
        "198/4165"
      ]
    },
    {
      "cell_type": "markdown",
      "metadata": {
        "button": false,
        "id": "HKpS_QxUYJgg",
        "new_sheet": false,
        "run_control": {
          "read_only": false
        }
      },
      "source": [
        "## On to Lab3b\n",
        " \n",
        "If you have reached this far then I feel that you should have gained a sense of some of the issues around probability that we are introducing this week, and hopefully learned a few more Python skills/tricks along the way.  If you have questions please note them down and send them along before Wednesday Noon so that we can cover them on Thursday...\n",
        "\n",
        "If you have reached here with lots of time to spare then you may find it interesting to take a look at **Lab3b** where we take a look at some additional interesting ideas from Peter Norwig's tutorial.\n"
      ]
    }
  ],
  "metadata": {
    "colab": {
      "provenance": []
    },
    "kernelspec": {
      "display_name": "Python 3.9.13 ('myenv')",
      "language": "python",
      "name": "python3"
    },
    "language_info": {
      "codemirror_mode": {
        "name": "ipython",
        "version": 3
      },
      "file_extension": ".py",
      "mimetype": "text/x-python",
      "name": "python",
      "nbconvert_exporter": "python",
      "pygments_lexer": "ipython3",
      "version": "3.9.13"
    },
    "vscode": {
      "interpreter": {
        "hash": "896f6dcb700a20d36385ce797b4923884edd68afc9b0efe6db22b2f21ab36382"
      }
    }
  },
  "nbformat": 4,
  "nbformat_minor": 0
}
