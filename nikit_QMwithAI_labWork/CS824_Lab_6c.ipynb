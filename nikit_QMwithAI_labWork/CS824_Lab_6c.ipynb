{
 "cells": [
  {
   "cell_type": "markdown",
   "metadata": {},
   "source": [
    "<div style=\"text-align: right\"> CS824 - Lab 6c (2022) </div>\n",
    "\n",
    "# Working with matrices as well as vectors\n",
    "\n",
    "We will be using 2-D arrays to represent matrices (as the NumPy developers have noted that the `matrix` data type is likely soon to be depricated), and as of Python version 3.5 there is a built-in operator (`@`) for matrix (as opposed to element-wise) multiplication...  (Previously the `*` operator was interpreted as 'matrix multiplication' when applied to `matrix` objects, but that was about the only reason that you would have used that specific data type prior to the `@` operator being available. However, you do need to remember that when applyng the `*` operator to arrays of any dimensions - including 2-D arrays to represent classic matrices - this will always be interpreted as a request to carry out element-wise multiplication.) \n",
    "\n",
    "We have already seen some non 1-D arrays, so strictly speaking we have already seen some matrix objects. However, here we will be a bit more 'formal' and stick to creating `vectors` that will be one dimensional and matrices which will be `2-D arrays`. \n"
   ]
  },
  {
   "cell_type": "code",
   "execution_count": 3,
   "metadata": {
    "button": false,
    "new_sheet": false,
    "run_control": {
     "read_only": false
    },
    "scrolled": true
   },
   "outputs": [
    {
     "name": "stdout",
     "output_type": "stream",
     "text": [
      "[3 4 7]\n",
      "[[3]\n",
      " [4]\n",
      " [7]]\n",
      "[[3]\n",
      " [4]\n",
      " [7]]\n",
      "[[3 4 7]]\n"
     ]
    }
   ],
   "source": [
    "# We have already seen that vectors can be created as row- or column- based arrays in one-dimension\n",
    "\n",
    "import numpy as np\n",
    "\n",
    "# A vector as a single row\n",
    "row_vec = np.array([3, 4, 7])\n",
    "\n",
    "# Or as a single column\n",
    "col_vec = np.array([[3],\n",
    "                    [4],\n",
    "                    [7]])\n",
    "\n",
    "# You can also make a column vector by `re-shaping` a row vector\n",
    "col_vec2 = row_vec.reshape(3, 1)\n",
    "\n",
    "# You can also make a row vector by `re-shaping` a column vector\n",
    "row_vec2 = col_vec.reshape(1, 3)\n",
    "\n",
    "print(row_vec)\n",
    "print(col_vec)\n",
    "print(col_vec2)\n",
    "print(row_vec2)\n"
   ]
  },
  {
   "cell_type": "markdown",
   "metadata": {
    "button": false,
    "new_sheet": false,
    "run_control": {
     "read_only": false
    }
   },
   "source": [
    "Strictly you should **not** use the `transpose` operator (`T` method) to achieve this row-to-column transformation as a vector is just a collection of values (a 'tuple') and therefore does not have row/column indices that can be switched (`transpose`). However, you will sometimes see code that does this - perhaps because people think of this as the 1-D equivalent to the matrix transformations we will explore below.\n"
   ]
  },
  {
   "cell_type": "code",
   "execution_count": 4,
   "metadata": {
    "button": false,
    "new_sheet": false,
    "run_control": {
     "read_only": false
    },
    "scrolled": true
   },
   "outputs": [
    {
     "name": "stdout",
     "output_type": "stream",
     "text": [
      "[[3]\n",
      " [4]\n",
      " [7]]\n"
     ]
    }
   ],
   "source": [
    "# Generate a single column vector by taking the transpose of a row vector. \n",
    "# Note the second set of [] that is required to make this happen.\n",
    "\n",
    "col_vec3 = np.array([[3, 4, 7]]).T\n",
    "\n",
    "print(col_vec3)\n"
   ]
  },
  {
   "cell_type": "markdown",
   "metadata": {
    "button": false,
    "new_sheet": false,
    "run_control": {
     "read_only": false
    }
   },
   "source": [
    "## Create an NxN matrix and generate its transpose\n",
    "\n",
    "Let's create an NxN (here 4x4) matrix and use the `T` method to get its transpose.\n"
   ]
  },
  {
   "cell_type": "code",
   "execution_count": 5,
   "metadata": {
    "button": false,
    "new_sheet": false,
    "run_control": {
     "read_only": false
    },
    "scrolled": true
   },
   "outputs": [
    {
     "name": "stdout",
     "output_type": "stream",
     "text": [
      "[[ 1  5  9 13]\n",
      " [ 2  6 10 14]\n",
      " [ 3  7 11 15]\n",
      " [ 4  8 12 16]]\n",
      "-----------------and its transpose\n",
      "[[ 1  2  3  4]\n",
      " [ 5  6  7  8]\n",
      " [ 9 10 11 12]\n",
      " [13 14 15 16]]\n"
     ]
    }
   ],
   "source": [
    "# A matrix with 4 rows and 4 columns\n",
    "mat_A = np.array([[1, 5,  9, 13],\n",
    "                  [2, 6, 10, 14],\n",
    "                  [3, 7, 11, 15],\n",
    "                  [4, 8, 12, 16]])\n",
    "\n",
    "print(mat_A)\n",
    "print(\"-----------------and its transpose\")\n",
    "print(mat_A.T)\n"
   ]
  },
  {
   "cell_type": "markdown",
   "metadata": {
    "button": false,
    "new_sheet": false,
    "run_control": {
     "read_only": false
    }
   },
   "source": [
    "## Inverting a matrix\n",
    "\n",
    "This should NOT be confused with a transpostion. A couple of points:\n",
    " - you can *only* invert **square** matrices\n",
    " - some matrices cannot be inverted\n",
    "\n",
    "The defintion of the inverse of a square matrix `[A]` is a second matrix `[A-1`, such that:\n",
    "> `[A]` `[A-1]` = `I`    (the identity matrix)\n"
   ]
  },
  {
   "cell_type": "code",
   "execution_count": 6,
   "metadata": {
    "button": false,
    "new_sheet": false,
    "run_control": {
     "read_only": false
    },
    "scrolled": true
   },
   "outputs": [
    {
     "ename": "LinAlgError",
     "evalue": "Singular matrix",
     "output_type": "error",
     "traceback": [
      "\u001b[1;31m---------------------------------------------------------------------------\u001b[0m",
      "\u001b[1;31mLinAlgError\u001b[0m                               Traceback (most recent call last)",
      "\u001b[1;32mc:\\Users\\Nikit\\Documents\\UniWork\\labwork\\nikit_QMwithAI_labWork\\CS824_Lab_6c.ipynb Cell 8\u001b[0m in \u001b[0;36m<cell line: 6>\u001b[1;34m()\u001b[0m\n\u001b[0;32m      <a href='vscode-notebook-cell:/c%3A/Users/Nikit/Documents/UniWork/labwork/nikit_QMwithAI_labWork/CS824_Lab_6c.ipynb#X10sZmlsZQ%3D%3D?line=0'>1</a>\u001b[0m \u001b[39m# Let's see what happens with our matrix above...\u001b[39;00m\n\u001b[0;32m      <a href='vscode-notebook-cell:/c%3A/Users/Nikit/Documents/UniWork/labwork/nikit_QMwithAI_labWork/CS824_Lab_6c.ipynb#X10sZmlsZQ%3D%3D?line=1'>2</a>\u001b[0m \u001b[39m# It should generate a 'Singular matrix' error - in other words this particular matrix cannot be inverted.\u001b[39;00m\n\u001b[0;32m      <a href='vscode-notebook-cell:/c%3A/Users/Nikit/Documents/UniWork/labwork/nikit_QMwithAI_labWork/CS824_Lab_6c.ipynb#X10sZmlsZQ%3D%3D?line=3'>4</a>\u001b[0m \u001b[39mfrom\u001b[39;00m \u001b[39mnumpy\u001b[39;00m \u001b[39mimport\u001b[39;00m linalg \u001b[39mas\u001b[39;00m LA \n\u001b[1;32m----> <a href='vscode-notebook-cell:/c%3A/Users/Nikit/Documents/UniWork/labwork/nikit_QMwithAI_labWork/CS824_Lab_6c.ipynb#X10sZmlsZQ%3D%3D?line=5'>6</a>\u001b[0m mat_A_invert \u001b[39m=\u001b[39m LA\u001b[39m.\u001b[39;49minv(mat_A)\n",
      "File \u001b[1;32m<__array_function__ internals>:180\u001b[0m, in \u001b[0;36minv\u001b[1;34m(*args, **kwargs)\u001b[0m\n",
      "File \u001b[1;32mc:\\Users\\Nikit\\anaconda3\\envs\\myenv\\lib\\site-packages\\numpy\\linalg\\linalg.py:545\u001b[0m, in \u001b[0;36minv\u001b[1;34m(a)\u001b[0m\n\u001b[0;32m    543\u001b[0m signature \u001b[39m=\u001b[39m \u001b[39m'\u001b[39m\u001b[39mD->D\u001b[39m\u001b[39m'\u001b[39m \u001b[39mif\u001b[39;00m isComplexType(t) \u001b[39melse\u001b[39;00m \u001b[39m'\u001b[39m\u001b[39md->d\u001b[39m\u001b[39m'\u001b[39m\n\u001b[0;32m    544\u001b[0m extobj \u001b[39m=\u001b[39m get_linalg_error_extobj(_raise_linalgerror_singular)\n\u001b[1;32m--> 545\u001b[0m ainv \u001b[39m=\u001b[39m _umath_linalg\u001b[39m.\u001b[39;49minv(a, signature\u001b[39m=\u001b[39;49msignature, extobj\u001b[39m=\u001b[39;49mextobj)\n\u001b[0;32m    546\u001b[0m \u001b[39mreturn\u001b[39;00m wrap(ainv\u001b[39m.\u001b[39mastype(result_t, copy\u001b[39m=\u001b[39m\u001b[39mFalse\u001b[39;00m))\n",
      "File \u001b[1;32mc:\\Users\\Nikit\\anaconda3\\envs\\myenv\\lib\\site-packages\\numpy\\linalg\\linalg.py:88\u001b[0m, in \u001b[0;36m_raise_linalgerror_singular\u001b[1;34m(err, flag)\u001b[0m\n\u001b[0;32m     87\u001b[0m \u001b[39mdef\u001b[39;00m \u001b[39m_raise_linalgerror_singular\u001b[39m(err, flag):\n\u001b[1;32m---> 88\u001b[0m     \u001b[39mraise\u001b[39;00m LinAlgError(\u001b[39m\"\u001b[39m\u001b[39mSingular matrix\u001b[39m\u001b[39m\"\u001b[39m)\n",
      "\u001b[1;31mLinAlgError\u001b[0m: Singular matrix"
     ]
    }
   ],
   "source": [
    "# Let's see what happens with our matrix above...\n",
    "# It should generate a 'Singular matrix' error - in other words this particular matrix cannot be inverted.\n",
    "\n",
    "from numpy import linalg as LA \n",
    "\n",
    "mat_A_invert = LA.inv(mat_A)\n"
   ]
  },
  {
   "cell_type": "code",
   "execution_count": 7,
   "metadata": {
    "button": false,
    "new_sheet": false,
    "run_control": {
     "read_only": false
    },
    "scrolled": true
   },
   "outputs": [
    {
     "name": "stdout",
     "output_type": "stream",
     "text": [
      "[[1 4]\n",
      " [2 5]]\n",
      "[[-1.66666667  1.33333333]\n",
      " [ 0.66666667 -0.33333333]]\n"
     ]
    }
   ],
   "source": [
    "# Let's start with a simpler 2x2 matrix\n",
    "mat_B = np.array([[1, 4],\n",
    "                  [2, 5]])\n",
    "\n",
    "mat_B_invert = LA.inv(mat_B)\n",
    "print(mat_B)\n",
    "print(mat_B_invert)\n",
    "# An 'inversion' was generated, but it is not easy to see what it might 'mean'!"
   ]
  },
  {
   "cell_type": "code",
   "execution_count": 8,
   "metadata": {
    "button": false,
    "new_sheet": false,
    "run_control": {
     "read_only": false
    },
    "scrolled": true
   },
   "outputs": [
    {
     "name": "stdout",
     "output_type": "stream",
     "text": [
      "[[1. 0.]\n",
      " [0. 1.]]\n"
     ]
    }
   ],
   "source": [
    "# Let's confirm that these are indeed the inverse of the other.\n",
    "# We can use the `@` operator to carry out matrix multiplication.\n",
    "\n",
    "print(mat_B @ mat_B_invert)\n",
    "\n",
    "# Due to rounding errors this may not quite be the 'perfect' Identity we were looking for - i.e. \n",
    "#\n",
    "#    [[1, 0]\n",
    "#      0, 1]]\n",
    "#\n",
    "# But it's close enough!\n"
   ]
  },
  {
   "cell_type": "markdown",
   "metadata": {
    "button": false,
    "new_sheet": false,
    "run_control": {
     "read_only": false
    }
   },
   "source": [
    "## Exercise 6c1\n",
    "\n",
    "The `transpose` opeartion/method can also be applied to non-square matrices.  \n",
    " - Generate a non-square matrix and see what its transpose looks like.\n",
    "\n",
    "As we saw some matrices cannot be inverted. In fact if we find the **determinant** of a matrix then this let's us know whether inversion can be attempted or not. If the `det` of a matrix is zero then it CANNOT be inverted.\n",
    "\n",
    " - Check the determinant values for the two matrices that we were working with above (**A** and **B**)\n"
   ]
  },
  {
   "cell_type": "code",
   "execution_count": 14,
   "metadata": {},
   "outputs": [
    {
     "name": "stdout",
     "output_type": "stream",
     "text": [
      "The matrix is:\n",
      " [[1 5 2 4 5]\n",
      " [2 5 5 6 6]\n",
      " [5 3 2 3 5]]\n",
      "Transpose of a non-Square matrix is:\n",
      " [[1 2 5]\n",
      " [5 5 3]\n",
      " [2 5 2]\n",
      " [4 6 3]\n",
      " [5 6 5]]\n"
     ]
    }
   ],
   "source": [
    "# Generate a non-square matrix and see what its transpose looks like.\n",
    "mat_X = np.random.randint(1, 7, size=(3, 5))\n",
    "print('The matrix is:\\n', format(mat_X))\n",
    "print('Transpose of a non-Square matrix is:\\n', format(mat_X.T))"
   ]
  },
  {
   "cell_type": "code",
   "execution_count": 15,
   "metadata": {},
   "outputs": [
    {
     "data": {
      "text/plain": [
       "0.0"
      ]
     },
     "execution_count": 15,
     "metadata": {},
     "output_type": "execute_result"
    }
   ],
   "source": [
    "# Check the determinant values for the two matrices that we were working with above (A and B)\n",
    "LA.det(mat_A)"
   ]
  },
  {
   "cell_type": "code",
   "execution_count": 16,
   "metadata": {},
   "outputs": [
    {
     "data": {
      "text/plain": [
       "-2.9999999999999996"
      ]
     },
     "execution_count": 16,
     "metadata": {},
     "output_type": "execute_result"
    }
   ],
   "source": [
    "LA.det(mat_B)"
   ]
  },
  {
   "cell_type": "code",
   "execution_count": 17,
   "metadata": {},
   "outputs": [
    {
     "ename": "LinAlgError",
     "evalue": "Last 2 dimensions of the array must be square",
     "output_type": "error",
     "traceback": [
      "\u001b[1;31m---------------------------------------------------------------------------\u001b[0m",
      "\u001b[1;31mLinAlgError\u001b[0m                               Traceback (most recent call last)",
      "\u001b[1;32mc:\\Users\\Nikit\\Documents\\UniWork\\labwork\\nikit_QMwithAI_labWork\\CS824_Lab_6c.ipynb Cell 15\u001b[0m in \u001b[0;36m<cell line: 1>\u001b[1;34m()\u001b[0m\n\u001b[1;32m----> <a href='vscode-notebook-cell:/c%3A/Users/Nikit/Documents/UniWork/labwork/nikit_QMwithAI_labWork/CS824_Lab_6c.ipynb#X41sZmlsZQ%3D%3D?line=0'>1</a>\u001b[0m LA\u001b[39m.\u001b[39;49mdet(mat_X)\n",
      "File \u001b[1;32m<__array_function__ internals>:180\u001b[0m, in \u001b[0;36mdet\u001b[1;34m(*args, **kwargs)\u001b[0m\n",
      "File \u001b[1;32mc:\\Users\\Nikit\\anaconda3\\envs\\myenv\\lib\\site-packages\\numpy\\linalg\\linalg.py:2143\u001b[0m, in \u001b[0;36mdet\u001b[1;34m(a)\u001b[0m\n\u001b[0;32m   2141\u001b[0m a \u001b[39m=\u001b[39m asarray(a)\n\u001b[0;32m   2142\u001b[0m _assert_stacked_2d(a)\n\u001b[1;32m-> 2143\u001b[0m _assert_stacked_square(a)\n\u001b[0;32m   2144\u001b[0m t, result_t \u001b[39m=\u001b[39m _commonType(a)\n\u001b[0;32m   2145\u001b[0m signature \u001b[39m=\u001b[39m \u001b[39m'\u001b[39m\u001b[39mD->D\u001b[39m\u001b[39m'\u001b[39m \u001b[39mif\u001b[39;00m isComplexType(t) \u001b[39melse\u001b[39;00m \u001b[39m'\u001b[39m\u001b[39md->d\u001b[39m\u001b[39m'\u001b[39m\n",
      "File \u001b[1;32mc:\\Users\\Nikit\\anaconda3\\envs\\myenv\\lib\\site-packages\\numpy\\linalg\\linalg.py:203\u001b[0m, in \u001b[0;36m_assert_stacked_square\u001b[1;34m(*arrays)\u001b[0m\n\u001b[0;32m    201\u001b[0m m, n \u001b[39m=\u001b[39m a\u001b[39m.\u001b[39mshape[\u001b[39m-\u001b[39m\u001b[39m2\u001b[39m:]\n\u001b[0;32m    202\u001b[0m \u001b[39mif\u001b[39;00m m \u001b[39m!=\u001b[39m n:\n\u001b[1;32m--> 203\u001b[0m     \u001b[39mraise\u001b[39;00m LinAlgError(\u001b[39m'\u001b[39m\u001b[39mLast 2 dimensions of the array must be square\u001b[39m\u001b[39m'\u001b[39m)\n",
      "\u001b[1;31mLinAlgError\u001b[0m: Last 2 dimensions of the array must be square"
     ]
    }
   ],
   "source": [
    "LA.det(mat_X)"
   ]
  },
  {
   "cell_type": "markdown",
   "metadata": {
    "button": false,
    "new_sheet": false,
    "run_control": {
     "read_only": false
    }
   },
   "source": [
    "## Diagonals and the 'Trace' of a matrix\n",
    "\n",
    "We are often interested in the 'main diagonal' of a matrix; irrespective of the dimensions of the matrix this will always be a vector.\n"
   ]
  },
  {
   "cell_type": "code",
   "execution_count": 18,
   "metadata": {
    "button": false,
    "new_sheet": false,
    "run_control": {
     "read_only": false
    },
    "scrolled": true
   },
   "outputs": [
    {
     "name": "stdout",
     "output_type": "stream",
     "text": [
      "Here is a matrix:\n",
      "[[ 1  5  9 13]\n",
      " [ 2  6 10 14]\n",
      " [ 3  7 11 15]\n",
      " [ 4  8 12 16]]\n",
      "--------------------------------------------------\n",
      "And these are the members of its leading diagonal:\n",
      "[ 1  6 11 16]\n"
     ]
    }
   ],
   "source": [
    "# Let's remind ourselves of the contents of mat_A and then get its diagonal\n",
    "\n",
    "print(\"Here is a matrix:\")\n",
    "print(mat_A)\n",
    "\n",
    "diag_A = mat_A.diagonal()\n",
    "\n",
    "print(\"--------------------------------------------------\")\n",
    "print(\"And these are the members of its leading diagonal:\")\n",
    "print(diag_A)\n"
   ]
  },
  {
   "cell_type": "markdown",
   "metadata": {
    "button": false,
    "new_sheet": false,
    "run_control": {
     "read_only": false
    }
   },
   "source": [
    "While Python will not generate an error if you apply the `diagonal` method to a non-square matrix, you may have to be careful about how you interpret these 'diagonal' values...\n",
    "\n",
    "You can also use an `offset` parameter to return values at some distance away from the 'main diagonal'...\n"
   ]
  },
  {
   "cell_type": "code",
   "execution_count": 19,
   "metadata": {
    "button": false,
    "new_sheet": false,
    "run_control": {
     "read_only": false
    },
    "scrolled": true
   },
   "outputs": [
    {
     "name": "stdout",
     "output_type": "stream",
     "text": [
      "These values lie along the diagonal one 'below' the leading diagonal:\n",
      "[ 2  7 12]\n",
      "--------------------------------------------------\n",
      "While these are the values lying in the diagonal one 'above' the leading diagonal:\n",
      "[ 5 10 15]\n"
     ]
    }
   ],
   "source": [
    "print(\"These values lie along the diagonal one 'below' the leading diagonal:\")\n",
    "print(mat_A.diagonal(offset=-1))\n",
    "\n",
    "print(\"--------------------------------------------------\")\n",
    "print(\"While these are the values lying in the diagonal one 'above' the leading diagonal:\")\n",
    "print(mat_A.diagonal(offset=1))\n"
   ]
  },
  {
   "cell_type": "markdown",
   "metadata": {
    "button": false,
    "new_sheet": false,
    "run_control": {
     "read_only": false
    }
   },
   "source": [
    "\n",
    "**NB** There is also something referred to as a *'diagonal matrix'* which is (most often) a square matrix that has values on it main diagonal and zeros everywhere else. The **_identity matix_** is a special case of a *diagonal matrix* where all of these non-zero entries are equal to 1.\n"
   ]
  },
  {
   "cell_type": "markdown",
   "metadata": {
    "button": false,
    "new_sheet": false,
    "run_control": {
     "read_only": false
    }
   },
   "source": [
    "### The 'Trace' of a matrix\n",
    "\n",
    "This is simply the sum of the values that lie along the leading diagonal...\n"
   ]
  },
  {
   "cell_type": "code",
   "execution_count": 20,
   "metadata": {
    "button": false,
    "new_sheet": false,
    "run_control": {
     "read_only": false
    },
    "scrolled": true
   },
   "outputs": [
    {
     "name": "stdout",
     "output_type": "stream",
     "text": [
      "The 'trace' of matrix mat_A is:\n",
      "34\n"
     ]
    }
   ],
   "source": [
    "print(\"The 'trace' of matrix mat_A is:\")\n",
    "print(mat_A.trace())"
   ]
  },
  {
   "cell_type": "markdown",
   "metadata": {
    "button": false,
    "new_sheet": false,
    "run_control": {
     "read_only": false
    }
   },
   "source": [
    "You could of course use the `sum` and `diagonal` array operations to find this value pretty easily...\n"
   ]
  },
  {
   "cell_type": "code",
   "execution_count": 21,
   "metadata": {
    "button": false,
    "new_sheet": false,
    "run_control": {
     "read_only": false
    },
    "scrolled": true
   },
   "outputs": [
    {
     "name": "stdout",
     "output_type": "stream",
     "text": [
      "Working out the 'trace' using basic operators, the value we get is (surprise surprise!):\n",
      "34\n"
     ]
    }
   ],
   "source": [
    "trace2 = np.sum(mat_A.diagonal())\n",
    "print(\"Working out the 'trace' using basic operators, the value we get is (surprise surprise!):\")\n",
    "print(trace2)"
   ]
  },
  {
   "cell_type": "markdown",
   "metadata": {
    "button": false,
    "new_sheet": false,
    "run_control": {
     "read_only": false
    }
   },
   "source": [
    "## Exercise 6c2  (SUBMIT)\n",
    "\n",
    "You may remember that a common way to assess the performance of a classification algorithm is to report its **accuracy** which is often taken to be the entries on the leading diagonal of a 'mis-classification matrix' (i.e. all of the cases that it got correct) as a proportion of the total number of cases.\n",
    "\n",
    " - write a function called `my_accuracy` that takes a square matrix and returns an accuracy score as a percentage value\n",
    "\n",
    "Once written you can try it out on the following cases:\n",
    "\n",
    " - A 2x2 mis-classification table that you might get from a clincal diagnostic test:\n",
    "<br>\n",
    "<br>&nbsp;&nbsp;&nbsp;&nbsp;&nbsp;&nbsp;&nbsp;&nbsp;&nbsp;&nbsp;&nbsp;&nbsp;&nbsp;&nbsp;  +ve Cases &nbsp;&nbsp;   -ve Cases\n",
    "<br>+ve Tests &nbsp;&nbsp;&nbsp; 71 &nbsp;&nbsp;&nbsp;&nbsp;&nbsp;&nbsp;&nbsp;&nbsp;&nbsp;&nbsp;&nbsp;&nbsp; 3\n",
    "<br>-ve Tests &nbsp;&nbsp;&nbsp;&nbsp; 7 &nbsp;&nbsp;&nbsp;&nbsp;&nbsp;&nbsp;&nbsp;&nbsp;&nbsp;&nbsp;&nbsp;&nbsp; 23\n",
    "\n",
    "> I get a value of accuracy of just over 90% \n",
    "\n",
    " - Now you have a multi-class problem with 5 possible outcome classes (a bit like the various animal diseases in *VetAfrica*. A more complex mis-classification matrix is shown below, but once again your function should easily be able to estimate the accuracy score.\n",
    "\n",
    "&nbsp;(35,  2,  1,  0,  3,\n",
    "<br> &nbsp;&nbsp; 4, 24,  2,  1,  5,\n",
    "<br> &nbsp;&nbsp; 3,  0, 51,  2,  7,\n",
    "<br> &nbsp;&nbsp; 0,  1,  6, 33, 12,\n",
    "<br> &nbsp;&nbsp; 1,  3,  1,  4,  45)\n",
    "\n",
    "> I get a value of accuracy of just over 76% \n"
   ]
  },
  {
   "cell_type": "code",
   "execution_count": 28,
   "metadata": {},
   "outputs": [],
   "source": [
    "def my_accuracy(mat):\n",
    "    acc = np.sum(mat.diagonal()) / np.sum(mat) * 100\n",
    "    return acc"
   ]
  },
  {
   "cell_type": "code",
   "execution_count": 29,
   "metadata": {},
   "outputs": [
    {
     "name": "stdout",
     "output_type": "stream",
     "text": [
      "Accuracy of the test is:  90.38461538461539\n"
     ]
    }
   ],
   "source": [
    "mat_test1 = np.array([[71, 3],\n",
    "                     [7, 23]])\n",
    "\n",
    "print(\"Accuracy of the test is: \", my_accuracy(mat_test1))"
   ]
  },
  {
   "cell_type": "code",
   "execution_count": 30,
   "metadata": {},
   "outputs": [
    {
     "name": "stdout",
     "output_type": "stream",
     "text": [
      "Accuracy of the test is:  76.32653061224491\n"
     ]
    }
   ],
   "source": [
    "mat_test2 = np.array([[35, 2, 1, 0, 3],\n",
    "                     [4, 23, 2, 1, 5],\n",
    "                     [3, 0, 51, 2, 7],\n",
    "                     [0, 1, 6, 33, 12],\n",
    "                     [1, 3, 1, 4, 45]])\n",
    "\n",
    "print(\"Accuracy of the test is: \", my_accuracy(mat_test2))"
   ]
  },
  {
   "cell_type": "markdown",
   "metadata": {},
   "source": [
    "## The Rank of a matrix\n",
    "\n",
    "The result of this calculation is the number of linearly independent rows/columns in a matrix.\n",
    "\n",
    "The maximum number of linearly independent rows in **A** is called the 'row rank' while the maximum number of linearly independent columns is called the 'column rank'. In an m-by-n matrix, it is obvious that the row_rank must be <= `m` while the column_rank <= `n`. However, there is no real reason to make a distinction between rows and columns when thinking about a matrix (as we could transpose and look for linear indepence in the 'alternate' direction. Therefore it is normal to talk only of the overall **rank** of a matrix, and for the case where **A** is an m-by-n matrix: \n",
    "\n",
    "> rank(**A**) <= min(m, n)\n",
    "\n",
    "We can use the NumPy function `rank` to find this value...\n"
   ]
  },
  {
   "cell_type": "code",
   "execution_count": 31,
   "metadata": {
    "button": false,
    "new_sheet": false,
    "run_control": {
     "read_only": false
    },
    "scrolled": true
   },
   "outputs": [
    {
     "name": "stdout",
     "output_type": "stream",
     "text": [
      "The matrix shown below:\n",
      "[[  1  -2   0   4]\n",
      " [  3   1   1   0]\n",
      " [ -1  -5  -1   8]\n",
      " [  3   8   2 -12]]\n",
      "has an overall rank of: 2\n"
     ]
    }
   ],
   "source": [
    "mat_Z = np.array([[1, -2, 0, 4],\n",
    "                  [3,  1, 1, 0],\n",
    "                  [-1,-5,-1, 8],\n",
    "                  [ 3, 8, 2, -12]])\n",
    "\n",
    "print(\"The matrix shown below:\")\n",
    "print(mat_Z)\n",
    "print(\"has an overall rank of: {0:}\".format(LA.matrix_rank(mat_Z)))\n"
   ]
  },
  {
   "cell_type": "markdown",
   "metadata": {},
   "source": [
    "### Short explanation of *Rank*\n",
    "\n",
    "In the example above, think of the four rows as four sets of linear equations.\n",
    "<br> e.g. &nbsp;&nbsp; r1 = a -2b + 4d\n",
    "<br>&nbsp;&nbsp;&nbsp;&nbsp;&nbsp;&nbsp;&nbsp;&nbsp;&nbsp; r2 = 3a +b + c\n",
    "\n",
    "For each of these rows to be linearly independent they should **not** be able to be expressed in terms of any of the others (and the same holds for the columns).\n",
    "\n",
    "However, hopefully you can see that in this particular example:\n",
    " - r3 = 2*r1 - r2\n",
    "<br>and also that\n",
    " - r4 = -3*r1 + 2*r2\n",
    " \n",
    "Neither r3 nor r4 are independent of r1/r2 (i.e. they can be expressed as linear combinations of them) and as such the maximum number of independent rows (i.e. the **rank**) in this example is 2 (just r1 and r2).\n"
   ]
  },
  {
   "cell_type": "markdown",
   "metadata": {
    "button": false,
    "new_sheet": false,
    "run_control": {
     "read_only": false
    }
   },
   "source": [
    "## Exercise 6c3\n",
    "\n",
    "Consider the two matrices shown below and find their `rank`...  see whether this makes sense for:\n",
    " - an non-square 4x3 matrix (**V**)\n",
    " - the 3x3 'checker-board' matrix (**W**)\n",
    " - try a much larger 'checker-board', say 6x6\n"
   ]
  },
  {
   "cell_type": "code",
   "execution_count": 32,
   "metadata": {
    "button": false,
    "new_sheet": false,
    "run_control": {
     "read_only": false
    },
    "scrolled": true
   },
   "outputs": [],
   "source": [
    "V = np.array([[2,-1, 5],\n",
    "              [1, 0, 1],\n",
    "              [0, 2,-1],\n",
    "              [1, 1, 4]])\n",
    "\n",
    "W = np.array([[ 1,-1, 1],\n",
    "              [-1, 1,-1],\n",
    "              [ 1,-1, 1]])"
   ]
  },
  {
   "cell_type": "code",
   "execution_count": 33,
   "metadata": {},
   "outputs": [
    {
     "name": "stdout",
     "output_type": "stream",
     "text": [
      "The matrix shown below:\n",
      "[[ 2 -1  5]\n",
      " [ 1  0  1]\n",
      " [ 0  2 -1]\n",
      " [ 1  1  4]]\n",
      "has an overall rank of: 3\n"
     ]
    }
   ],
   "source": [
    "print(\"The matrix shown below:\")\n",
    "print(V)\n",
    "print(\"has an overall rank of: {0:}\".format(LA.matrix_rank(V)))"
   ]
  },
  {
   "cell_type": "code",
   "execution_count": 34,
   "metadata": {},
   "outputs": [
    {
     "name": "stdout",
     "output_type": "stream",
     "text": [
      "The matrix shown below:\n",
      "[[ 1 -1  1]\n",
      " [-1  1 -1]\n",
      " [ 1 -1  1]]\n",
      "has an overall rank of: 1\n"
     ]
    }
   ],
   "source": [
    "print(\"The matrix shown below:\")\n",
    "print(W)\n",
    "print(\"has an overall rank of: {0:}\".format(LA.matrix_rank(W)))"
   ]
  }
 ],
 "metadata": {
  "kernelspec": {
   "display_name": "Python 3.9.13 ('myenv')",
   "language": "python",
   "name": "python3"
  },
  "language_info": {
   "codemirror_mode": {
    "name": "ipython",
    "version": 3
   },
   "file_extension": ".py",
   "mimetype": "text/x-python",
   "name": "python",
   "nbconvert_exporter": "python",
   "pygments_lexer": "ipython3",
   "version": "3.9.13"
  },
  "vscode": {
   "interpreter": {
    "hash": "896f6dcb700a20d36385ce797b4923884edd68afc9b0efe6db22b2f21ab36382"
   }
  }
 },
 "nbformat": 4,
 "nbformat_minor": 1
}
