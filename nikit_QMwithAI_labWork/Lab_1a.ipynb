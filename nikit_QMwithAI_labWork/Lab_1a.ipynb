{
 "cells": [
  {
   "cell_type": "markdown",
   "metadata": {},
   "source": [
    "## Lab 1a (CS824)"
   ]
  },
  {
   "cell_type": "markdown",
   "metadata": {},
   "source": [
    "### This notebook contains a bunch of introductory ideas on Python and using Jupyter Notebook.  If you already use Jupyter and or have covered this type of 'basic' material please feel free to skip to the end of this exercise and/or see if you can build on some of the basic ideas to achieve more 'interesting' outcomes with variables of type dictionary (towards end of section)...\n",
    "\n",
    "As you may know by now this cell is a 'markdown' cell - it does **NOT** contain code but rather text. This text can also contain special *markdown* codes which render as, for example, **bold**, *italic*, heading formats, etc. \n",
    "\n",
    "Using markdown can improve the readability of the text in your *Notebooks*. However, sometimes when I am being lazy I may just note text as a *comment* element within a 'code' cell (see below). This is fine and can be useful (e.g. when you want to include a comment 'in line' with some code (again see an example four cells down). However, you cannot use format in comments to draw the reader's attention to specific points, and the rendering of the text is also not automatically handled within the cell - so you need to add explicit line breaks, etc - and remember that the length of each line may vary between machine/notebook instances (something that is automatically adjusted for within 'markdown' cells.\n",
    "\n",
    "20/09/2021\n"
   ]
  },
  {
   "cell_type": "code",
   "execution_count": 1,
   "metadata": {},
   "outputs": [],
   "source": [
    "# This is a comment"
   ]
  },
  {
   "cell_type": "code",
   "execution_count": 2,
   "metadata": {},
   "outputs": [],
   "source": [
    "# You can run Python commands within each 'code' cell (one of these!) or over multiple cells. \n",
    "# Either use the 'Run' command above, or (more efficiently):\n",
    "#      use <SHIFT><Enter> to execute and move the cursor on to the next cell,\n",
    "# or   use <CNTR><Enter> to execute and stay on the same line/cell."
   ]
  },
  {
   "cell_type": "code",
   "execution_count": 3,
   "metadata": {
    "scrolled": true
   },
   "outputs": [
    {
     "data": {
      "text/plain": [
       "781"
      ]
     },
     "execution_count": 3,
     "metadata": {},
     "output_type": "execute_result"
    }
   ],
   "source": [
    "4+777"
   ]
  },
  {
   "cell_type": "code",
   "execution_count": 7,
   "metadata": {},
   "outputs": [],
   "source": [
    "num_var = 21  # we can also add a comment within a code cell (this is an assignment statement - it returns no output)"
   ]
  },
  {
   "cell_type": "code",
   "execution_count": 8,
   "metadata": {},
   "outputs": [
    {
     "data": {
      "text/plain": [
       "21"
      ]
     },
     "execution_count": 8,
     "metadata": {},
     "output_type": "execute_result"
    }
   ],
   "source": [
    "num_var"
   ]
  },
  {
   "cell_type": "code",
   "execution_count": 8,
   "metadata": {},
   "outputs": [],
   "source": [
    "# But it did do something as you (hopefully) saw. Below are some more assignments statements"
   ]
  },
  {
   "cell_type": "code",
   "execution_count": 9,
   "metadata": {},
   "outputs": [
    {
     "data": {
      "text/plain": [
       "\"# this is not a comment because it's in a string\""
      ]
     },
     "execution_count": 9,
     "metadata": {},
     "output_type": "execute_result"
    }
   ],
   "source": [
    "string_var = \"# this is not a comment because it's in a string\"    # A string variable with an ' inside the \"\"\n",
    "string_var         # Our first cell with two commands / lines - both of which are executed when you 'run'..."
   ]
  },
  {
   "cell_type": "code",
   "execution_count": 10,
   "metadata": {},
   "outputs": [],
   "source": [
    "# Assignments can be of different types: numeric (interger, float, etc.), string and a number of others"
   ]
  },
  {
   "cell_type": "code",
   "execution_count": 11,
   "metadata": {},
   "outputs": [
    {
     "data": {
      "text/plain": [
       "6"
      ]
     },
     "execution_count": 11,
     "metadata": {},
     "output_type": "execute_result"
    }
   ],
   "source": [
    "2 + 4  # We can do arithmetic operations with +, -, *, /, (), etc. with usual rules of precedence"
   ]
  },
  {
   "cell_type": "code",
   "execution_count": 12,
   "metadata": {},
   "outputs": [
    {
     "data": {
      "text/plain": [
       "8"
      ]
     },
     "execution_count": 12,
     "metadata": {},
     "output_type": "execute_result"
    }
   ],
   "source": [
    "2 ** 3"
   ]
  },
  {
   "cell_type": "code",
   "execution_count": 14,
   "metadata": {},
   "outputs": [
    {
     "data": {
      "text/plain": [
       "4.0"
      ]
     },
     "execution_count": 14,
     "metadata": {},
     "output_type": "execute_result"
    }
   ],
   "source": [
    "12 / 3  # Division returns a float"
   ]
  },
  {
   "cell_type": "code",
   "execution_count": 15,
   "metadata": {},
   "outputs": [
    {
     "data": {
      "text/plain": [
       "6"
      ]
     },
     "execution_count": 15,
     "metadata": {},
     "output_type": "execute_result"
    }
   ],
   "source": [
    "20 // 3  # Floor division discards the fractional remainder and returns an integer"
   ]
  },
  {
   "cell_type": "code",
   "execution_count": 16,
   "metadata": {},
   "outputs": [
    {
     "data": {
      "text/plain": [
       "2"
      ]
     },
     "execution_count": 16,
     "metadata": {},
     "output_type": "execute_result"
    }
   ],
   "source": [
    "11 % 3  # Returns the remainder (modulus arithmetic)"
   ]
  },
  {
   "cell_type": "code",
   "execution_count": 18,
   "metadata": {},
   "outputs": [
    {
     "data": {
      "text/plain": [
       "210"
      ]
     },
     "execution_count": 18,
     "metadata": {},
     "output_type": "execute_result"
    }
   ],
   "source": [
    "# Assign values to variables and use\n",
    "width = 21\n",
    "height = 5 * 2\n",
    "width * height"
   ]
  },
  {
   "cell_type": "code",
   "execution_count": 19,
   "metadata": {},
   "outputs": [
    {
     "ename": "NameError",
     "evalue": "name 'new_var' is not defined",
     "output_type": "error",
     "traceback": [
      "\u001b[0;31m---------------------------------------------------------------------------\u001b[0m",
      "\u001b[0;31mNameError\u001b[0m                                 Traceback (most recent call last)",
      "Input \u001b[0;32mIn [19]\u001b[0m, in \u001b[0;36m<cell line: 2>\u001b[0;34m()\u001b[0m\n\u001b[1;32m      1\u001b[0m \u001b[38;5;66;03m# You will get an error if you try to call a variable that has not yet been defined / assigned\u001b[39;00m\n\u001b[0;32m----> 2\u001b[0m \u001b[43mnew_var\u001b[49m\n",
      "\u001b[0;31mNameError\u001b[0m: name 'new_var' is not defined"
     ]
    }
   ],
   "source": [
    "# You will get an error if you try to call a variable that has not yet been defined / assigned\n",
    "new_var"
   ]
  },
  {
   "cell_type": "code",
   "execution_count": 20,
   "metadata": {},
   "outputs": [
    {
     "data": {
      "text/plain": [
       "'a string'"
      ]
     },
     "execution_count": 20,
     "metadata": {},
     "output_type": "execute_result"
    }
   ],
   "source": [
    "# Strings can use \" \"\n",
    "\"a string\""
   ]
  },
  {
   "cell_type": "code",
   "execution_count": 21,
   "metadata": {},
   "outputs": [
    {
     "data": {
      "text/plain": [
       "'another string'"
      ]
     },
     "execution_count": 21,
     "metadata": {},
     "output_type": "execute_result"
    }
   ],
   "source": [
    "# or ' '\n",
    "'another string'"
   ]
  },
  {
   "cell_type": "code",
   "execution_count": 22,
   "metadata": {},
   "outputs": [
    {
     "data": {
      "text/plain": [
       "\"# this is not a comment because it's in a string - some other text - the best string\""
      ]
     },
     "execution_count": 22,
     "metadata": {},
     "output_type": "execute_result"
    }
   ],
   "source": [
    "string_var_two = \"the best string\"\n",
    "\n",
    "# You can add strings\n",
    "string_var + \" - some other text - \" + string_var_two"
   ]
  },
  {
   "cell_type": "code",
   "execution_count": 24,
   "metadata": {},
   "outputs": [
    {
     "data": {
      "text/plain": [
       "'blabla_thing'"
      ]
     },
     "execution_count": 24,
     "metadata": {},
     "output_type": "execute_result"
    }
   ],
   "source": [
    "# You can also multiply strings by integers\n",
    "2 * \"bla\" + \"_thing\""
   ]
  },
  {
   "cell_type": "code",
   "execution_count": 26,
   "metadata": {},
   "outputs": [
    {
     "data": {
      "text/plain": [
       "'unthing_unthing_unthing_'"
      ]
     },
     "execution_count": 26,
     "metadata": {},
     "output_type": "execute_result"
    }
   ],
   "source": [
    "# Try to use the approach above to produce \"unthing_unthing_unthing_\"\n",
    "3 * \"unthing_\""
   ]
  },
  {
   "cell_type": "code",
   "execution_count": 30,
   "metadata": {},
   "outputs": [
    {
     "data": {
      "text/plain": [
       "'#'"
      ]
     },
     "execution_count": 30,
     "metadata": {},
     "output_type": "execute_result"
    }
   ],
   "source": [
    "# You can reference characters in the string with indices (0 based)\n",
    "string_var[0]"
   ]
  },
  {
   "cell_type": "code",
   "execution_count": 31,
   "metadata": {},
   "outputs": [
    {
     "data": {
      "text/plain": [
       "'t'"
      ]
     },
     "execution_count": 31,
     "metadata": {},
     "output_type": "execute_result"
    }
   ],
   "source": [
    "string_var[2]"
   ]
  },
  {
   "cell_type": "code",
   "execution_count": 33,
   "metadata": {},
   "outputs": [
    {
     "data": {
      "text/plain": [
       "'i'"
      ]
     },
     "execution_count": 33,
     "metadata": {},
     "output_type": "execute_result"
    }
   ],
   "source": [
    "# You can also count from the end with -ve numbers\n",
    "string_var[-3]"
   ]
  },
  {
   "cell_type": "code",
   "execution_count": 28,
   "metadata": {},
   "outputs": [
    {
     "data": {
      "text/plain": [
       "'this'"
      ]
     },
     "execution_count": 28,
     "metadata": {},
     "output_type": "execute_result"
    }
   ],
   "source": [
    "# You can take slices of strings\n",
    "string_var[2:6]"
   ]
  },
  {
   "cell_type": "code",
   "execution_count": 29,
   "metadata": {},
   "outputs": [
    {
     "data": {
      "text/plain": [
       "'h  t mnbaet  si'"
      ]
     },
     "execution_count": 29,
     "metadata": {},
     "output_type": "execute_result"
    }
   ],
   "source": [
    "# The format [start:end:step] can be used\n",
    "string_var[3:-2:3]"
   ]
  },
  {
   "cell_type": "code",
   "execution_count": 34,
   "metadata": {},
   "outputs": [
    {
     "data": {
      "text/plain": [
       "\"# this is not a comment because it's in a string\""
      ]
     },
     "execution_count": 34,
     "metadata": {},
     "output_type": "execute_result"
    }
   ],
   "source": [
    "# This has default parameters of 0, length, and 1\n",
    "string_var[::]    # will give the same result as just calling the string variable!"
   ]
  },
  {
   "cell_type": "code",
   "execution_count": 35,
   "metadata": {},
   "outputs": [],
   "source": [
    "# This can take a while to get your head around, so you may want to try a few alternatives to this..."
   ]
  },
  {
   "cell_type": "code",
   "execution_count": 36,
   "metadata": {},
   "outputs": [
    {
     "ename": "TypeError",
     "evalue": "'str' object does not support item assignment",
     "output_type": "error",
     "traceback": [
      "\u001b[0;31m---------------------------------------------------------------------------\u001b[0m",
      "\u001b[0;31mTypeError\u001b[0m                                 Traceback (most recent call last)",
      "Input \u001b[0;32mIn [36]\u001b[0m, in \u001b[0;36m<cell line: 2>\u001b[0;34m()\u001b[0m\n\u001b[1;32m      1\u001b[0m \u001b[38;5;66;03m# You can't change bits of a string directly\u001b[39;00m\n\u001b[0;32m----> 2\u001b[0m string_var[\u001b[38;5;241m4\u001b[39m] \u001b[38;5;241m=\u001b[39m \u001b[38;5;124m\"\u001b[39m\u001b[38;5;124mr\u001b[39m\u001b[38;5;124m\"\u001b[39m\n",
      "\u001b[0;31mTypeError\u001b[0m: 'str' object does not support item assignment"
     ]
    }
   ],
   "source": [
    "# You can't change bits of a string directly\n",
    "string_var[4] = \"r\""
   ]
  },
  {
   "cell_type": "markdown",
   "metadata": {},
   "source": [
    "###   Slighly more complex variable types:\n",
    "##   Lists and Tuples (ordered sequences)"
   ]
  },
  {
   "cell_type": "code",
   "execution_count": 37,
   "metadata": {},
   "outputs": [],
   "source": [
    "# lists are assigned using []\n",
    "# they can have any type, including mixed types\n",
    "list_var = [1, 4, 9, \"squares\", [3, 4, 5]]"
   ]
  },
  {
   "cell_type": "code",
   "execution_count": 38,
   "metadata": {},
   "outputs": [
    {
     "data": {
      "text/plain": [
       "'squares'"
      ]
     },
     "execution_count": 38,
     "metadata": {},
     "output_type": "execute_result"
    }
   ],
   "source": [
    "# You reference elements by an index (0 is the first element)\n",
    "list_var[3]"
   ]
  },
  {
   "cell_type": "code",
   "execution_count": 39,
   "metadata": {},
   "outputs": [
    {
     "data": {
      "text/plain": [
       "[9, 'squares', [3, 4, 5]]"
      ]
     },
     "execution_count": 39,
     "metadata": {},
     "output_type": "execute_result"
    }
   ],
   "source": [
    "# can get slices (creates a new list)\n",
    "list_var[2:]"
   ]
  },
  {
   "cell_type": "code",
   "execution_count": 40,
   "metadata": {},
   "outputs": [
    {
     "data": {
      "text/plain": [
       "[1, 4, 9, 16, [3, 4, 5]]"
      ]
     },
     "execution_count": 40,
     "metadata": {},
     "output_type": "execute_result"
    }
   ],
   "source": [
    "# Unlike strings, you CAN assign to elements\n",
    "list_var[3] = 16\n",
    "list_var"
   ]
  },
  {
   "cell_type": "code",
   "execution_count": 41,
   "metadata": {},
   "outputs": [
    {
     "data": {
      "text/plain": [
       "[1, 4, 'a', 'b', 'c', [3, 4, 5]]"
      ]
     },
     "execution_count": 41,
     "metadata": {},
     "output_type": "execute_result"
    }
   ],
   "source": [
    "# can assign to slices (which can also change the size of the list)\n",
    "list_var[2:4] = ['a', 'b', 'c']\n",
    "list_var"
   ]
  },
  {
   "cell_type": "code",
   "execution_count": 42,
   "metadata": {},
   "outputs": [
    {
     "data": {
      "text/plain": [
       "[3, 2, 1, 4, 5, 6]"
      ]
     },
     "execution_count": 42,
     "metadata": {},
     "output_type": "execute_result"
    }
   ],
   "source": [
    "# 'adding' lists will in fact concatenate them\n",
    "[3,2,1] + [4,5,6]"
   ]
  },
  {
   "cell_type": "code",
   "execution_count": 43,
   "metadata": {},
   "outputs": [
    {
     "data": {
      "text/plain": [
       "[1, 4, 'a', 'b', 'c', [3, 4, 5], 6]"
      ]
     },
     "execution_count": 43,
     "metadata": {},
     "output_type": "execute_result"
    }
   ],
   "source": [
    "# use append to add an element to the end of a list\n",
    "list_var.append(6)\n",
    "list_var"
   ]
  },
  {
   "cell_type": "code",
   "execution_count": 46,
   "metadata": {},
   "outputs": [
    {
     "data": {
      "text/plain": [
       "7"
      ]
     },
     "execution_count": 46,
     "metadata": {},
     "output_type": "execute_result"
    }
   ],
   "source": [
    "len(list_var)"
   ]
  },
  {
   "cell_type": "code",
   "execution_count": 47,
   "metadata": {},
   "outputs": [],
   "source": [
    "# Tuples are similar but cannot be changed once created\n",
    "# create with ()\n",
    "tuple_var = (5, 2, 6, \"string\")"
   ]
  },
  {
   "cell_type": "code",
   "execution_count": 48,
   "metadata": {},
   "outputs": [
    {
     "data": {
      "text/plain": [
       "6"
      ]
     },
     "execution_count": 48,
     "metadata": {},
     "output_type": "execute_result"
    }
   ],
   "source": [
    "tuple_var[2]"
   ]
  },
  {
   "cell_type": "code",
   "execution_count": 49,
   "metadata": {},
   "outputs": [
    {
     "ename": "TypeError",
     "evalue": "'tuple' object does not support item assignment",
     "output_type": "error",
     "traceback": [
      "\u001b[0;31m---------------------------------------------------------------------------\u001b[0m",
      "\u001b[0;31mTypeError\u001b[0m                                 Traceback (most recent call last)",
      "Input \u001b[0;32mIn [49]\u001b[0m, in \u001b[0;36m<cell line: 1>\u001b[0;34m()\u001b[0m\n\u001b[0;32m----> 1\u001b[0m tuple_var[\u001b[38;5;241m2\u001b[39m] \u001b[38;5;241m=\u001b[39m \u001b[38;5;241m63\u001b[39m\n",
      "\u001b[0;31mTypeError\u001b[0m: 'tuple' object does not support item assignment"
     ]
    }
   ],
   "source": [
    "tuple_var[2] = 63"
   ]
  },
  {
   "cell_type": "code",
   "execution_count": 50,
   "metadata": {},
   "outputs": [
    {
     "data": {
      "text/plain": [
       "(3, 4, 5, 2, 7, 0)"
      ]
     },
     "execution_count": 50,
     "metadata": {},
     "output_type": "execute_result"
    }
   ],
   "source": [
    "# Tuples can also be concatenated\n",
    "(3, 4, 5) + (2, 7, 0)"
   ]
  },
  {
   "cell_type": "markdown",
   "metadata": {},
   "source": [
    "##   Multiple statements within a loop (here using \"while\")"
   ]
  },
  {
   "cell_type": "code",
   "execution_count": 51,
   "metadata": {},
   "outputs": [
    {
     "name": "stdout",
     "output_type": "stream",
     "text": [
      "1,1,2,3,5,8,13,21,34,55,89,144,233,377,610,987,"
     ]
    }
   ],
   "source": [
    "# multiple assignments can be made within a single statement  (NB - this approach is also used within the loop)\n",
    "a, b = 0, 1\n",
    "\n",
    "# while loop\n",
    "while b < 1000:\n",
    "    # loop body is indented\n",
    "    # \"end\" keyword replaces newline\n",
    "    print(b, end=\",\")\n",
    "    a, b = b, a+b\n",
    "    \n",
    "# Note: do you happen to know what this sequence is called?    "
   ]
  },
  {
   "cell_type": "markdown",
   "metadata": {},
   "source": [
    "## Functions and control flow"
   ]
  },
  {
   "cell_type": "code",
   "execution_count": 52,
   "metadata": {},
   "outputs": [],
   "source": [
    "# define a function\n",
    "# format: def keyword function_name(args):\n",
    "# optional argument\n",
    "# NB - No output when running this cell, like a variable assignment we are setting something up to be used later.\n",
    "\n",
    "def compare_numbers(first_number, second_number=2):\n",
    "    \"\"\"\n",
    "    Compares two numbers and prints how the first relates to the second.\n",
    "    \n",
    "    :param first_number: Numerical to compare\n",
    "    :param second_number: (optional) Numerical to compare, default 2\n",
    "    \"\"\"\n",
    "    # indent the function contents\n",
    "    if first_number > second_number:\n",
    "        # indent shows this is part of the if\n",
    "        # compare_string is not defined outside the if so must be defined in every branch\n",
    "        compare_string = \"greater than\"\n",
    "    elif first_number < second_number:\n",
    "        compare_string = \"less than\"\n",
    "    else:\n",
    "        compare_string = \"equal to\"\n",
    "    # unindent indicates end of the block\n",
    "    # format is a good way to structure strings\n",
    "    print(\"{} is {} {}\".format(first_number, compare_string, second_number))"
   ]
  },
  {
   "cell_type": "code",
   "execution_count": 53,
   "metadata": {},
   "outputs": [
    {
     "name": "stdout",
     "output_type": "stream",
     "text": [
      "3 is less than 5.3\n"
     ]
    }
   ],
   "source": [
    "compare_numbers(3, 5.3)"
   ]
  },
  {
   "cell_type": "code",
   "execution_count": 54,
   "metadata": {},
   "outputs": [
    {
     "ename": "TypeError",
     "evalue": "compare_numbers() takes from 1 to 2 positional arguments but 3 were given",
     "output_type": "error",
     "traceback": [
      "\u001b[0;31m---------------------------------------------------------------------------\u001b[0m",
      "\u001b[0;31mTypeError\u001b[0m                                 Traceback (most recent call last)",
      "Input \u001b[0;32mIn [54]\u001b[0m, in \u001b[0;36m<cell line: 1>\u001b[0;34m()\u001b[0m\n\u001b[0;32m----> 1\u001b[0m \u001b[43mcompare_numbers\u001b[49m\u001b[43m(\u001b[49m\u001b[38;5;241;43m4\u001b[39;49m\u001b[43m,\u001b[49m\u001b[43m \u001b[49m\u001b[38;5;241;43m3\u001b[39;49m\u001b[43m,\u001b[49m\u001b[43m \u001b[49m\u001b[38;5;241;43m5\u001b[39;49m\u001b[43m)\u001b[49m\n",
      "\u001b[0;31mTypeError\u001b[0m: compare_numbers() takes from 1 to 2 positional arguments but 3 were given"
     ]
    }
   ],
   "source": [
    "compare_numbers(4, 3, 5)       # What happened here?"
   ]
  },
  {
   "cell_type": "code",
   "execution_count": 55,
   "metadata": {},
   "outputs": [
    {
     "name": "stdout",
     "output_type": "stream",
     "text": [
      "9 is greater than 2\n"
     ]
    }
   ],
   "source": [
    "compare_numbers(9, )"
   ]
  },
  {
   "cell_type": "code",
   "execution_count": 58,
   "metadata": {},
   "outputs": [
    {
     "name": "stdout",
     "output_type": "stream",
     "text": [
      "2 is less than 9\n"
     ]
    }
   ],
   "source": [
    "# This is BAD practice, but shows the role of 'global' and 'local' variables\n",
    "compare_numbers(second_number=9, first_number=2)"
   ]
  },
  {
   "cell_type": "code",
   "execution_count": 59,
   "metadata": {},
   "outputs": [],
   "source": [
    "# Funtion are often used to return values (or a value)\n",
    "def list_mean(list_var):\n",
    "    mean = sum(list_var) / len(list_var)\n",
    "    return mean"
   ]
  },
  {
   "cell_type": "code",
   "execution_count": 60,
   "metadata": {},
   "outputs": [],
   "source": [
    "m = list_mean([3,6,2,8,5])"
   ]
  },
  {
   "cell_type": "code",
   "execution_count": 61,
   "metadata": {},
   "outputs": [
    {
     "data": {
      "text/plain": [
       "4.8"
      ]
     },
     "execution_count": 61,
     "metadata": {},
     "output_type": "execute_result"
    }
   ],
   "source": [
    "m"
   ]
  },
  {
   "cell_type": "code",
   "execution_count": 62,
   "metadata": {},
   "outputs": [],
   "source": [
    "text_var = \"the time has come the walrus said to talk of many things of shoes and ships and sealing wax\"\n",
    "word_list = text_var.split()"
   ]
  },
  {
   "cell_type": "code",
   "execution_count": 63,
   "metadata": {},
   "outputs": [
    {
     "data": {
      "text/plain": [
       "['the',\n",
       " 'time',\n",
       " 'has',\n",
       " 'come',\n",
       " 'the',\n",
       " 'walrus',\n",
       " 'said',\n",
       " 'to',\n",
       " 'talk',\n",
       " 'of',\n",
       " 'many',\n",
       " 'things',\n",
       " 'of',\n",
       " 'shoes',\n",
       " 'and',\n",
       " 'ships',\n",
       " 'and',\n",
       " 'sealing',\n",
       " 'wax']"
      ]
     },
     "execution_count": 63,
     "metadata": {},
     "output_type": "execute_result"
    }
   ],
   "source": [
    "word_list"
   ]
  },
  {
   "cell_type": "code",
   "execution_count": 65,
   "metadata": {},
   "outputs": [],
   "source": [
    "def word_lengths(word_list):\n",
    "    \"\"\"\n",
    "    Prints out all the words in the list and their lengths.\n",
    "    \n",
    "    :param word_list: list of words\n",
    "    \"\"\"\n",
    "    for word in word_list:\n",
    "        print(\"{:<10} {:>3}\".format(word, len(word)))"
   ]
  },
  {
   "cell_type": "code",
   "execution_count": 66,
   "metadata": {},
   "outputs": [
    {
     "name": "stdout",
     "output_type": "stream",
     "text": [
      "the          3\n",
      "time         4\n",
      "has          3\n",
      "come         4\n",
      "the          3\n",
      "walrus       6\n",
      "said         4\n",
      "to           2\n",
      "talk         4\n",
      "of           2\n",
      "many         4\n",
      "things       6\n",
      "of           2\n",
      "shoes        5\n",
      "and          3\n",
      "ships        5\n",
      "and          3\n",
      "sealing      7\n",
      "wax          3\n"
     ]
    }
   ],
   "source": [
    "word_lengths(word_list)"
   ]
  },
  {
   "cell_type": "code",
   "execution_count": 67,
   "metadata": {},
   "outputs": [
    {
     "data": {
      "text/plain": [
       "'list of words'"
      ]
     },
     "execution_count": 67,
     "metadata": {},
     "output_type": "execute_result"
    }
   ],
   "source": [
    "# aside: can also join lists into strings\n",
    "\",\".join([\"list \" \"of \" \"words\"])"
   ]
  },
  {
   "cell_type": "code",
   "execution_count": 68,
   "metadata": {},
   "outputs": [
    {
     "data": {
      "text/plain": [
       "range(0, 10)"
      ]
     },
     "execution_count": 68,
     "metadata": {},
     "output_type": "execute_result"
    }
   ],
   "source": [
    "# The range function can be useful for 'non-standard' loops\n",
    "range(10)  # returns an iterator"
   ]
  },
  {
   "cell_type": "code",
   "execution_count": 69,
   "metadata": {},
   "outputs": [
    {
     "data": {
      "text/plain": [
       "[0, 1, 2, 3, 4, 5, 6, 7, 8, 9]"
      ]
     },
     "execution_count": 69,
     "metadata": {},
     "output_type": "execute_result"
    }
   ],
   "source": [
    "list(range(10))  # specify the number of items in the list"
   ]
  },
  {
   "cell_type": "code",
   "execution_count": 70,
   "metadata": {},
   "outputs": [
    {
     "data": {
      "text/plain": [
       "[5, 10, 15, 20, 25, 30, 35, 40, 45, 50, 55, 60, 65, 70, 75, 80, 85, 90, 95]"
      ]
     },
     "execution_count": 70,
     "metadata": {},
     "output_type": "execute_result"
    }
   ],
   "source": [
    "list(range(5, 100, 5))  # specify start, end, step"
   ]
  },
  {
   "cell_type": "markdown",
   "metadata": {},
   "source": [
    "## Dictionaries: key, value mapping"
   ]
  },
  {
   "cell_type": "code",
   "execution_count": 71,
   "metadata": {},
   "outputs": [],
   "source": [
    "dict_var = {3: 4, 4: [1, 2, 3], \"dictionary\": (\"tuple\", 45)}"
   ]
  },
  {
   "cell_type": "code",
   "execution_count": 74,
   "metadata": {},
   "outputs": [
    {
     "data": {
      "text/plain": [
       "('tuple', 45)"
      ]
     },
     "execution_count": 74,
     "metadata": {},
     "output_type": "execute_result"
    }
   ],
   "source": [
    "dict_var[\"dictionary\"]"
   ]
  },
  {
   "cell_type": "code",
   "execution_count": 76,
   "metadata": {},
   "outputs": [
    {
     "data": {
      "text/plain": [
       "3"
      ]
     },
     "execution_count": 76,
     "metadata": {},
     "output_type": "execute_result"
    }
   ],
   "source": [
    "dict_var[4][2]"
   ]
  },
  {
   "cell_type": "code",
   "execution_count": 77,
   "metadata": {},
   "outputs": [
    {
     "data": {
      "text/plain": [
       "dict_items([(3, 4), (4, [1, 2, 3]), ('dictionary', ('tuple', 45))])"
      ]
     },
     "execution_count": 77,
     "metadata": {},
     "output_type": "execute_result"
    }
   ],
   "source": [
    "dict_var.items()"
   ]
  },
  {
   "cell_type": "code",
   "execution_count": 78,
   "metadata": {},
   "outputs": [],
   "source": [
    "def dict_word_lengths(word_list):\n",
    "    \"\"\"\n",
    "    Prints out all the unique words in the list, count of how many, and their lengths.\n",
    "    \n",
    "    :param word_list: list of words\n",
    "    \"\"\"\n",
    "    word_dict = {}\n",
    "    for word in word_list:\n",
    "        if word not in word_dict:\n",
    "            word_dict[word] = 0\n",
    "        word_dict[word] += 1\n",
    "    print(\"{:^10} {:>5} {:>5}\".format(\"Word\", \"Count\", \"Length\"))\n",
    "    for word, count in word_dict.items():\n",
    "        print(\"{:<10} {:>5} {:>6}\".format(word, count, len(word)))"
   ]
  },
  {
   "cell_type": "code",
   "execution_count": 79,
   "metadata": {},
   "outputs": [
    {
     "name": "stdout",
     "output_type": "stream",
     "text": [
      "   Word    Count Length\n",
      "the            2      3\n",
      "time           1      4\n",
      "has            1      3\n",
      "come           1      4\n",
      "walrus         1      6\n",
      "said           1      4\n",
      "to             1      2\n",
      "talk           1      4\n",
      "of             2      2\n",
      "many           1      4\n",
      "things         1      6\n",
      "shoes          1      5\n",
      "and            2      3\n",
      "ships          1      5\n",
      "sealing        1      7\n",
      "wax            1      3\n"
     ]
    }
   ],
   "source": [
    "dict_word_lengths(word_list)"
   ]
  },
  {
   "cell_type": "markdown",
   "metadata": {},
   "source": [
    "## Some other useful approaches to looping"
   ]
  },
  {
   "cell_type": "code",
   "execution_count": 80,
   "metadata": {},
   "outputs": [
    {
     "name": "stdout",
     "output_type": "stream",
     "text": [
      "0 tic\n",
      "1 tac\n",
      "2 toe\n"
     ]
    }
   ],
   "source": [
    "# get the index of the current item when iterating through a list\n",
    "for position, item in enumerate(['tic', 'tac', 'toe']):\n",
    "    print(position, item)"
   ]
  },
  {
   "cell_type": "code",
   "execution_count": 81,
   "metadata": {},
   "outputs": [],
   "source": [
    "# The 'zip' operator will combine lists by iterating through tuples of combined elements\n",
    "questions = ['name', 'quest', 'favorite color']\n",
    "answers = ['lancelot', 'the holy grail', 'blue']"
   ]
  },
  {
   "cell_type": "code",
   "execution_count": 82,
   "metadata": {},
   "outputs": [],
   "source": [
    "Q_and_A = zip(questions, answers)"
   ]
  },
  {
   "cell_type": "code",
   "execution_count": 83,
   "metadata": {},
   "outputs": [
    {
     "data": {
      "text/plain": [
       "[('name', 'lancelot'), ('quest', 'the holy grail'), ('favorite color', 'blue')]"
      ]
     },
     "execution_count": 83,
     "metadata": {},
     "output_type": "execute_result"
    }
   ],
   "source": [
    "list(Q_and_A)"
   ]
  },
  {
   "cell_type": "markdown",
   "metadata": {},
   "source": [
    "## The kernel 'environment'"
   ]
  },
  {
   "cell_type": "code",
   "execution_count": 84,
   "metadata": {},
   "outputs": [],
   "source": [
    "# As you should have realised, variables 'persist' within a given session of the kernel.\n",
    "# (This can sometimes cause unexpected headaches!)\n",
    "\n",
    "# You can always get a list of the variables (and their values) persisting in the environment..."
   ]
  },
  {
   "cell_type": "code",
   "execution_count": 85,
   "metadata": {},
   "outputs": [
    {
     "name": "stdout",
     "output_type": "stream",
     "text": [
      "Variable            Type        Data/Info\n",
      "-----------------------------------------\n",
      "Q_and_A             zip         <zip object at 0x7fcc5e370080>\n",
      "a                   int         987\n",
      "answers             list        n=3\n",
      "b                   int         1597\n",
      "compare_numbers     function    <function compare_numbers at 0x7fcc5e3b19d0>\n",
      "dict_var            dict        n=3\n",
      "dict_word_lengths   function    <function dict_word_lengths at 0x7fcc5e3788b0>\n",
      "height              int         10\n",
      "item                str         toe\n",
      "list_mean           function    <function list_mean at 0x7fcc5e3b1a60>\n",
      "list_var            list        n=7\n",
      "m                   float       4.8\n",
      "num_var             int         21\n",
      "position            int         2\n",
      "questions           list        n=3\n",
      "string_var          str         # this is not a comment because it's in a string\n",
      "string_var_two      str         the best string\n",
      "text_var            str         the time has come the wal<...>and ships and sealing wax\n",
      "tuple_var           tuple       n=4\n",
      "width               int         21\n",
      "word_lengths        function    <function word_lengths at 0x7fcc5e386ee0>\n",
      "word_list           list        n=19\n"
     ]
    }
   ],
   "source": [
    "%whos"
   ]
  },
  {
   "cell_type": "code",
   "execution_count": null,
   "metadata": {},
   "outputs": [],
   "source": []
  }
 ],
 "metadata": {
  "kernelspec": {
   "display_name": "Python 3 (ipykernel)",
   "language": "python",
   "name": "python3"
  },
  "language_info": {
   "codemirror_mode": {
    "name": "ipython",
    "version": 3
   },
   "file_extension": ".py",
   "mimetype": "text/x-python",
   "name": "python",
   "nbconvert_exporter": "python",
   "pygments_lexer": "ipython3",
   "version": "3.9.12"
  }
 },
 "nbformat": 4,
 "nbformat_minor": 2
}
