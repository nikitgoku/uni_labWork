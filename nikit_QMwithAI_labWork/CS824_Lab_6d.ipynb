{
 "cells": [
  {
   "cell_type": "markdown",
   "metadata": {},
   "source": [
    "<div style=\"text-align: right\"> CS824 - Lab 6d (2022) </div>\n",
    "\n",
    "# Using matrices to transform vectors\n",
    "\n",
    "There are a few 'standard' transformations that are illustrated below for the 2-D case - i.e. vectors in (i, j) space operated on by a {2 x 2} matrix. You can try these transformatons out with vectors of your choosing.  Probably the best way to appreciate the effect of each transformation would be to view these graphically, but as you saw in an earlier section of this lab I have not yet found a quick / easy way in Python to do this - so if you find one **please** share it with the class on the *forum*...\n",
    "\n",
    "However, there are some good resources on-line that let you explore some of this. By far the best on-line material I have found is the *3Blue1Brown* set of videos from Grant Sanderson. I have suggested a couple of those as part of this week's mini-lectures, but his whole series on the **Essence of linear algebra** (all 15 parts!) will be well worth putting aside to watch at some point if some of this still feels like 'magic' to you (hint: it's not!). \n",
    "\n",
    "As noted on *MyPlace*, in the context of this lab the 3rd video in that series [Linear Transformations and Matrices](https://www.youtube.com/watch?v=kYB8IZa5AuE&list=PLZHQObOWTQDPD3MizzM2xVFitgF8hE_ab&index=3), is of particular relevance.\n",
    "\n",
    "You could watch segments, then pause the video and see whether you can replicate some of the operations in Python - though the nice visualisations that Grant generates often makes it more intuitive just to watch those.\n"
   ]
  },
  {
   "cell_type": "code",
   "execution_count": 1,
   "metadata": {
    "button": false,
    "new_sheet": false,
    "run_control": {
     "read_only": false
    },
    "scrolled": true
   },
   "outputs": [
    {
     "name": "stdout",
     "output_type": "stream",
     "text": [
      "[[6]\n",
      " [2]]\n",
      "[[1]\n",
      " [4]]\n"
     ]
    }
   ],
   "source": [
    "# The 'Identity' matrix\n",
    "\n",
    "import numpy as np\n",
    "from numpy import linalg as LA\n",
    "\n",
    "# Let's create a few vectors (as column vectors) to work with...\n",
    "v1 = np.array([[6],\n",
    "               [2]])\n",
    "\n",
    "v2 = np.array([[1],\n",
    "               [4]])\n",
    "\n",
    "mat_Identity = np.array([[1, 0],\n",
    "               [0, 1]])\n",
    "\n",
    "# For the purposes to discussion below we will refer to the [2x2] matrices that we will be restricting ourselves to\n",
    "# in terms of the elements:\n",
    "# [a, b]\n",
    "# [c, d]\n",
    "# i.e. in this first example, a=1, b=0, etc.\n",
    "\n",
    "v1t = mat_Identity @ v1\n",
    "v2t = mat_Identity @ v2\n",
    "\n",
    "print(v1t)\n",
    "print(v2t)\n"
   ]
  },
  {
   "cell_type": "markdown",
   "metadata": {},
   "source": [
    "**Identity matrix**\n",
    "\n",
    "This is a special case of the more general 'scalar' matrix - and, perhaps not surprisingly, it doesn't do anything!!\n",
    "\n",
    "In the more general case, mutiplying by a **_scalar matrix_** will alter the size by `a` in the i-direction and `d` in the j-direction. \n"
   ]
  },
  {
   "cell_type": "code",
   "execution_count": 12,
   "metadata": {
    "button": false,
    "new_sheet": false,
    "run_control": {
     "read_only": false
    },
    "scrolled": true
   },
   "outputs": [
    {
     "name": "stdout",
     "output_type": "stream",
     "text": [
      "6.324555320336759\n",
      "18.973665961010276\n",
      "4.123105625617661\n",
      "12.36931687685298\n",
      "[[6]\n",
      " [2]]\n",
      "[[1]\n",
      " [4]]\n",
      "[[18]\n",
      " [ 6]]\n",
      "[[ 3]\n",
      " [12]]\n"
     ]
    }
   ],
   "source": [
    "# Scalar matrices\n",
    "\n",
    "mat_Scalar = np.array([[3, 0],\n",
    "               [0, 3]])\n",
    "\n",
    "v1t = mat_Scalar @ v1\n",
    "v2t = mat_Scalar @ v2\n",
    "\n",
    "print(LA.norm(v1))\n",
    "print(LA.norm(v1t))\n",
    "\n",
    "print(LA.norm(v2))\n",
    "print(LA.norm(v2t))\n",
    "\n",
    "print(v1)\n",
    "print(v2)\n",
    "print(v1t)\n",
    "print(v2t)\n"
   ]
  },
  {
   "cell_type": "markdown",
   "metadata": {
    "button": false,
    "new_sheet": false,
    "run_control": {
     "read_only": false
    }
   },
   "source": [
    "We see that in this case the i and j components are both 'stretched' by a factor of 3. As a consequence the whole area (if we thought of the vector as representing a bounded box from the origin) is increased by a factor of 9 (i.e. in the case of the second vector from an 'area' of 4 to an area of 36.\n",
    "\n",
    "Indeed the `Determinant` of a matrix (in the case of a 2x2 this is simply = ad - bc) tells you by how much the area bounded by the vector (or set of vectors, for a more complicated shape) will be increased/decreased, i.e.: \n",
    "\n",
    " - if (a * d) `>` 1  ===> 'stretch'\n",
    " - if (a * d) `<` 1  ===> 'shrink'\n"
   ]
  },
  {
   "cell_type": "markdown",
   "metadata": {
    "button": false,
    "new_sheet": false,
    "run_control": {
     "read_only": false
    }
   },
   "source": [
    "## Exercise 6d1\n",
    "\n",
    "Of course matrices do not need to be 'symmetic', as in the case of **identity** or **scalar** matrices.\n",
    "\n",
    " - Can you find a transform matrix that would expand the 'area' bounded by a vector in 2-D space by a factor of 4?\n",
    " - What about if you wish to reduce the length of vectors by 1/2 but keep the same orientation?\n",
    " - How about increasing the 'area' by a factor of 2 but also 'flipping' the vector about the y-axis?\n",
    " "
   ]
  },
  {
   "cell_type": "code",
   "execution_count": 9,
   "metadata": {},
   "outputs": [
    {
     "name": "stdout",
     "output_type": "stream",
     "text": [
      "[[6]\n",
      " [2]]\n",
      "[[1]\n",
      " [4]]\n",
      "[[12]\n",
      " [ 4]]\n",
      "[[2]\n",
      " [8]]\n"
     ]
    }
   ],
   "source": [
    "print(v1)\n",
    "print(v2)\n",
    "mat_Scalar = np.array([[2, 0],\n",
    "               [0, 2]])\n",
    "\n",
    "v1t_4 = mat_Scalar @ v1\n",
    "v2t_4 = mat_Scalar @ v2\n",
    "\n",
    "print(v1t_4)\n",
    "print(v2t_4)"
   ]
  },
  {
   "cell_type": "code",
   "execution_count": 10,
   "metadata": {},
   "outputs": [
    {
     "name": "stdout",
     "output_type": "stream",
     "text": [
      "[[3]\n",
      " [1]]\n",
      "[[0.5]\n",
      " [2. ]]\n",
      "[[6]\n",
      " [2]]\n",
      "[[1.]\n",
      " [4.]]\n"
     ]
    }
   ],
   "source": [
    "# Let's create a few vectors (as column vectors) to work with...\n",
    "v1_h = np.array([[3],\n",
    "               [1]])\n",
    "\n",
    "v2_h = np.array([[1/2],\n",
    "               [2]])\n",
    "\n",
    "print(v1_h)\n",
    "print(v2_h)\n",
    "mat_Scalar = np.array([[2, 0],\n",
    "               [0, 2]])\n",
    "\n",
    "v1t_4_h = mat_Scalar @ v1_h\n",
    "v2t_4_h = mat_Scalar @ v2_h\n",
    "\n",
    "print(v1t_4_h)\n",
    "print(v2t_4_h)"
   ]
  },
  {
   "cell_type": "code",
   "execution_count": 19,
   "metadata": {},
   "outputs": [
    {
     "name": "stdout",
     "output_type": "stream",
     "text": [
      "[[6]\n",
      " [2]]\n",
      "[[1]\n",
      " [4]]\n",
      "[[8.46]\n",
      " [2.82]]\n",
      "[[2.82]\n",
      " [8.46]]\n",
      "[[1.41]\n",
      " [5.64]]\n",
      "[[5.64]\n",
      " [1.41]]\n"
     ]
    }
   ],
   "source": [
    "print(v1)\n",
    "print(v2)\n",
    "mat_Scalar = np.array([[1.41, 0],\n",
    "               [0, 1.41]])\n",
    "\n",
    "v1t_4 = mat_Scalar @ v1\n",
    "v2t_4 = mat_Scalar @ v2\n",
    "\n",
    "print(v1t_4)\n",
    "print(np.flip(v1t_4))\n",
    "print(v2t_4)\n",
    "print(np.flip(v2t_4))"
   ]
  },
  {
   "cell_type": "markdown",
   "metadata": {},
   "source": [
    "### Inversion matrix\n",
    "\n",
    "You can invert a vertor by mupliplying by the 'negative' Identity...\n"
   ]
  },
  {
   "cell_type": "code",
   "execution_count": 24,
   "metadata": {
    "button": false,
    "new_sheet": false,
    "run_control": {
     "read_only": false
    },
    "scrolled": true
   },
   "outputs": [
    {
     "name": "stdout",
     "output_type": "stream",
     "text": [
      "[[-6]\n",
      " [-2]]\n",
      "[[-1]\n",
      " [-4]]\n"
     ]
    }
   ],
   "source": [
    "# Inversion matrix\n",
    "\n",
    "mat_Invert = np.array([[-1, 0],\n",
    "               [0, -1]])\n",
    "\n",
    "v1t = mat_Invert @ v1\n",
    "v2t = mat_Invert @ v2\n",
    "\n",
    "print(v1t)\n",
    "print(v2t)\n"
   ]
  },
  {
   "cell_type": "markdown",
   "metadata": {
    "button": false,
    "new_sheet": false,
    "run_control": {
     "read_only": false
    }
   },
   "source": [
    "## Exercise 6d2\n",
    "\n",
    "You can of course also stretch or shrink, while inverting, by using values other than -1\n",
    "\n",
    " - Invert these vectors while also increasing them by a factor of 2 in the i-direction and 4 in the j-direction\n",
    " - What about if you wanted to invert AND reduce their lengths by 1/4?\n",
    " "
   ]
  },
  {
   "cell_type": "markdown",
   "metadata": {},
   "source": [
    "### Flipping / Mirroring\n",
    "\n",
    "You can 'mirror' in the y-axis by setting `a` = -1 and keeping 0 values in postitions `b` and `c`...  You can also mirror in the x-axis, as well as in the +45 and -45 degree lines of symmetry...  \n"
   ]
  },
  {
   "cell_type": "markdown",
   "metadata": {
    "button": false,
    "new_sheet": false,
    "run_control": {
     "read_only": false
    }
   },
   "source": [
    "## Exercise 6d3\n",
    "\n",
    " - See whether you can figure out the matrix required to perform a mirroring in the x-axis.\n",
    "\n",
    " - Next try to reflect thru the line at 45 degrees to the origin - i.e. {6,2} should end up at {2, 6}, etc. Then try to find the 'opposite' 45 degree reflection.\n",
    "\n",
    "(Hint: In these last cases you need to work with the `b` and `c` element, and set `a` and `d` to zero.)  \n"
   ]
  },
  {
   "cell_type": "markdown",
   "metadata": {},
   "source": [
    "### Rotating\n",
    "\n",
    "For any given angle `theta` you can carry out a rotation of `theta` radians (by default) by using the following matrix:\n",
    "\n",
    "(`Cos theta`,  `Sin theta`\n",
    "<br> `-Sin theta`, `Cos theta`)\n",
    " "
   ]
  },
  {
   "cell_type": "markdown",
   "metadata": {
    "button": false,
    "new_sheet": false,
    "run_control": {
     "read_only": false
    }
   },
   "source": [
    "## Exercise 6d4\n",
    "\n",
    "Create a little function that takes in the value of an angle `theta` and a vector, and returns the components of the vector after these have been rotated about angle `theta`.\n"
   ]
  },
  {
   "cell_type": "markdown",
   "metadata": {},
   "source": [
    "### Performing a 'shear'\n",
    "\n",
    "This is perhaps the most difficult to appreciate without looking at graphical output. (Take another look at the *3Blue1Brown* video suggested if you want to get more of a 'visual' feel for this transformation.)\n",
    "\n",
    "Using the simple matrix below you can 'shift' a 1x1 square area into a 1x1 trapezoid, still with length 1 in the `i` direction, but 'sheared' along it's y-axis.\n",
    "\n",
    "<br>(1, 1\n",
    "<br> 0, 1)\n",
    "\n",
    "And if you alter these 1 values to others then you will end up with different types of shear...\n"
   ]
  },
  {
   "cell_type": "markdown",
   "metadata": {},
   "source": [
    "\n",
    "Essentially these are **all** of the types of transformations that a 2x2 matrix can exert on a vector in 2-D space; thought you can of course use combinations of these to generate more 'interesting' outcomes... \n",
    "\n",
    "#### There are also transforms that will result in 2-D space being reduced to a line...  see below, when the `determinant` = 0. (Or in the case of 3-D space, will result in that 3-D volume being mapped into a single plane.)\n"
   ]
  },
  {
   "cell_type": "markdown",
   "metadata": {
    "button": false,
    "new_sheet": false,
    "run_control": {
     "read_only": false
    }
   },
   "source": [
    "## Exercise 6d5\n",
    "\n",
    " - Experiment a little with the transformations of different matrices and see how the resulting vectors are essentially made up of the components that we have noted above. (The whole point of **linear** combinations is that they cannot by definition warp/bend space in more that a certain number of pre-defined ways...  and these limitations also hold for the 3-D and higher dimensional spaces - it just gets a bit harder to visualise!)\n",
    " \n",
    " - There is one other special case that is worth noting, which is when then `determinant` of the matrix = 0. In this case the resulting 'area' of a set of vectors is reduced to zero - i.e. the results lie on a straight line. Experiment with some vectors that have the `deterimnant` (`a * d` - `b * c`) equal to zero.\n",
    " "
   ]
  },
  {
   "cell_type": "markdown",
   "metadata": {},
   "source": [
    "### That's about it for a very basic intro to vectors and matrices...\n",
    "\n",
    "If you skipped over it, you may wish to go back to **Exercise 6a5** and see whether you now feel a bit more confident to tackle that little task.\n"
   ]
  }
 ],
 "metadata": {
  "kernelspec": {
   "display_name": "Python 3.9.13 ('myenv')",
   "language": "python",
   "name": "python3"
  },
  "language_info": {
   "codemirror_mode": {
    "name": "ipython",
    "version": 3
   },
   "file_extension": ".py",
   "mimetype": "text/x-python",
   "name": "python",
   "nbconvert_exporter": "python",
   "pygments_lexer": "ipython3",
   "version": "3.9.13"
  },
  "vscode": {
   "interpreter": {
    "hash": "896f6dcb700a20d36385ce797b4923884edd68afc9b0efe6db22b2f21ab36382"
   }
  }
 },
 "nbformat": 4,
 "nbformat_minor": 1
}
