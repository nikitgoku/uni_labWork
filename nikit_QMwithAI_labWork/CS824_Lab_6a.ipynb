{
 "cells": [
  {
   "cell_type": "markdown",
   "metadata": {},
   "source": [
    "<div style=\"text-align: right\"> CS824 - Lab 6a (2022) </div>\n",
    "\n",
    "# Basic array operations (in *NumPy*)\n",
    "\n",
    "I realise that people are coming to this week's labs with different levels of exposure to the **array** data type in Python, and I'm unsure as to how much practice you got with arrays in the general Python programming introductions. \n",
    "\n",
    "If you feel comfortable with these basics then you might want to move quickly through these or just tackle the 'extra' exercise at **Exercise 6a5** towards the end of this notebook to check your understanding. You may also want to jump straight on to their application to the case of vector algebra (**Lab_6b**), from where you should quickly be able to progress to the exercises on matrices (**Lab_6c** and **Lab_6d**)...\n"
   ]
  },
  {
   "cell_type": "markdown",
   "metadata": {
    "button": false,
    "new_sheet": false,
    "run_control": {
     "read_only": false
    }
   },
   "source": [
    "## Creating and working with *NumPy* arrays\n",
    "\n",
    "In addition to being the way in which we work with vectors (and indeed matrices and tensors!) the NumPy `array` class is at the heart of almost **ALL** data manipulation in Python. For example, `Pandas` is built on top of the notion of NumPy arrays. \n",
    "\n",
    "In this first section we will (mostly) work with 1-dimensional arrays, representing vectors, but this class supports the general-purpose `n-dimensional` array which is used in many sorts of numerical computing - including many ML algorithms. The notion of a `matrix` is really only required in more classic computations specific to linear algebra, with matrix objects being limited to exactly **two** dimensions. While the concepts of matrix multiplication and other transformations from linear algebra are of course important, the mathematical objects of matrices can (and arguably, *should*) be thought of as simply 2-dimensional arrays - which will avoid the need to switch between the 'currencies' of `array` and `matrix`. Indeed it is proposed that the `matrix` object type may soon be depricated from the official Python language. If interested you read more in the NumPy developer's post on - [array or matrix - Which should I use?](https://numpy.org/devdocs/user/numpy-for-matlab-users.html#array-or-matrix-which-should-i-use)\n"
   ]
  },
  {
   "cell_type": "markdown",
   "metadata": {
    "button": false,
    "new_sheet": false,
    "run_control": {
     "read_only": false
    }
   },
   "source": [
    "## Attributes of arrays\n",
    "\n",
    "Some of the material below may feel like 'dry manipulation' but geting familar with how to process different types of arrays in Python is really important (and helps with things like figuring out how best to work with `Pandas` data sets)...  so try to bear with me and/or skim through this quickly if it seems obvious.\n"
   ]
  },
  {
   "cell_type": "code",
   "execution_count": 1,
   "metadata": {
    "button": false,
    "new_sheet": false,
    "run_control": {
     "read_only": false
    }
   },
   "outputs": [],
   "source": [
    "# As noted we can create arrays of 1-D (vectors), 2-D (matrices) or basically any dimension (which allows\n",
    "# us to work with 'tensors').  Let's create three different arrays, filling their values with random numbers...\n",
    "\n",
    "import numpy as np\n",
    "np.random.seed(9)              # just so that we all get the same array contents, if we want to compare outputs\n",
    "\n",
    "a1 = np.random.randint(1, 7, size=20)             # 1-D array (e.g. this might repesent 20 throws of a die)\n",
    "\n",
    "# We use the fact that the `randint` function returns an array to allocate this to our variable.\n",
    "# If we use more than one element in the `size` parameter then we will get an extra dimension \n",
    "# for each additional element with as many members are specified in that dimension of the 'size' parameter.\n",
    "\n",
    "a2 = np.random.randint(1, 7, size=(2, 5))         # 2-D array (maybe two different people making 5 throws each)\n",
    "a3 = np.random.randint(1, 7, size=(3, 2, 8))      # 3-D array (who knows?!) \n",
    "                                                  # (Maybe 3 instances of a 2-player game involving 8 throws each?)\n"
   ]
  },
  {
   "cell_type": "markdown",
   "metadata": {
    "button": false,
    "new_sheet": false,
    "run_control": {
     "read_only": false
    }
   },
   "source": [
    "It's easy to lose track of which arrays are of which size/structure so there are a number of array attributes that you can query. These include `ndim` (the # of dimension), `shape` (the # of elements in each dimension) and `size` (the overall number of elements in the whole array - often not *that* useful).\n"
   ]
  },
  {
   "cell_type": "code",
   "execution_count": 2,
   "metadata": {
    "button": false,
    "new_sheet": false,
    "run_control": {
     "read_only": false
    },
    "scrolled": true
   },
   "outputs": [
    {
     "name": "stdout",
     "output_type": "stream",
     "text": [
      "Number of dimensions in a2:  2\n",
      "Structure of a2:  (2, 5)\n",
      "Total number of elements in a2:  10\n",
      "[[1 3 1 6 3]\n",
      " [5 1 5 3 1]]\n"
     ]
    }
   ],
   "source": [
    "# So we could confirm that 'a2' is a 2-D array and contains a total of 10 elements.\n",
    "\n",
    "print(\"Number of dimensions in a2: \", a2.ndim)\n",
    "print(\"Structure of a2: \", a2.shape)\n",
    "print(\"Total number of elements in a2: \", a2.size)\n",
    "print(a2)\n"
   ]
  },
  {
   "cell_type": "markdown",
   "metadata": {
    "button": false,
    "new_sheet": false,
    "run_control": {
     "read_only": false
    }
   },
   "source": [
    "## Exercise 6a1\n",
    "\n",
    "Use the `ndim`, `shape` and `size` attributes to check out the details of the other two arrays (a1 and a3) that you have created.\n"
   ]
  },
  {
   "cell_type": "markdown",
   "metadata": {
    "button": false,
    "new_sheet": false,
    "run_control": {
     "read_only": false
    }
   },
   "source": [
    "You may remember that you can use the 'magic' command `%whos` to see a list of variables defined in the current scope. You can add a suffix of 'type' to only see the details of variables of a given type (i.e. here `ndarray`).\n",
    "\n",
    "You can also use the command \"?\" to bring back information on a given variable - so for example typing \"a1?\" below will bring up the 20 'die throw' results in our array as well as a bunch of other information.\n"
   ]
  },
  {
   "cell_type": "code",
   "execution_count": 3,
   "metadata": {},
   "outputs": [
    {
     "name": "stdout",
     "output_type": "stream",
     "text": [
      "Number of dimensions in a1:  1\n",
      "Structure of a1:  (20,)\n",
      "Total number of elements in a1:  20\n",
      "[5 6 1 4 6 2 5 4 1 3 2 1 6 4 2 6 5 1 5 4]\n"
     ]
    }
   ],
   "source": [
    "print(\"Number of dimensions in a1: \", a1.ndim)\n",
    "print(\"Structure of a1: \", a1.shape)\n",
    "print(\"Total number of elements in a1: \", a1.size)\n",
    "print(a1)"
   ]
  },
  {
   "cell_type": "code",
   "execution_count": 4,
   "metadata": {},
   "outputs": [
    {
     "name": "stdout",
     "output_type": "stream",
     "text": [
      "Number of dimensions in a3:  3\n",
      "Structure of a3:  (3, 2, 8)\n",
      "Total number of elements in a3:  48\n",
      "[[[2 1 4 4 6 4 2 1]\n",
      "  [1 2 1 6 4 3 2 6]]\n",
      "\n",
      " [[6 5 3 3 1 5 6 4]\n",
      "  [5 3 1 3 1 1 5 6]]\n",
      "\n",
      " [[5 1 4 1 5 4 1 1]\n",
      "  [2 3 6 4 5 4 6 3]]]\n"
     ]
    }
   ],
   "source": [
    "print(\"Number of dimensions in a3: \", a3.ndim)\n",
    "print(\"Structure of a3: \", a3.shape)\n",
    "print(\"Total number of elements in a3: \", a3.size)\n",
    "print(a3)"
   ]
  },
  {
   "cell_type": "markdown",
   "metadata": {
    "button": false,
    "new_sheet": false,
    "run_control": {
     "read_only": false
    }
   },
   "source": [
    "## Exercise 6a2\n",
    "\n",
    "Use the `%whos` command, with its type suffix (`ndarray`) to list details of the three arrays that we have created.\n",
    "\n",
    "Take a look at what using `?` after a variable name results in...  (Arguably not as useful as you might think/hope once you get to more complex objects.)\n"
   ]
  },
  {
   "cell_type": "code",
   "execution_count": 5,
   "metadata": {},
   "outputs": [
    {
     "name": "stdout",
     "output_type": "stream",
     "text": [
      "Variable   Type       Data/Info\n",
      "-------------------------------\n",
      "a1         ndarray    20: 20 elems, type `int32`, 80 bytes\n",
      "a2         ndarray    2x5: 10 elems, type `int32`, 40 bytes\n",
      "a3         ndarray    3x2x8: 48 elems, type `int32`, 192 bytes\n",
      "np         module     <module 'numpy' from 'c:\\<...>ges\\\\numpy\\\\__init__.py'>\n",
      "os         module     <module 'os' from 'c:\\\\Us<...>envs\\\\myenv\\\\lib\\\\os.py'>\n",
      "sys        module     <module 'sys' (built-in)>\n"
     ]
    }
   ],
   "source": [
    "%whos"
   ]
  },
  {
   "cell_type": "markdown",
   "metadata": {
    "button": false,
    "new_sheet": false,
    "run_control": {
     "read_only": false
    }
   },
   "source": [
    "## Using array indexes to access single elements\n",
    "\n",
    "Often we wish to work with a single element (or 'slice' - see next section) of the array at a time...  as such we need to feel confident about accessing elements of an array...\n"
   ]
  },
  {
   "cell_type": "code",
   "execution_count": 6,
   "metadata": {},
   "outputs": [
    {
     "data": {
      "text/plain": [
       "array([5, 6, 1, 4, 6, 2, 5, 4, 1, 3, 2, 1, 6, 4, 2, 6, 5, 1, 5, 4])"
      ]
     },
     "execution_count": 6,
     "metadata": {},
     "output_type": "execute_result"
    }
   ],
   "source": [
    "a1"
   ]
  },
  {
   "cell_type": "code",
   "execution_count": 7,
   "metadata": {},
   "outputs": [
    {
     "data": {
      "text/plain": [
       "5"
      ]
     },
     "execution_count": 7,
     "metadata": {},
     "output_type": "execute_result"
    }
   ],
   "source": [
    "# Remember that the array index (or indices) start from 0...\n",
    "a1[0]"
   ]
  },
  {
   "cell_type": "code",
   "execution_count": 8,
   "metadata": {},
   "outputs": [
    {
     "data": {
      "text/plain": [
       "4"
      ]
     },
     "execution_count": 8,
     "metadata": {},
     "output_type": "execute_result"
    }
   ],
   "source": [
    "# So to retrieve the 8th element...\n",
    "a1[7]"
   ]
  },
  {
   "cell_type": "code",
   "execution_count": 9,
   "metadata": {},
   "outputs": [
    {
     "data": {
      "text/plain": [
       "4"
      ]
     },
     "execution_count": 9,
     "metadata": {},
     "output_type": "execute_result"
    }
   ],
   "source": [
    "# We can also use negative indices to select from the end of an array.\n",
    "a1[-1]"
   ]
  },
  {
   "cell_type": "code",
   "execution_count": 10,
   "metadata": {},
   "outputs": [
    {
     "data": {
      "text/plain": [
       "5"
      ]
     },
     "execution_count": 10,
     "metadata": {},
     "output_type": "execute_result"
    }
   ],
   "source": [
    "# Though, slightly confusingly, there is no \"-0\"th item when counting backwards...\n",
    "# i.e. the 4th last element has an index of -4, while the 4th item has an index of +3  :-(\n",
    "a1[-4]"
   ]
  },
  {
   "cell_type": "markdown",
   "metadata": {
    "button": false,
    "new_sheet": false,
    "run_control": {
     "read_only": false
    }
   },
   "source": [
    "When we are dealing with an array that is larger than a single dimension (e.g. a matrix) then we can access specific values by using a comma-separated tuple (a pair in the case of a matrix, AKA \"2-D array\") of indices.\n"
   ]
  },
  {
   "cell_type": "code",
   "execution_count": 11,
   "metadata": {},
   "outputs": [
    {
     "data": {
      "text/plain": [
       "array([[1, 3, 1, 6, 3],\n",
       "       [5, 1, 5, 3, 1]])"
      ]
     },
     "execution_count": 11,
     "metadata": {},
     "output_type": "execute_result"
    }
   ],
   "source": [
    "a2"
   ]
  },
  {
   "cell_type": "code",
   "execution_count": 12,
   "metadata": {},
   "outputs": [
    {
     "data": {
      "text/plain": [
       "1"
      ]
     },
     "execution_count": 12,
     "metadata": {},
     "output_type": "execute_result"
    }
   ],
   "source": [
    "# We can access the first throw by the first player ('top-left' element) as follows -\n",
    "a2[0, 0]"
   ]
  },
  {
   "cell_type": "markdown",
   "metadata": {
    "button": false,
    "new_sheet": false,
    "run_control": {
     "read_only": false
    }
   },
   "source": [
    "## Exercise 6a3\n",
    "\n",
    "Use the appropriate tuple (pair) of indices on `a2` to select:\n",
    " - the fourth throw of the first player;\n",
    " - the second last throw of the second player (maybe look at a couple of ways to refer to this same element, including the use of a 'negative' index)\n"
   ]
  },
  {
   "cell_type": "code",
   "execution_count": 13,
   "metadata": {},
   "outputs": [
    {
     "data": {
      "text/plain": [
       "6"
      ]
     },
     "execution_count": 13,
     "metadata": {},
     "output_type": "execute_result"
    }
   ],
   "source": [
    "a2[0, 3]"
   ]
  },
  {
   "cell_type": "code",
   "execution_count": 14,
   "metadata": {},
   "outputs": [
    {
     "data": {
      "text/plain": [
       "3"
      ]
     },
     "execution_count": 14,
     "metadata": {},
     "output_type": "execute_result"
    }
   ],
   "source": [
    "a2[1, -2]"
   ]
  },
  {
   "cell_type": "markdown",
   "metadata": {
    "button": false,
    "new_sheet": false,
    "run_control": {
     "read_only": false
    }
   },
   "source": [
    "You can also use these types of indices/tuples to identify element(s) that you wish to update."
   ]
  },
  {
   "cell_type": "code",
   "execution_count": 15,
   "metadata": {},
   "outputs": [],
   "source": [
    "a2[1,4] = 6"
   ]
  },
  {
   "cell_type": "code",
   "execution_count": 16,
   "metadata": {},
   "outputs": [
    {
     "data": {
      "text/plain": [
       "array([[1, 3, 1, 6, 3],\n",
       "       [5, 1, 5, 3, 6]])"
      ]
     },
     "execution_count": 16,
     "metadata": {},
     "output_type": "execute_result"
    }
   ],
   "source": [
    "a2"
   ]
  },
  {
   "cell_type": "markdown",
   "metadata": {
    "button": false,
    "new_sheet": false,
    "run_control": {
     "read_only": false
    }
   },
   "source": [
    "But remember that, unlike lists, NumPy `array` objects have a fixed type.  In our example all elements must be of type integer (strictly `int32`), so if you try to insert a non-integer value it will be 'silently' truncated to the nearest integer (i.e. you will **not** get any sort of 'warning' message that this has taken place)."
   ]
  },
  {
   "cell_type": "code",
   "execution_count": 17,
   "metadata": {},
   "outputs": [],
   "source": [
    "a2[1,4] = 25/3         # check what happpens when you try this assignment"
   ]
  },
  {
   "cell_type": "code",
   "execution_count": 18,
   "metadata": {},
   "outputs": [
    {
     "data": {
      "text/plain": [
       "array([[1, 3, 1, 6, 3],\n",
       "       [5, 1, 5, 3, 8]])"
      ]
     },
     "execution_count": 18,
     "metadata": {},
     "output_type": "execute_result"
    }
   ],
   "source": [
    "a2"
   ]
  },
  {
   "cell_type": "code",
   "execution_count": 19,
   "metadata": {},
   "outputs": [
    {
     "ename": "ValueError",
     "evalue": "invalid literal for int() with base 10: 'a'",
     "output_type": "error",
     "traceback": [
      "\u001b[1;31m---------------------------------------------------------------------------\u001b[0m",
      "\u001b[1;31mValueError\u001b[0m                                Traceback (most recent call last)",
      "\u001b[1;32mc:\\Users\\Nikit\\Documents\\UniWork\\labwork\\nikit_QMwithAI_labWork\\CS824_Lab_6a.ipynb Cell 31\u001b[0m in \u001b[0;36m<cell line: 1>\u001b[1;34m()\u001b[0m\n\u001b[1;32m----> <a href='vscode-notebook-cell:/c%3A/Users/Nikit/Documents/UniWork/labwork/nikit_QMwithAI_labWork/CS824_Lab_6a.ipynb#Y116sZmlsZQ%3D%3D?line=0'>1</a>\u001b[0m a2[\u001b[39m1\u001b[39m, \u001b[39m4\u001b[39m] \u001b[39m=\u001b[39m \u001b[39m'\u001b[39m\u001b[39ma\u001b[39m\u001b[39m'\u001b[39m\n",
      "\u001b[1;31mValueError\u001b[0m: invalid literal for int() with base 10: 'a'"
     ]
    }
   ],
   "source": [
    "a2[1, 4] = 'a'"
   ]
  },
  {
   "cell_type": "markdown",
   "metadata": {
    "button": false,
    "new_sheet": false,
    "run_control": {
     "read_only": false
    }
   },
   "source": [
    "## 'Slices' of arrays - accessing subsets of array elements\n",
    "\n",
    "Again you may be familar with this from having used `Pandas` but make sure that both simple and more complex array slicing feels comfortable to you, as you will often wish to work with a sub-set of values...\n",
    "\n",
    "The 'slicing' syntax involves one or more colon (`:`) characters within the array reference. If we have an ndarray `A` then -\n",
    "> `A[start:stop:step]`\n",
    "\n",
    "specifies where we wish to start/stop the slice and then whether we wish all the values (step = 1) or just every `step`-th elememt. The defaults are `start=0`, `stop=size of given dimension` and `step=1`. The same syntax works for arrays of one or many dimension - but it can take a while to get your head around the syntax for >1 dimension!\n"
   ]
  },
  {
   "cell_type": "code",
   "execution_count": 20,
   "metadata": {},
   "outputs": [
    {
     "data": {
      "text/plain": [
       "array([ 0,  1,  2,  3,  4,  5,  6,  7,  8,  9, 10, 11, 12, 13, 14])"
      ]
     },
     "execution_count": 20,
     "metadata": {},
     "output_type": "execute_result"
    }
   ],
   "source": [
    "a4 = np.arange(15)\n",
    "a4"
   ]
  },
  {
   "cell_type": "code",
   "execution_count": 21,
   "metadata": {},
   "outputs": [
    {
     "data": {
      "text/plain": [
       "array([0, 1, 2])"
      ]
     },
     "execution_count": 21,
     "metadata": {},
     "output_type": "execute_result"
    }
   ],
   "source": [
    "a4[:3]         # first three elements"
   ]
  },
  {
   "cell_type": "code",
   "execution_count": 22,
   "metadata": {},
   "outputs": [
    {
     "data": {
      "text/plain": [
       "array([12, 13, 14])"
      ]
     },
     "execution_count": 22,
     "metadata": {},
     "output_type": "execute_result"
    }
   ],
   "source": [
    "a4[12:]         # elements from after index 12  (more intuitive below)"
   ]
  },
  {
   "cell_type": "code",
   "execution_count": 23,
   "metadata": {},
   "outputs": [
    {
     "data": {
      "text/plain": [
       "array([12, 13, 14])"
      ]
     },
     "execution_count": 23,
     "metadata": {},
     "output_type": "execute_result"
    }
   ],
   "source": [
    "a4[-3:]         # last three elements"
   ]
  },
  {
   "cell_type": "code",
   "execution_count": 24,
   "metadata": {},
   "outputs": [
    {
     "data": {
      "text/plain": [
       "array([14, 13, 12, 11, 10,  9,  8,  7,  6,  5,  4,  3,  2,  1,  0])"
      ]
     },
     "execution_count": 24,
     "metadata": {},
     "output_type": "execute_result"
    }
   ],
   "source": [
    "a4[::-1]        # Reversing the array"
   ]
  },
  {
   "cell_type": "code",
   "execution_count": 25,
   "metadata": {},
   "outputs": [
    {
     "data": {
      "text/plain": [
       "array([14, 13, 12, 11, 10,  9,  8,  7,  6])"
      ]
     },
     "execution_count": 25,
     "metadata": {},
     "output_type": "execute_result"
    }
   ],
   "source": [
    "a4[:5:-1]       # Reversing till the specifix index"
   ]
  },
  {
   "cell_type": "code",
   "execution_count": 26,
   "metadata": {},
   "outputs": [
    {
     "data": {
      "text/plain": [
       "array([12, 11, 10,  9,  8,  7,  6,  5,  4])"
      ]
     },
     "execution_count": 26,
     "metadata": {},
     "output_type": "execute_result"
    }
   ],
   "source": [
    "a4[12:3:-1]     # reversing a specific sub-array from the array"
   ]
  },
  {
   "cell_type": "code",
   "execution_count": 27,
   "metadata": {},
   "outputs": [
    {
     "data": {
      "text/plain": [
       "array([4, 5, 6, 7])"
      ]
     },
     "execution_count": 27,
     "metadata": {},
     "output_type": "execute_result"
    }
   ],
   "source": [
    "a4[4:8]         # a sub-set of values from the middle of the array"
   ]
  },
  {
   "cell_type": "markdown",
   "metadata": {
    "button": false,
    "new_sheet": false,
    "run_control": {
     "read_only": false
    }
   },
   "source": [
    "When the `step` value is negative the default for `start` and `stop` are switched around - i.e. the default for `start` becomes the last element and the default for `stop` the first.  This is handy when referring to an array in its reverse order, but can also be confusing at first...\n"
   ]
  },
  {
   "cell_type": "code",
   "execution_count": 28,
   "metadata": {},
   "outputs": [
    {
     "data": {
      "text/plain": [
       "array([ 0,  3,  6,  9, 12])"
      ]
     },
     "execution_count": 28,
     "metadata": {},
     "output_type": "execute_result"
    }
   ],
   "source": [
    "a4[::3]         # every third value"
   ]
  },
  {
   "cell_type": "code",
   "execution_count": 29,
   "metadata": {},
   "outputs": [
    {
     "data": {
      "text/plain": [
       "array([ 2,  5,  8, 11, 14])"
      ]
     },
     "execution_count": 29,
     "metadata": {},
     "output_type": "execute_result"
    }
   ],
   "source": [
    "a4[2::3]         # every third value, starting from the third entry"
   ]
  },
  {
   "cell_type": "code",
   "execution_count": 30,
   "metadata": {},
   "outputs": [
    {
     "data": {
      "text/plain": [
       "array([14, 13, 12, 11, 10,  9,  8,  7,  6,  5,  4,  3,  2,  1,  0])"
      ]
     },
     "execution_count": 30,
     "metadata": {},
     "output_type": "execute_result"
    }
   ],
   "source": [
    "a4[::-1]         # all elements in reverse order"
   ]
  },
  {
   "cell_type": "code",
   "execution_count": 31,
   "metadata": {},
   "outputs": [
    {
     "data": {
      "text/plain": [
       "array([9, 7, 5, 3, 1])"
      ]
     },
     "execution_count": 31,
     "metadata": {},
     "output_type": "execute_result"
    }
   ],
   "source": [
    "a4[9::-2]         # reversed list of every second element from index 9"
   ]
  },
  {
   "cell_type": "markdown",
   "metadata": {
    "button": false,
    "new_sheet": false,
    "run_control": {
     "read_only": false
    }
   },
   "source": [
    "When dealing with >1 dimension you will typically need > one group of `:` (separated by commas) for each dimension that you wish to slice...\n"
   ]
  },
  {
   "cell_type": "code",
   "execution_count": 32,
   "metadata": {},
   "outputs": [
    {
     "data": {
      "text/plain": [
       "array([[1, 3, 1, 6, 3],\n",
       "       [5, 1, 5, 3, 8]])"
      ]
     },
     "execution_count": 32,
     "metadata": {},
     "output_type": "execute_result"
    }
   ],
   "source": [
    "a2"
   ]
  },
  {
   "cell_type": "code",
   "execution_count": 33,
   "metadata": {},
   "outputs": [
    {
     "data": {
      "text/plain": [
       "array([[6],\n",
       "       [3]])"
      ]
     },
     "execution_count": 33,
     "metadata": {},
     "output_type": "execute_result"
    }
   ],
   "source": [
    "a2[:, 3:4]         # all entries from the third column"
   ]
  },
  {
   "cell_type": "code",
   "execution_count": 34,
   "metadata": {},
   "outputs": [
    {
     "data": {
      "text/plain": [
       "array([[6],\n",
       "       [3]])"
      ]
     },
     "execution_count": 34,
     "metadata": {},
     "output_type": "execute_result"
    }
   ],
   "source": [
    "a2[:2, 3:4]         # first two rows from the third column, which happens to be the same as above"
   ]
  },
  {
   "cell_type": "code",
   "execution_count": 35,
   "metadata": {},
   "outputs": [
    {
     "data": {
      "text/plain": [
       "array([[6]])"
      ]
     },
     "execution_count": 35,
     "metadata": {},
     "output_type": "execute_result"
    }
   ],
   "source": [
    "a2[:1, 3:4]         # just the first row from the third column"
   ]
  },
  {
   "cell_type": "code",
   "execution_count": 36,
   "metadata": {},
   "outputs": [
    {
     "data": {
      "text/plain": [
       "array([[1, 3, 1, 6, 3]])"
      ]
     },
     "execution_count": 36,
     "metadata": {},
     "output_type": "execute_result"
    }
   ],
   "source": [
    "a2[::2, :]         # every other row and all columns"
   ]
  },
  {
   "cell_type": "code",
   "execution_count": 37,
   "metadata": {},
   "outputs": [
    {
     "data": {
      "text/plain": [
       "array([[8, 3, 5, 1, 5],\n",
       "       [3, 6, 1, 3, 1]])"
      ]
     },
     "execution_count": 37,
     "metadata": {},
     "output_type": "execute_result"
    }
   ],
   "source": [
    "a2[::-1, ::-1]         # you can also reverse the rows and columns at the same time"
   ]
  },
  {
   "cell_type": "code",
   "execution_count": 38,
   "metadata": {},
   "outputs": [
    {
     "data": {
      "text/plain": [
       "array([[3, 6, 1, 3, 1],\n",
       "       [8, 3, 5, 1, 5]])"
      ]
     },
     "execution_count": 38,
     "metadata": {},
     "output_type": "execute_result"
    }
   ],
   "source": [
    "a2[::1, ::-1]       # reversing the column only, notice that only the matrix is flipped horizontally"
   ]
  },
  {
   "cell_type": "code",
   "execution_count": 39,
   "metadata": {},
   "outputs": [
    {
     "data": {
      "text/plain": [
       "array([[5, 1, 5, 3, 8],\n",
       "       [1, 3, 1, 6, 3]])"
      ]
     },
     "execution_count": 39,
     "metadata": {},
     "output_type": "execute_result"
    }
   ],
   "source": [
    "a2[::-1, ::1]       # reversing the rows only, notice that the matrix is flipped vertically"
   ]
  },
  {
   "cell_type": "markdown",
   "metadata": {
    "button": false,
    "new_sheet": false,
    "run_control": {
     "read_only": false
    }
   },
   "source": [
    "Quite often you may wish to select a single row (or single column) of a larger array. This is done using an **'empty slice'**...\n"
   ]
  },
  {
   "cell_type": "code",
   "execution_count": 40,
   "metadata": {},
   "outputs": [
    {
     "data": {
      "text/plain": [
       "array([1, 3, 1, 6, 3])"
      ]
     },
     "execution_count": 40,
     "metadata": {},
     "output_type": "execute_result"
    }
   ],
   "source": [
    "a2[0, :]            # the first row of a2"
   ]
  },
  {
   "cell_type": "code",
   "execution_count": 41,
   "metadata": {},
   "outputs": [
    {
     "data": {
      "text/plain": [
       "array([1, 5])"
      ]
     },
     "execution_count": 41,
     "metadata": {},
     "output_type": "execute_result"
    }
   ],
   "source": [
    "a2[:, 0]            # the first column of a2. Note that what is returned is a 1-D array and as such there is only one\n",
    "                    # row, which used to be the column...  (Arrays can take a while to get your head around!)"
   ]
  },
  {
   "cell_type": "code",
   "execution_count": 42,
   "metadata": {},
   "outputs": [
    {
     "name": "stdout",
     "output_type": "stream",
     "text": [
      "[5 1 5 3 8]\n"
     ]
    }
   ],
   "source": [
    "print(a2[1])        # in the case of accessing rows you will often see the 'empty slice' left out of the statement"
   ]
  },
  {
   "cell_type": "markdown",
   "metadata": {
    "button": false,
    "new_sheet": false,
    "run_control": {
     "read_only": false
    }
   },
   "source": [
    "## Exercise 6a4\n",
    "\n",
    "Using the 3-dimensional array (a3) we created earlier find the following:\n",
    " - all the die outcomes involved in the first game;\n",
    " - the throws made by the second player in the third game;\n",
    " - the second-last throw made by the first player in the final game;\n"
   ]
  },
  {
   "cell_type": "code",
   "execution_count": 43,
   "metadata": {},
   "outputs": [
    {
     "data": {
      "text/plain": [
       "array([[[2, 1, 4, 4, 6, 4, 2, 1],\n",
       "        [1, 2, 1, 6, 4, 3, 2, 6]],\n",
       "\n",
       "       [[6, 5, 3, 3, 1, 5, 6, 4],\n",
       "        [5, 3, 1, 3, 1, 1, 5, 6]],\n",
       "\n",
       "       [[5, 1, 4, 1, 5, 4, 1, 1],\n",
       "        [2, 3, 6, 4, 5, 4, 6, 3]]])"
      ]
     },
     "execution_count": 43,
     "metadata": {},
     "output_type": "execute_result"
    }
   ],
   "source": [
    "a3"
   ]
  },
  {
   "cell_type": "code",
   "execution_count": 44,
   "metadata": {},
   "outputs": [
    {
     "data": {
      "text/plain": [
       "array([[2, 1, 4, 4, 6, 4, 2, 1],\n",
       "       [1, 2, 1, 6, 4, 3, 2, 6]])"
      ]
     },
     "execution_count": 44,
     "metadata": {},
     "output_type": "execute_result"
    }
   ],
   "source": [
    "a3[0, :, :]     # all the die outcomes involved in the first game;"
   ]
  },
  {
   "cell_type": "code",
   "execution_count": 45,
   "metadata": {},
   "outputs": [
    {
     "data": {
      "text/plain": [
       "array([2, 3, 6, 4, 5, 4, 6, 3])"
      ]
     },
     "execution_count": 45,
     "metadata": {},
     "output_type": "execute_result"
    }
   ],
   "source": [
    "a3[2, 1, :]     # the throws made by the second player in the third game;"
   ]
  },
  {
   "cell_type": "code",
   "execution_count": 46,
   "metadata": {},
   "outputs": [
    {
     "data": {
      "text/plain": [
       "array([[[1]]])"
      ]
     },
     "execution_count": 46,
     "metadata": {},
     "output_type": "execute_result"
    }
   ],
   "source": [
    "a3[2:, 0:1, 6:7]    # the second-last throw made by the first player in the final game;"
   ]
  },
  {
   "cell_type": "markdown",
   "metadata": {
    "button": false,
    "new_sheet": false,
    "run_control": {
     "read_only": false
    }
   },
   "source": [
    "## Exercise 6a5 ('extra' challenge)\n",
    "\n",
    "This 'extra' element is really just for those who have already used arrays a fair bit in Python - i.e. you skimming through the material above as it felt very basic to you. If you are in that catergory you might want to try the little exercise below; but otherwise please move on with the rest of the material (you can always come back to this if you have a bit of time at the end of the lab).\n",
    "\n",
    "If you plan to tackle the exercise below you will need to check out the NumPy `sum` function (and maybe others).\n",
    "  - Rules_A: Assume that the winner of each game is the player whose total over the 8 throws is highest;\n",
    "  - Rules_B: Assume that you get one point if on a given roll you score higher than your opponent and that the player with the most points after 8 rolls wins;\n",
    " - for either set of rules your function should be able to take a set of games and say which player was the overall winner (i.e. most games won).\n",
    "\n",
    "Rather than just using the 3 games we stored in `a3` you could generate a scenario of, say, 50 random games and explore: does each set of rules tend to result in a similar set of outcomes?; which set of rules results in more drawn games?; etc.\n"
   ]
  },
  {
   "cell_type": "code",
   "execution_count": 47,
   "metadata": {},
   "outputs": [
    {
     "data": {
      "text/plain": [
       "array([[[2, 1, 4, 4, 6, 4, 2, 1],\n",
       "        [1, 2, 1, 6, 4, 3, 2, 6]],\n",
       "\n",
       "       [[6, 5, 3, 3, 1, 5, 6, 4],\n",
       "        [5, 3, 1, 3, 1, 1, 5, 6]],\n",
       "\n",
       "       [[5, 1, 4, 1, 5, 4, 1, 1],\n",
       "        [2, 3, 6, 4, 5, 4, 6, 3]]])"
      ]
     },
     "execution_count": 47,
     "metadata": {},
     "output_type": "execute_result"
    }
   ],
   "source": [
    "a3"
   ]
  },
  {
   "cell_type": "code",
   "execution_count": 48,
   "metadata": {},
   "outputs": [
    {
     "name": "stdout",
     "output_type": "stream",
     "text": [
      "Sum of arr(axis = 0) :  [[13  7 11  8 12 13  9  6]\n",
      " [ 8  8  8 13 10  8 13 15]]\n",
      "Sum of arr(axis = 1) :  [[ 3  3  5 10 10  7  4  7]\n",
      " [11  8  4  6  2  6 11 10]\n",
      " [ 7  4 10  5 10  8  7  4]]\n",
      "Sum of arr(axis = 2) :  [[24 25]\n",
      " [33 25]\n",
      " [22 33]]\n"
     ]
    }
   ],
   "source": [
    "print(\"Sum of arr(axis = 0) : \", np.sum(a3, axis = 0))\n",
    "print(\"Sum of arr(axis = 1) : \", np.sum(a3, axis = 1))\n",
    "print(\"Sum of arr(axis = 2) : \", np.sum(a3, axis = 2))"
   ]
  },
  {
   "cell_type": "code",
   "execution_count": null,
   "metadata": {},
   "outputs": [
    {
     "name": "stdout",
     "output_type": "stream",
     "text": [
      "(3, 2)\n"
     ]
    }
   ],
   "source": [
    "# Total scores of eachplayers in each game\n",
    "total_score = np.sum(a3, axis=2)\n",
    "for game in total_score:\n",
    "    for i_scores in game:\n",
    "        "
   ]
  },
  {
   "cell_type": "markdown",
   "metadata": {
    "button": false,
    "new_sheet": false,
    "run_control": {
     "read_only": false
    }
   },
   "source": [
    "## 'Sub-arrays' are views (NOT copies) of the array they relate to\n",
    "\n",
    "This can be VERY confusing at first!  When you take a 'slice' of an array it is a *view* rather than a *copy* of the underlying data. This is different from Python lists, where taking a slice from a list will give you a copy of that portion of the list...  this is NOT the case (by default) for arrays.\n"
   ]
  },
  {
   "cell_type": "code",
   "execution_count": null,
   "metadata": {},
   "outputs": [],
   "source": [
    "print(a2)             # let's remind ourselves of the contents"
   ]
  },
  {
   "cell_type": "code",
   "execution_count": null,
   "metadata": {},
   "outputs": [],
   "source": [
    "sub_a2 = a2[:,1:4]    # take a 2X3 sub-array from a2 (both rows from the 2nd to the 4th column)\n",
    "print(sub_a2)"
   ]
  },
  {
   "cell_type": "code",
   "execution_count": null,
   "metadata": {},
   "outputs": [],
   "source": [
    "sub_a2[0, 0] = 55     # alter one value in the sub-array and then look back at the original\n",
    "print(sub_a2)"
   ]
  },
  {
   "cell_type": "code",
   "execution_count": null,
   "metadata": {},
   "outputs": [],
   "source": [
    "print(a2)            # notice that the corresponding entry has been updated"
   ]
  },
  {
   "cell_type": "markdown",
   "metadata": {
    "button": false,
    "new_sheet": false,
    "run_control": {
     "read_only": false
    }
   },
   "source": [
    "This can be very useful when processing lots of data as it means that you don't need to make copies, operate on sub-sets of data, and then paste the results back into the main array (the changes will already have been made).\n",
    "\n",
    "Of course you also need to be aware the this IS the default behaviour!  Also, it is sometimes the case that you actually *want* a copy of the data and do not want to alter the original values. To do this you need to use the `copy()` method. \n",
    "\n",
    "\n",
    "## Exercise 6a6\n",
    "Repeat the operations above but this time make a change only to the `sub_a2_copy` object...  check that when you modified the sub-array on this occasion that it did NOT alter the array to which the sub-array was referring.\n"
   ]
  },
  {
   "cell_type": "code",
   "execution_count": null,
   "metadata": {},
   "outputs": [],
   "source": [
    "print(a2)                        # check contents of our existing a2"
   ]
  },
  {
   "cell_type": "markdown",
   "metadata": {
    "button": false,
    "new_sheet": false,
    "run_control": {
     "read_only": false
    }
   },
   "source": [
    "There are many other `ndarray` operations, including:\n",
    " - reshaping\n",
    " - concatenation\n",
    " - splitting\n",
    " - etc\n",
    " \n",
    "For some of these there are also 'special' versions of the operation for 2-D arrays (dating back to the 'special' treatment of the `matrix` data type), so that the more generic `np.concatenate` has the `np.vstack` and `np.hstack` when you want to 'stack' (~ `concatenate`) arrays in a vertical or horizontal direction.\n",
    "\n",
    "We don't really have time to get into these (or other) array functions here, but we may encounter some as we move more explicitly to think about how to use arrays to implement vector algebra. (**Lab_6b**)\n"
   ]
  }
 ],
 "metadata": {
  "kernelspec": {
   "display_name": "Python 3.9.13 ('myenv')",
   "language": "python",
   "name": "python3"
  },
  "language_info": {
   "codemirror_mode": {
    "name": "ipython",
    "version": 3
   },
   "file_extension": ".py",
   "mimetype": "text/x-python",
   "name": "python",
   "nbconvert_exporter": "python",
   "pygments_lexer": "ipython3",
   "version": "3.9.13"
  },
  "vscode": {
   "interpreter": {
    "hash": "896f6dcb700a20d36385ce797b4923884edd68afc9b0efe6db22b2f21ab36382"
   }
  }
 },
 "nbformat": 4,
 "nbformat_minor": 1
}
