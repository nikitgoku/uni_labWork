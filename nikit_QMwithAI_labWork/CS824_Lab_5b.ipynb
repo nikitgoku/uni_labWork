{
 "cells": [
  {
   "cell_type": "markdown",
   "metadata": {},
   "source": [
    "<div style=\"text-align: right\"> CS824 - Lab 5b (2022) </div>\n",
    "\n",
    "# Explorations with the 'Swedish Fish Inc'\n",
    "\n",
    "### Rasmus Bååth (adapted for Python by Christophe Carvenius, with some modifications by Crawford Revie)\n",
    "\n",
    "These exercises are related to some examples of Bayesian Data Analysis in a series of videos by Ramsus Bååth that are referenced on the MyPlace pages. You should really watch the first 20 minutes of his video, \"What is Bayes?\" before you take a stab at the first example below to get a sense for what we are trying to achieve.\n"
   ]
  },
  {
   "cell_type": "markdown",
   "metadata": {},
   "source": [
    "Swedish Fish Incorporated is the largest Swedish company delivering fish by mail order. They are now trying to get into the lucrative Danish market by selling one year salmon subscriptions. The marketing department have run a pilot study and set up a marketing approach, that we will refer to as \"Method A\":\n",
    "\n",
    "**Method A:** Mail out a colorful brochure that invites people to sign up for the one year salmon subscription.\n",
    "\n",
    "The marketing department sent out 16 brochures using Method A. Six Danes who received the brochure signed up for a salmon subscription; the marketing department now wants to know, how 'good' is Method A?\n"
   ]
  },
  {
   "cell_type": "markdown",
   "metadata": {},
   "source": [
    "### We will use a Bayesian model to address this question. This will help us answer questions like, \"what might the expected rate of sign-up be if Method A was used on a much larger number of people?\"\n",
    "\n",
    "A few things to note:\n",
    "\n",
    "**Note 1:** The answer is not a single number but a distribution over probable rates of sign-up.\n",
    "\n",
    "**Note 2:** We will use a simple 'generative model', which here will be the Binomial distribution. We can sample this within Python using the `np.random.binomial(n, p, size)` function. The binomial distribution simulates the process n times: The number of `successes` when performing `size` trials, where the probability of `success` is p.\n",
    "\n",
    "**Note 3:** A commonly used prior for the unknown probability of success in a Binomial distribution is a `uniform` distribution from 0 to 1. You can draw from this distribution by running `np.random.uniform(0, 1, size = n_draws)`\n",
    "\n",
    "**Note 4:** I have provided some code below, but it is only one of a number of ways to tackle this problem. Hopefully it can also provide a useful 'scaffold' for some of the extensions that you are asked to build in later exercises.\n"
   ]
  },
  {
   "cell_type": "code",
   "execution_count": 16,
   "metadata": {},
   "outputs": [
    {
     "data": {
      "text/plain": [
       "Text(0.5, 1.0, 'With 10000 random draws')"
      ]
     },
     "execution_count": 16,
     "metadata": {},
     "output_type": "execute_result"
    },
    {
     "data": {
      "image/png": "[encoded data removed]",
      "text/plain": [
       "<Figure size 1800x360 with 2 Axes>"
      ]
     },
     "metadata": {
      "needs_background": "light"
     },
     "output_type": "display_data"
    }
   ],
   "source": [
    "# Import some useful Python libraries\n",
    "\n",
    "import pandas as pd\n",
    "import numpy as np\n",
    "import matplotlib.pyplot as plt\n",
    "\n",
    "# Number of random draws from the prior   (start with 1,000 - later you can try different options)\n",
    "n_draw = 1000\n",
    "\n",
    "# Defining and drawing from the prior distribution \n",
    "prior_rate   = pd.Series(np.random.uniform(0, 1, size = n_draw)) \n",
    "prior_rate_2 = pd.Series(np.random.uniform(0, 1, size = 10000))\n",
    "\n",
    "# It's always good to eyeball the prior to make sure it looks ok.\n",
    "# prior_rate.hist()\n",
    "f = plt.figure(figsize=(25,5))\n",
    "axes = plt.subplot(1, 2, 1)\n",
    "plt.hist(prior_rate, bins=10)\n",
    "plt.title('With 1000 random draws')\n",
    "\n",
    "axes = plt.subplot(1, 2, 2)\n",
    "plt.hist(prior_rate_2, bins=10)\n",
    "plt.title('With 10000 random draws')"
   ]
  },
  {
   "cell_type": "code",
   "execution_count": 17,
   "metadata": {},
   "outputs": [
    {
     "data": {
      "text/plain": [
       "Text(0.5, 1.0, 'With 100000 random draws')"
      ]
     },
     "execution_count": 17,
     "metadata": {},
     "output_type": "execute_result"
    },
    {
     "data": {
      "image/png": "[encoded data removed]",
      "text/plain": [
       "<Figure size 1080x360 with 2 Axes>"
      ]
     },
     "metadata": {
      "needs_background": "light"
     },
     "output_type": "display_data"
    }
   ],
   "source": [
    "prior_rate_3 = pd.Series(np.random.uniform(0, 1, size = 50000))\n",
    "prior_rate_4 = pd.Series(np.random.uniform(0, 1, size = 100000))\n",
    "\n",
    "f = plt.figure(figsize=(15,5))\n",
    "\n",
    "axes = plt.subplot(1, 2, 1)\n",
    "plt.hist(prior_rate_4, bins=10)\n",
    "plt.title('With 50000 random draws')\n",
    "\n",
    "axes = plt.subplot(1, 2, 2)\n",
    "plt.hist(prior_rate_4, bins=10)\n",
    "plt.title('With 100000 random draws')"
   ]
  },
  {
   "cell_type": "markdown",
   "metadata": {},
   "source": [
    "#### Running over a larger set of trials (draws)\n",
    "\n",
    "Your histogram may look a bit 'staggered' so you may wish to set the number of draws to 10,000 and see how things look.\n"
   ]
  },
  {
   "cell_type": "markdown",
   "metadata": {},
   "source": [
    "### Turning a prior into a posterior\n",
    "\n",
    "We now have our prior distribution - an 'uninformative' uniform distribution in the first instance. We are now ready to generate a posterior distribution from this, using our 'generative' model, which in this case is a simple `Binomial` model that returns the number of `successes` (out of 16) for various p-values, as defined in our `prior`.\n"
   ]
  },
  {
   "cell_type": "code",
   "execution_count": 5,
   "metadata": {},
   "outputs": [
    {
     "data": {
      "text/plain": [
       "<AxesSubplot:>"
      ]
     },
     "execution_count": 5,
     "metadata": {},
     "output_type": "execute_result"
    },
    {
     "data": {
      "image/png": "[encoded data removed]",
      "text/plain": [
       "<Figure size 432x288 with 1 Axes>"
      ]
     },
     "metadata": {
      "needs_background": "light"
     },
     "output_type": "display_data"
    }
   ],
   "source": [
    "# Defining the generative model\n",
    "def gen_model(prob):\n",
    "    return(np.random.binomial(16, prob))\n",
    "\n",
    "\n",
    "# A list into which we will collect the outputs from our generative model\n",
    "subscribers = list()\n",
    "\n",
    "# Simulating the data (using the 'prior' set up on the last cell)\n",
    "for p in prior_rate:\n",
    "    subscribers.append(gen_model(p))\n",
    "\n",
    "    \n",
    "# Now we want to compare the outputs from the generative model with the data we actually observed.\n",
    "\n",
    "# Observed data in our marketing exerise with 16 mailed out brochures\n",
    "observed_data = 6\n",
    "\n",
    "# Here we apply a filter so that we only end up with the draws that match our data.\n",
    "# There may be some new Python commands here, so you may wish to look them up in the documentation.\n",
    "\n",
    "post_rate = prior_rate[list(map(lambda x: x == observed_data, subscribers))]\n",
    "\n",
    "# Eyeball the posterior\n",
    "post_rate.hist()  \n"
   ]
  },
  {
   "cell_type": "code",
   "execution_count": 6,
   "metadata": {},
   "outputs": [
    {
     "name": "stdout",
     "output_type": "stream",
     "text": [
      "Number of draws left: 69, Posterior mean: 0.402, Posterior median: 0.414, Posterior 95% quantile interval: 0.219-0.582\n"
     ]
    },
    {
     "data": {
      "image/png": "[encoded data removed]",
      "text/plain": [
       "<Figure size 432x288 with 1 Axes>"
      ]
     },
     "metadata": {
      "needs_background": "light"
     },
     "output_type": "display_data"
    }
   ],
   "source": [
    "# After the filtering we don't have that many draws left. \n",
    "# As a rule of thumb we should aim for >1000 draws to get an more informative summary.\n",
    "\n",
    "# So go back to the 'prior' stage and increase the number of initial draws to 10,000 or even 50,000.\n",
    "\n",
    "# New posterior\n",
    "post_rate.hist()\n",
    "\n",
    "# With a larger sample we can also summarize the posterior, where a common summary would be to take the mean\n",
    "# or the median posterior, as well as the 95% quantile interval.\n",
    "\n",
    "print('Number of draws left: %d, Posterior mean: %.3f, Posterior median: %.3f, Posterior 95%% quantile interval: %.3f-%.3f' % \n",
    "      (len(post_rate), post_rate.mean(), post_rate.median(), post_rate.quantile(.025), post_rate.quantile(.975)))\n",
    "\n"
   ]
  },
  {
   "cell_type": "markdown",
   "metadata": {},
   "source": [
    "### Question 1: What’s the probability that Method A is better than telemarketing? (SUBMIT)\n",
    "----------------\n",
    "So marketing have told us that the rate of sign-up would be 20% if salmon subscribers were gained by a telemarketing campaign instead (to us it’s very unclear where marketing got this very precise number from). So given the model and the data that we developed in the last question, what’s the probability that method A has a higher rate of sign-up than telemarketing?\n",
    "\n",
    "**Hint 1:** If you have a vector of samples representing a probability distribution, which you should have from the last question, calculating the amount of probability above a certain value is done by simply *counting* the number of samples above that value and dividing by the total number of samples.\n",
    "\n",
    "**Hint 2:** The answer to this question only requires a single line of code ;-)\n"
   ]
  },
  {
   "cell_type": "markdown",
   "metadata": {},
   "source": [
    "### Question 2: If Method A was used on 500 people what would be the likely number of sign-ups? (SUBMIT)\n",
    "--------------\n",
    "\n",
    "**Hint 1:** The answer is *not* a single number but a *distribution* over the probable number of sign-ups.\n",
    "\n",
    "**Hint 2:** As before, the Binomial distribution is a good candidate for how many people who might sign up out of the 500 possible.\n",
    "\n",
    "**Hint 3:** Make sure you don’t “throw away” uncertainty, for example by using a summary of the posterior distribution calculated in the first part of the exercise. Try to find a way to use the full original posterior sample!\n",
    "\n",
    "**Hint 4:** The general pattern when calculating “derivatives” of posterior samples is to go through the values one-by-one, and perform a transformation (say, plugging in the value in a Binomial distribution), and collect the new values in a vector.\n"
   ]
  },
  {
   "cell_type": "markdown",
   "metadata": {},
   "source": [
    "### Question 3, In his second video Rasmus looks at comparing Method A and Method B, and also introduces a more 'informed' prior (based on the CEO's views). Extend your example to deal with these extensions. (SUBMIT with some comments.)\n",
    "--------------\n",
    "\n",
    "**Comment 1:** Reflect on the Method A versus Method B outcomes.\n",
    "\n",
    "**Comment 2:** You don't have to chose the `Beta` distribution that Rasmus chose for his CEO's 'informed' prior, but if you chose an alternative distribution you should reflect on how this selection has altered your output.\n"
   ]
  },
  {
   "cell_type": "markdown",
   "metadata": {},
   "source": [
    "### Question 4. Again in the second video Rasmus looks at how the posterior distributions for Method A and Method B can be directly used to compare costs and profits for each approach. Explore this - you can use whatever costs you feel might be interesting - and provide some reflections. (SUBMIT)\n",
    "--------------\n"
   ]
  }
 ],
 "metadata": {
  "kernelspec": {
   "display_name": "Python 3.10.8 64-bit (microsoft store)",
   "language": "python",
   "name": "python3"
  },
  "language_info": {
   "codemirror_mode": {
    "name": "ipython",
    "version": 3
   },
   "file_extension": ".py",
   "mimetype": "text/x-python",
   "name": "python",
   "nbconvert_exporter": "python",
   "pygments_lexer": "ipython3",
   "version": "3.10.8"
  },
  "vscode": {
   "interpreter": {
    "hash": "8dabaf40d57ef3179b337d32c92b370fecaf8760e3cbe0090b9792ec52fc49b0"
   }
  }
 },
 "nbformat": 4,
 "nbformat_minor": 1
}
